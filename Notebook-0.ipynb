{
    "metadata": {
        "kernelspec": {
            "name": "SQL",
            "display_name": "SQL",
            "language": "sql"
        },
        "language_info": {
            "name": "sql",
            "version": ""
        }
    },
    "nbformat_minor": 2,
    "nbformat": 4,
    "cells": [
        {
            "cell_type": "code",
            "source": [
                "ALTER AVAILABILITY GROUP aoag MODIFY REPLICA ON 'SQL2'\r\n",
                "   WITH (\r\n",
                "        AVAILABILITY_MODE = SYNCHRONOUS_COMMIT\r\n",
                "        )\r\n",
                "ALTER AVAILABILITY GROUP aoag MODIFY REPLICA ON 'SQL2'\r\n",
                "   WITH (\r\n",
                "\t\tFAILOVER_MODE = MANUAL\r\n",
                "        )\r\n",
                "\r\n",
                "GO"
            ],
            "metadata": {},
            "outputs": [],
            "execution_count": 0
        },
        {
            "cell_type": "code",
            "source": [
                "--use db1\r\n",
                "\r\n",
                "--select * from sys.sysobjects where name like '%hadr%'\r\n",
                "--select 'select * from sys.'+name from sys.sysobjects where name like '%hadr%'\r\n",
                "\r\n",
                "select * from sys.dm_hadr_instance_node_map\r\n",
                "\r\n",
                "select * from sys.dm_hadr_cluster\r\n",
                "\r\n",
                "select * from sys.dm_hadr_ag_threads\r\n",
                "\r\n",
                "select * from sys.dm_hadr_name_id_map\r\n",
                "\r\n",
                "select * from sys.dm_hadr_availability_replica_states\r\n",
                "\r\n",
                "select * from sys.dm_hadr_availability_group_states\r\n",
                "\r\n",
                "select sys.fn_hadr_backup_is_preferred_replica('db121')\r\n",
                "\r\n",
                "select * from sys.dm_hadr_physical_seeding_stats\r\n",
                "\r\n",
                "select sys.fn_hadr_is_primary_replica('db12')\r\n",
                "\r\n",
                "select * from sys.dm_hadr_cluster_members\r\n",
                "\r\n",
                "select * from sys.dm_hadr_availability_replica_cluster_states\r\n",
                "\r\n",
                "select * from sys.dm_hadr_auto_page_repair\r\n",
                "\r\n",
                "--select sys.fn_hadr_is_same_replica('db1')\r\n",
                "\r\n",
                "select * from sys.dm_hadr_availability_replica_cluster_nodes\r\n",
                "\r\n",
                "--select * from sys.fn_hadr_distributed_ag_database_replica(0x,0x)\r\n",
                "\r\n",
                "select * from sys.dm_hadr_cluster_networks\r\n",
                "\r\n",
                "select * from sys.dm_hadr_db_threads\r\n",
                "\r\n",
                "--select * from sys.fn_hadr_distributed_ag_replica(0x,0x)\r\n",
                "\r\n",
                "select * from sys.dm_hadr_database_replica_states\r\n",
                "\r\n",
                "select * from sys.dm_hadr_database_replica_cluster_states --truncationlsn\r\n",
                "\r\n",
                "select * from sys.dm_hadr_automatic_seeding\r\n",
                "-------\r\n",
                "--select 'select * from sys.'+name from sys.sysobjects where name like '%avail%'\r\n",
                "\r\n",
                "select * from sys.availability_groups_cluster\r\n",
                "\r\n",
                "select * from sys.availability_read_only_routing_lists\r\n",
                "\r\n",
                "select * from sys.availability_replicas\r\n",
                "\r\n",
                "select * from sys.availability_groups\r\n",
                "\r\n",
                "select * from sys.dm_hadr_availability_replica_states\r\n",
                "\r\n",
                "select * from sys.dm_hadr_availability_group_states\r\n",
                "\r\n",
                "select * from sys.dm_hadr_availability_replica_cluster_states\r\n",
                "\r\n",
                "select * from sys.dm_hadr_availability_replica_cluster_nodes\r\n",
                "\r\n",
                "select * from sys.availability_databases_cluster\r\n",
                "\r\n",
                "select * from sys.availability_group_listeners\r\n",
                "\r\n",
                "exec [sys].[sp_server_diagnostics]\r\n",
                "--sp_availability_group_command_internal\r\n",
                "\r\n",
                "--exec sys.xp_availablemedia\r\n",
                "\r\n",
                "select * from sys.availability_group_listener_ip_addresses\r\n",
                "\r\n",
                "--exec sys.sp_MSdistributoravailable\r\n",
                "-------------------\r\n",
                "GO\r\n",
                "select * from sys.sysobjects where name like '%perf%'\r\n",
                "select * from sys.dm_os_performance_counters where object_name like '%repl%'\r\n",
                "\r\n",
                ""
            ],
            "metadata": {},
            "outputs": [
                {
                    "output_type": "execute_result",
                    "metadata": {},
                    "execution_count": 4,
                    "data": {
                        "application/vnd.dataresource+json": {
                            "schema": {
                                "fields": [
                                    {
                                        "name": "replica_id"
                                    },
                                    {
                                        "name": "group_database_id"
                                    },
                                    {
                                        "name": "database_name"
                                    },
                                    {
                                        "name": "is_failover_ready"
                                    },
                                    {
                                        "name": "is_pending_secondary_suspend"
                                    },
                                    {
                                        "name": "is_database_joined"
                                    },
                                    {
                                        "name": "recovery_lsn"
                                    },
                                    {
                                        "name": "truncation_lsn"
                                    }
                                ]
                            },
                            "data": [
                                {
                                    "0": "7cd0e155-e578-4984-b55d-9657a0e40e82",
                                    "1": "0ccdb494-5d03-4896-81b9-752c1e5fa477",
                                    "2": "db2",
                                    "3": "1",
                                    "4": "0",
                                    "5": "1",
                                    "6": "4294967295429496729500001",
                                    "7": "34000000015700001"
                                },
                                {
                                    "0": "7cd0e155-e578-4984-b55d-9657a0e40e82",
                                    "1": "8afaddc1-0427-40a0-8059-37e0d409994f",
                                    "2": "db1",
                                    "3": "1",
                                    "4": "0",
                                    "5": "1",
                                    "6": "4294967295429496729500001",
                                    "7": "34000000015700001"
                                },
                                {
                                    "0": "69c1bc06-4f46-45b7-9d2e-1ba3033d4fd0",
                                    "1": "0ccdb494-5d03-4896-81b9-752c1e5fa477",
                                    "2": "db2",
                                    "3": "1",
                                    "4": "0",
                                    "5": "1",
                                    "6": "4294967295429496729500001",
                                    "7": "34000000015700001"
                                },
                                {
                                    "0": "69c1bc06-4f46-45b7-9d2e-1ba3033d4fd0",
                                    "1": "8afaddc1-0427-40a0-8059-37e0d409994f",
                                    "2": "db1",
                                    "3": "1",
                                    "4": "0",
                                    "5": "1",
                                    "6": "4294967295429496729500001",
                                    "7": "34000000015700001"
                                }
                            ]
                        },
                        "text/html": "<table><tr><th>replica_id</th><th>group_database_id</th><th>database_name</th><th>is_failover_ready</th><th>is_pending_secondary_suspend</th><th>is_database_joined</th><th>recovery_lsn</th><th>truncation_lsn</th></tr><tr><td>7cd0e155-e578-4984-b55d-9657a0e40e82</td><td>0ccdb494-5d03-4896-81b9-752c1e5fa477</td><td>db2</td><td>1</td><td>0</td><td>1</td><td>4294967295429496729500001</td><td>34000000015700001</td></tr><tr><td>7cd0e155-e578-4984-b55d-9657a0e40e82</td><td>8afaddc1-0427-40a0-8059-37e0d409994f</td><td>db1</td><td>1</td><td>0</td><td>1</td><td>4294967295429496729500001</td><td>34000000015700001</td></tr><tr><td>69c1bc06-4f46-45b7-9d2e-1ba3033d4fd0</td><td>0ccdb494-5d03-4896-81b9-752c1e5fa477</td><td>db2</td><td>1</td><td>0</td><td>1</td><td>4294967295429496729500001</td><td>34000000015700001</td></tr><tr><td>69c1bc06-4f46-45b7-9d2e-1ba3033d4fd0</td><td>8afaddc1-0427-40a0-8059-37e0d409994f</td><td>db1</td><td>1</td><td>0</td><td>1</td><td>4294967295429496729500001</td><td>34000000015700001</td></tr></table>"
                    }
                },
                {
                    "output_type": "execute_result",
                    "metadata": {},
                    "execution_count": 4,
                    "data": {
                        "application/vnd.dataresource+json": {
                            "schema": {
                                "fields": [
                                    {
                                        "name": "start_time"
                                    },
                                    {
                                        "name": "completion_time"
                                    },
                                    {
                                        "name": "ag_id"
                                    },
                                    {
                                        "name": "ag_db_id"
                                    },
                                    {
                                        "name": "ag_remote_replica_id"
                                    },
                                    {
                                        "name": "operation_id"
                                    },
                                    {
                                        "name": "is_source"
                                    },
                                    {
                                        "name": "current_state"
                                    },
                                    {
                                        "name": "performed_seeding"
                                    },
                                    {
                                        "name": "failure_state"
                                    },
                                    {
                                        "name": "failure_state_desc"
                                    },
                                    {
                                        "name": "error_code"
                                    },
                                    {
                                        "name": "number_of_attempts"
                                    }
                                ]
                            },
                            "data": []
                        },
                        "text/html": "<table><tr><th>start_time</th><th>completion_time</th><th>ag_id</th><th>ag_db_id</th><th>ag_remote_replica_id</th><th>operation_id</th><th>is_source</th><th>current_state</th><th>performed_seeding</th><th>failure_state</th><th>failure_state_desc</th><th>error_code</th><th>number_of_attempts</th></tr></table>"
                    }
                },
                {
                    "output_type": "display_data",
                    "data": {
                        "text/html": "(2 rows affected)"
                    },
                    "metadata": {}
                },
                {
                    "output_type": "display_data",
                    "data": {
                        "text/html": "(1 row affected)"
                    },
                    "metadata": {}
                },
                {
                    "output_type": "display_data",
                    "data": {
                        "text/html": "(1 row affected)"
                    },
                    "metadata": {}
                },
                {
                    "output_type": "display_data",
                    "data": {
                        "text/html": "(1 row affected)"
                    },
                    "metadata": {}
                },
                {
                    "output_type": "display_data",
                    "data": {
                        "text/html": "(1 row affected)"
                    },
                    "metadata": {}
                },
                {
                    "output_type": "display_data",
                    "data": {
                        "text/html": "(1 row affected)"
                    },
                    "metadata": {}
                },
                {
                    "output_type": "display_data",
                    "data": {
                        "text/html": "(1 row affected)"
                    },
                    "metadata": {}
                },
                {
                    "output_type": "display_data",
                    "data": {
                        "text/html": "(0 rows affected)"
                    },
                    "metadata": {}
                },
                {
                    "output_type": "display_data",
                    "data": {
                        "text/html": "(1 row affected)"
                    },
                    "metadata": {}
                },
                {
                    "output_type": "display_data",
                    "data": {
                        "text/html": "(3 rows affected)"
                    },
                    "metadata": {}
                },
                {
                    "output_type": "display_data",
                    "data": {
                        "text/html": "(2 rows affected)"
                    },
                    "metadata": {}
                },
                {
                    "output_type": "display_data",
                    "data": {
                        "text/html": "(0 rows affected)"
                    },
                    "metadata": {}
                },
                {
                    "output_type": "display_data",
                    "data": {
                        "text/html": "(2 rows affected)"
                    },
                    "metadata": {}
                },
                {
                    "output_type": "display_data",
                    "data": {
                        "text/html": "(2 rows affected)"
                    },
                    "metadata": {}
                },
                {
                    "output_type": "display_data",
                    "data": {
                        "text/html": "(2 rows affected)"
                    },
                    "metadata": {}
                },
                {
                    "output_type": "display_data",
                    "data": {
                        "text/html": "(2 rows affected)"
                    },
                    "metadata": {}
                },
                {
                    "output_type": "display_data",
                    "data": {
                        "text/html": "(4 rows affected)"
                    },
                    "metadata": {}
                },
                {
                    "output_type": "display_data",
                    "data": {
                        "text/html": "(0 rows affected)"
                    },
                    "metadata": {}
                },
                {
                    "output_type": "display_data",
                    "data": {
                        "text/html": "(1 row affected)"
                    },
                    "metadata": {}
                },
                {
                    "output_type": "display_data",
                    "data": {
                        "text/html": "(0 rows affected)"
                    },
                    "metadata": {}
                },
                {
                    "output_type": "display_data",
                    "data": {
                        "text/html": "(2 rows affected)"
                    },
                    "metadata": {}
                },
                {
                    "output_type": "display_data",
                    "data": {
                        "text/html": "(1 row affected)"
                    },
                    "metadata": {}
                },
                {
                    "output_type": "display_data",
                    "data": {
                        "text/html": "(1 row affected)"
                    },
                    "metadata": {}
                },
                {
                    "output_type": "display_data",
                    "data": {
                        "text/html": "(1 row affected)"
                    },
                    "metadata": {}
                },
                {
                    "output_type": "display_data",
                    "data": {
                        "text/html": "(2 rows affected)"
                    },
                    "metadata": {}
                },
                {
                    "output_type": "display_data",
                    "data": {
                        "text/html": "(2 rows affected)"
                    },
                    "metadata": {}
                },
                {
                    "output_type": "display_data",
                    "data": {
                        "text/html": "(2 rows affected)"
                    },
                    "metadata": {}
                },
                {
                    "output_type": "display_data",
                    "data": {
                        "text/html": "(1 row affected)"
                    },
                    "metadata": {}
                },
                {
                    "output_type": "display_data",
                    "data": {
                        "text/html": "(5 rows affected)"
                    },
                    "metadata": {}
                },
                {
                    "output_type": "display_data",
                    "data": {
                        "text/html": " "
                    },
                    "metadata": {}
                },
                {
                    "output_type": "display_data",
                    "data": {
                        "text/html": "(1 row affected)"
                    },
                    "metadata": {}
                },
                {
                    "output_type": "display_data",
                    "data": {
                        "text/html": "(3 rows affected)"
                    },
                    "metadata": {}
                },
                {
                    "output_type": "execute_result",
                    "metadata": {},
                    "execution_count": 5,
                    "data": {
                        "application/vnd.dataresource+json": {
                            "schema": {
                                "fields": [
                                    {
                                        "name": "ag_resource_id"
                                    },
                                    {
                                        "name": "instance_name"
                                    },
                                    {
                                        "name": "node_name"
                                    }
                                ]
                            },
                            "data": [
                                {
                                    "0": "b58fd117-4894-40a5-8bb5-c89f63cfcbd6",
                                    "1": "SQL2",
                                    "2": "sql2"
                                },
                                {
                                    "0": "b58fd117-4894-40a5-8bb5-c89f63cfcbd6",
                                    "1": "SQL1",
                                    "2": "sql1"
                                }
                            ]
                        },
                        "text/html": "<table><tr><th>ag_resource_id</th><th>instance_name</th><th>node_name</th></tr><tr><td>b58fd117-4894-40a5-8bb5-c89f63cfcbd6</td><td>SQL2</td><td>sql2</td></tr><tr><td>b58fd117-4894-40a5-8bb5-c89f63cfcbd6</td><td>SQL1</td><td>sql1</td></tr></table>"
                    }
                },
                {
                    "output_type": "display_data",
                    "data": {
                        "text/html": "(90 rows affected)"
                    },
                    "metadata": {}
                },
                {
                    "output_type": "display_data",
                    "data": {
                        "text/html": "Total execution time: 00:00:06.221"
                    },
                    "metadata": {}
                },
                {
                    "output_type": "execute_result",
                    "metadata": {},
                    "execution_count": 5,
                    "data": {
                        "application/vnd.dataresource+json": {
                            "schema": {
                                "fields": [
                                    {
                                        "name": "cluster_name"
                                    },
                                    {
                                        "name": "quorum_type"
                                    },
                                    {
                                        "name": "quorum_type_desc"
                                    },
                                    {
                                        "name": "quorum_state"
                                    },
                                    {
                                        "name": "quorum_state_desc"
                                    }
                                ]
                            },
                            "data": [
                                {
                                    "0": "clag",
                                    "1": "2",
                                    "2": "NODE_AND_FILE_SHARE_MAJORITY",
                                    "3": "1",
                                    "4": "NORMAL_QUORUM"
                                }
                            ]
                        },
                        "text/html": "<table><tr><th>cluster_name</th><th>quorum_type</th><th>quorum_type_desc</th><th>quorum_state</th><th>quorum_state_desc</th></tr><tr><td>clag</td><td>2</td><td>NODE_AND_FILE_SHARE_MAJORITY</td><td>1</td><td>NORMAL_QUORUM</td></tr></table>"
                    }
                },
                {
                    "output_type": "execute_result",
                    "metadata": {},
                    "execution_count": 5,
                    "data": {
                        "application/vnd.dataresource+json": {
                            "schema": {
                                "fields": [
                                    {
                                        "name": "name"
                                    },
                                    {
                                        "name": "id"
                                    },
                                    {
                                        "name": "xtype"
                                    },
                                    {
                                        "name": "uid"
                                    },
                                    {
                                        "name": "info"
                                    },
                                    {
                                        "name": "status"
                                    },
                                    {
                                        "name": "base_schema_ver"
                                    },
                                    {
                                        "name": "replinfo"
                                    },
                                    {
                                        "name": "parent_obj"
                                    },
                                    {
                                        "name": "crdate"
                                    },
                                    {
                                        "name": "ftcatid"
                                    },
                                    {
                                        "name": "schema_ver"
                                    },
                                    {
                                        "name": "stats_schema_ver"
                                    },
                                    {
                                        "name": "type"
                                    },
                                    {
                                        "name": "userstat"
                                    },
                                    {
                                        "name": "sysstat"
                                    },
                                    {
                                        "name": "indexdel"
                                    },
                                    {
                                        "name": "refdate"
                                    },
                                    {
                                        "name": "version"
                                    },
                                    {
                                        "name": "deltrig"
                                    },
                                    {
                                        "name": "instrig"
                                    },
                                    {
                                        "name": "updtrig"
                                    },
                                    {
                                        "name": "seltrig"
                                    },
                                    {
                                        "name": "category"
                                    },
                                    {
                                        "name": "cache"
                                    }
                                ]
                            },
                            "data": [
                                {
                                    "0": "dm_os_performance_counters",
                                    "1": "-169782400",
                                    "2": "V ",
                                    "3": "4",
                                    "4": "0",
                                    "5": "0",
                                    "6": "0",
                                    "7": "0",
                                    "8": "0",
                                    "9": "2014-02-20 20:48:47.000",
                                    "10": "0",
                                    "11": "0",
                                    "12": "0",
                                    "13": "V ",
                                    "14": "0",
                                    "15": "2",
                                    "16": "0",
                                    "17": "2014-02-20 20:48:47.000",
                                    "18": "0",
                                    "19": "0",
                                    "20": "0",
                                    "21": "0",
                                    "22": "0",
                                    "23": "2",
                                    "24": "0"
                                },
                                {
                                    "0": "sp_MSwritemergeperfcounter",
                                    "1": "-1072815163",
                                    "2": "P ",
                                    "3": "4",
                                    "4": "0",
                                    "5": "0",
                                    "6": "0",
                                    "7": "0",
                                    "8": "0",
                                    "9": "2014-02-20 20:49:06.117",
                                    "10": "0",
                                    "11": "0",
                                    "12": "0",
                                    "13": "P ",
                                    "14": "0",
                                    "15": "4",
                                    "16": "0",
                                    "17": "2014-02-20 20:49:06.117",
                                    "18": "0",
                                    "19": "0",
                                    "20": "0",
                                    "21": "0",
                                    "22": "0",
                                    "23": "2",
                                    "24": "0"
                                },
                                {
                                    "0": "sysperfinfo",
                                    "1": "-209",
                                    "2": "V ",
                                    "3": "4",
                                    "4": "0",
                                    "5": "0",
                                    "6": "0",
                                    "7": "0",
                                    "8": "0",
                                    "9": "2014-02-20 20:48:47.000",
                                    "10": "0",
                                    "11": "0",
                                    "12": "0",
                                    "13": "V ",
                                    "14": "0",
                                    "15": "2",
                                    "16": "0",
                                    "17": "2014-02-20 20:48:47.000",
                                    "18": "0",
                                    "19": "0",
                                    "20": "0",
                                    "21": "0",
                                    "22": "0",
                                    "23": "2",
                                    "24": "0"
                                }
                            ]
                        },
                        "text/html": "<table><tr><th>name</th><th>id</th><th>xtype</th><th>uid</th><th>info</th><th>status</th><th>base_schema_ver</th><th>replinfo</th><th>parent_obj</th><th>crdate</th><th>ftcatid</th><th>schema_ver</th><th>stats_schema_ver</th><th>type</th><th>userstat</th><th>sysstat</th><th>indexdel</th><th>refdate</th><th>version</th><th>deltrig</th><th>instrig</th><th>updtrig</th><th>seltrig</th><th>category</th><th>cache</th></tr><tr><td>dm_os_performance_counters</td><td>-169782400</td><td>V </td><td>4</td><td>0</td><td>0</td><td>0</td><td>0</td><td>0</td><td>2014-02-20 20:48:47.000</td><td>0</td><td>0</td><td>0</td><td>V </td><td>0</td><td>2</td><td>0</td><td>2014-02-20 20:48:47.000</td><td>0</td><td>0</td><td>0</td><td>0</td><td>0</td><td>2</td><td>0</td></tr><tr><td>sp_MSwritemergeperfcounter</td><td>-1072815163</td><td>P </td><td>4</td><td>0</td><td>0</td><td>0</td><td>0</td><td>0</td><td>2014-02-20 20:49:06.117</td><td>0</td><td>0</td><td>0</td><td>P </td><td>0</td><td>4</td><td>0</td><td>2014-02-20 20:49:06.117</td><td>0</td><td>0</td><td>0</td><td>0</td><td>0</td><td>2</td><td>0</td></tr><tr><td>sysperfinfo</td><td>-209</td><td>V </td><td>4</td><td>0</td><td>0</td><td>0</td><td>0</td><td>0</td><td>2014-02-20 20:48:47.000</td><td>0</td><td>0</td><td>0</td><td>V </td><td>0</td><td>2</td><td>0</td><td>2014-02-20 20:48:47.000</td><td>0</td><td>0</td><td>0</td><td>0</td><td>0</td><td>2</td><td>0</td></tr></table>"
                    }
                },
                {
                    "output_type": "execute_result",
                    "metadata": {},
                    "execution_count": 5,
                    "data": {
                        "application/vnd.dataresource+json": {
                            "schema": {
                                "fields": [
                                    {
                                        "name": "group_id"
                                    },
                                    {
                                        "name": "name"
                                    },
                                    {
                                        "name": "num_databases"
                                    },
                                    {
                                        "name": "num_capture_threads"
                                    },
                                    {
                                        "name": "num_redo_threads"
                                    },
                                    {
                                        "name": "num_parallel_redo_threads"
                                    },
                                    {
                                        "name": "num_hadr_threads"
                                    }
                                ]
                            },
                            "data": [
                                {
                                    "0": "4eb2bc75-a025-4b39-bb37-0394cd9d15e0",
                                    "1": "aoag",
                                    "2": "2",
                                    "3": "0",
                                    "4": "4",
                                    "5": "4",
                                    "6": "0"
                                }
                            ]
                        },
                        "text/html": "<table><tr><th>group_id</th><th>name</th><th>num_databases</th><th>num_capture_threads</th><th>num_redo_threads</th><th>num_parallel_redo_threads</th><th>num_hadr_threads</th></tr><tr><td>4eb2bc75-a025-4b39-bb37-0394cd9d15e0</td><td>aoag</td><td>2</td><td>0</td><td>4</td><td>4</td><td>0</td></tr></table>"
                    }
                },
                {
                    "output_type": "execute_result",
                    "metadata": {},
                    "execution_count": 5,
                    "data": {
                        "application/vnd.dataresource+json": {
                            "schema": {
                                "fields": [
                                    {
                                        "name": "object_name"
                                    },
                                    {
                                        "name": "counter_name"
                                    },
                                    {
                                        "name": "instance_name"
                                    },
                                    {
                                        "name": "cntr_value"
                                    },
                                    {
                                        "name": "cntr_type"
                                    }
                                ]
                            },
                            "data": [
                                {
                                    "0": "SQLServer:Database Replica                                                                                                      ",
                                    "1": "Recovery Queue                                                                                                                  ",
                                    "2": "db1                                                                                                                             ",
                                    "3": "0",
                                    "4": "65792"
                                },
                                {
                                    "0": "SQLServer:Database Replica                                                                                                      ",
                                    "1": "Redone Bytes/sec                                                                                                                ",
                                    "2": "db1                                                                                                                             ",
                                    "3": "86016",
                                    "4": "272696576"
                                },
                                {
                                    "0": "SQLServer:Database Replica                                                                                                      ",
                                    "1": "Redones/sec                                                                                                                     ",
                                    "2": "db1                                                                                                                             ",
                                    "3": "94",
                                    "4": "272696576"
                                },
                                {
                                    "0": "SQLServer:Database Replica                                                                                                      ",
                                    "1": "Log Send Queue                                                                                                                  ",
                                    "2": "db1                                                                                                                             ",
                                    "3": "0",
                                    "4": "65792"
                                },
                                {
                                    "0": "SQLServer:Database Replica                                                                                                      ",
                                    "1": "Log Apply Ready Queue                                                                                                           ",
                                    "2": "db1                                                                                                                             ",
                                    "3": "0",
                                    "4": "65792"
                                },
                                {
                                    "0": "SQLServer:Database Replica                                                                                                      ",
                                    "1": "Log Apply Pending Queue                                                                                                         ",
                                    "2": "db1                                                                                                                             ",
                                    "3": "0",
                                    "4": "65792"
                                },
                                {
                                    "0": "SQLServer:Database Replica                                                                                                      ",
                                    "1": "Log Bytes Received/sec                                                                                                          ",
                                    "2": "db1                                                                                                                             ",
                                    "3": "37888",
                                    "4": "272696576"
                                },
                                {
                                    "0": "SQLServer:Database Replica                                                                                                      ",
                                    "1": "File Bytes Received/sec                                                                                                         ",
                                    "2": "db1                                                                                                                             ",
                                    "3": "0",
                                    "4": "272696576"
                                },
                                {
                                    "0": "SQLServer:Database Replica                                                                                                      ",
                                    "1": "Mirrored Write Transactions/sec                                                                                                 ",
                                    "2": "db1                                                                                                                             ",
                                    "3": "0",
                                    "4": "272696576"
                                },
                                {
                                    "0": "SQLServer:Database Replica                                                                                                      ",
                                    "1": "Transaction Delay                                                                                                               ",
                                    "2": "db1                                                                                                                             ",
                                    "3": "0",
                                    "4": "272696576"
                                },
                                {
                                    "0": "SQLServer:Database Replica                                                                                                      ",
                                    "1": "Group Commit Time                                                                                                               ",
                                    "2": "db1                                                                                                                             ",
                                    "3": "0",
                                    "4": "272696576"
                                },
                                {
                                    "0": "SQLServer:Database Replica                                                                                                      ",
                                    "1": "Group Commits/Sec                                                                                                               ",
                                    "2": "db1                                                                                                                             ",
                                    "3": "0",
                                    "4": "272696576"
                                },
                                {
                                    "0": "SQLServer:Database Replica                                                                                                      ",
                                    "1": "Log Bytes Compressed/sec                                                                                                        ",
                                    "2": "db1                                                                                                                             ",
                                    "3": "0",
                                    "4": "272696576"
                                },
                                {
                                    "0": "SQLServer:Database Replica                                                                                                      ",
                                    "1": "Log Compressions/sec                                                                                                            ",
                                    "2": "db1                                                                                                                             ",
                                    "3": "0",
                                    "4": "272696576"
                                },
                                {
                                    "0": "SQLServer:Database Replica                                                                                                      ",
                                    "1": "Log Compression Cache misses/sec                                                                                                ",
                                    "2": "db1                                                                                                                             ",
                                    "3": "0",
                                    "4": "272696576"
                                },
                                {
                                    "0": "SQLServer:Database Replica                                                                                                      ",
                                    "1": "Log Compression Cache hits/sec                                                                                                  ",
                                    "2": "db1                                                                                                                             ",
                                    "3": "0",
                                    "4": "272696576"
                                },
                                {
                                    "0": "SQLServer:Database Replica                                                                                                      ",
                                    "1": "Log Bytes Decompressed/sec                                                                                                      ",
                                    "2": "db1                                                                                                                             ",
                                    "3": "36864",
                                    "4": "272696576"
                                },
                                {
                                    "0": "SQLServer:Database Replica                                                                                                      ",
                                    "1": "Log Decompressions/sec                                                                                                          ",
                                    "2": "db1                                                                                                                             ",
                                    "3": "45",
                                    "4": "272696576"
                                },
                                {
                                    "0": "SQLServer:Database Replica                                                                                                      ",
                                    "1": "Database Flow Control Delay                                                                                                     ",
                                    "2": "db1                                                                                                                             ",
                                    "3": "0",
                                    "4": "272696576"
                                },
                                {
                                    "0": "SQLServer:Database Replica                                                                                                      ",
                                    "1": "Database Flow Controls/sec                                                                                                      ",
                                    "2": "db1                                                                                                                             ",
                                    "3": "0",
                                    "4": "272696576"
                                },
                                {
                                    "0": "SQLServer:Database Replica                                                                                                      ",
                                    "1": "Total Log requiring undo                                                                                                        ",
                                    "2": "db1                                                                                                                             ",
                                    "3": "0",
                                    "4": "65792"
                                },
                                {
                                    "0": "SQLServer:Database Replica                                                                                                      ",
                                    "1": "Log remaining for undo                                                                                                          ",
                                    "2": "db1                                                                                                                             ",
                                    "3": "0",
                                    "4": "65792"
                                },
                                {
                                    "0": "SQLServer:Database Replica                                                                                                      ",
                                    "1": "Redo Bytes Remaining                                                                                                            ",
                                    "2": "db1                                                                                                                             ",
                                    "3": "0",
                                    "4": "65792"
                                },
                                {
                                    "0": "SQLServer:Database Replica                                                                                                      ",
                                    "1": "Redo blocked/sec                                                                                                                ",
                                    "2": "db1                                                                                                                             ",
                                    "3": "0",
                                    "4": "272696576"
                                },
                                {
                                    "0": "SQLServer:Database Replica                                                                                                      ",
                                    "1": "Recovery Queue                                                                                                                  ",
                                    "2": "db2                                                                                                                             ",
                                    "3": "0",
                                    "4": "65792"
                                },
                                {
                                    "0": "SQLServer:Database Replica                                                                                                      ",
                                    "1": "Redone Bytes/sec                                                                                                                ",
                                    "2": "db2                                                                                                                             ",
                                    "3": "28160",
                                    "4": "272696576"
                                },
                                {
                                    "0": "SQLServer:Database Replica                                                                                                      ",
                                    "1": "Redones/sec                                                                                                                     ",
                                    "2": "db2                                                                                                                             ",
                                    "3": "85",
                                    "4": "272696576"
                                },
                                {
                                    "0": "SQLServer:Database Replica                                                                                                      ",
                                    "1": "Log Send Queue                                                                                                                  ",
                                    "2": "db2                                                                                                                             ",
                                    "3": "0",
                                    "4": "65792"
                                },
                                {
                                    "0": "SQLServer:Database Replica                                                                                                      ",
                                    "1": "Log Apply Ready Queue                                                                                                           ",
                                    "2": "db2                                                                                                                             ",
                                    "3": "0",
                                    "4": "65792"
                                },
                                {
                                    "0": "SQLServer:Database Replica                                                                                                      ",
                                    "1": "Log Apply Pending Queue                                                                                                         ",
                                    "2": "db2                                                                                                                             ",
                                    "3": "0",
                                    "4": "65792"
                                },
                                {
                                    "0": "SQLServer:Database Replica                                                                                                      ",
                                    "1": "Log Bytes Received/sec                                                                                                          ",
                                    "2": "db2                                                                                                                             ",
                                    "3": "21504",
                                    "4": "272696576"
                                },
                                {
                                    "0": "SQLServer:Database Replica                                                                                                      ",
                                    "1": "File Bytes Received/sec                                                                                                         ",
                                    "2": "db2                                                                                                                             ",
                                    "3": "0",
                                    "4": "272696576"
                                },
                                {
                                    "0": "SQLServer:Database Replica                                                                                                      ",
                                    "1": "Mirrored Write Transactions/sec                                                                                                 ",
                                    "2": "db2                                                                                                                             ",
                                    "3": "0",
                                    "4": "272696576"
                                },
                                {
                                    "0": "SQLServer:Database Replica                                                                                                      ",
                                    "1": "Transaction Delay                                                                                                               ",
                                    "2": "db2                                                                                                                             ",
                                    "3": "0",
                                    "4": "272696576"
                                },
                                {
                                    "0": "SQLServer:Database Replica                                                                                                      ",
                                    "1": "Group Commit Time                                                                                                               ",
                                    "2": "db2                                                                                                                             ",
                                    "3": "0",
                                    "4": "272696576"
                                },
                                {
                                    "0": "SQLServer:Database Replica                                                                                                      ",
                                    "1": "Group Commits/Sec                                                                                                               ",
                                    "2": "db2                                                                                                                             ",
                                    "3": "0",
                                    "4": "272696576"
                                },
                                {
                                    "0": "SQLServer:Database Replica                                                                                                      ",
                                    "1": "Log Bytes Compressed/sec                                                                                                        ",
                                    "2": "db2                                                                                                                             ",
                                    "3": "0",
                                    "4": "272696576"
                                },
                                {
                                    "0": "SQLServer:Database Replica                                                                                                      ",
                                    "1": "Log Compressions/sec                                                                                                            ",
                                    "2": "db2                                                                                                                             ",
                                    "3": "0",
                                    "4": "272696576"
                                },
                                {
                                    "0": "SQLServer:Database Replica                                                                                                      ",
                                    "1": "Log Compression Cache misses/sec                                                                                                ",
                                    "2": "db2                                                                                                                             ",
                                    "3": "0",
                                    "4": "272696576"
                                },
                                {
                                    "0": "SQLServer:Database Replica                                                                                                      ",
                                    "1": "Log Compression Cache hits/sec                                                                                                  ",
                                    "2": "db2                                                                                                                             ",
                                    "3": "0",
                                    "4": "272696576"
                                },
                                {
                                    "0": "SQLServer:Database Replica                                                                                                      ",
                                    "1": "Log Bytes Decompressed/sec                                                                                                      ",
                                    "2": "db2                                                                                                                             ",
                                    "3": "21504",
                                    "4": "272696576"
                                },
                                {
                                    "0": "SQLServer:Database Replica                                                                                                      ",
                                    "1": "Log Decompressions/sec                                                                                                          ",
                                    "2": "db2                                                                                                                             ",
                                    "3": "42",
                                    "4": "272696576"
                                },
                                {
                                    "0": "SQLServer:Database Replica                                                                                                      ",
                                    "1": "Database Flow Control Delay                                                                                                     ",
                                    "2": "db2                                                                                                                             ",
                                    "3": "0",
                                    "4": "272696576"
                                },
                                {
                                    "0": "SQLServer:Database Replica                                                                                                      ",
                                    "1": "Database Flow Controls/sec                                                                                                      ",
                                    "2": "db2                                                                                                                             ",
                                    "3": "0",
                                    "4": "272696576"
                                },
                                {
                                    "0": "SQLServer:Database Replica                                                                                                      ",
                                    "1": "Total Log requiring undo                                                                                                        ",
                                    "2": "db2                                                                                                                             ",
                                    "3": "0",
                                    "4": "65792"
                                },
                                {
                                    "0": "SQLServer:Database Replica                                                                                                      ",
                                    "1": "Log remaining for undo                                                                                                          ",
                                    "2": "db2                                                                                                                             ",
                                    "3": "0",
                                    "4": "65792"
                                },
                                {
                                    "0": "SQLServer:Database Replica                                                                                                      ",
                                    "1": "Redo Bytes Remaining                                                                                                            ",
                                    "2": "db2                                                                                                                             ",
                                    "3": "0",
                                    "4": "65792"
                                },
                                {
                                    "0": "SQLServer:Database Replica                                                                                                      ",
                                    "1": "Redo blocked/sec                                                                                                                ",
                                    "2": "db2                                                                                                                             ",
                                    "3": "0",
                                    "4": "272696576"
                                },
                                {
                                    "0": "SQLServer:Database Replica                                                                                                      ",
                                    "1": "Recovery Queue                                                                                                                  ",
                                    "2": "_Total                                                                                                                          ",
                                    "3": "0",
                                    "4": "65792"
                                },
                                {
                                    "0": "SQLServer:Database Replica                                                                                                      ",
                                    "1": "Redone Bytes/sec                                                                                                                ",
                                    "2": "_Total                                                                                                                          ",
                                    "3": "114176",
                                    "4": "272696576"
                                },
                                {
                                    "0": "SQLServer:Database Replica                                                                                                      ",
                                    "1": "Redones/sec                                                                                                                     ",
                                    "2": "_Total                                                                                                                          ",
                                    "3": "179",
                                    "4": "272696576"
                                },
                                {
                                    "0": "SQLServer:Database Replica                                                                                                      ",
                                    "1": "Log Send Queue                                                                                                                  ",
                                    "2": "_Total                                                                                                                          ",
                                    "3": "0",
                                    "4": "65792"
                                },
                                {
                                    "0": "SQLServer:Database Replica                                                                                                      ",
                                    "1": "Log Apply Ready Queue                                                                                                           ",
                                    "2": "_Total                                                                                                                          ",
                                    "3": "0",
                                    "4": "65792"
                                },
                                {
                                    "0": "SQLServer:Database Replica                                                                                                      ",
                                    "1": "Log Apply Pending Queue                                                                                                         ",
                                    "2": "_Total                                                                                                                          ",
                                    "3": "0",
                                    "4": "65792"
                                },
                                {
                                    "0": "SQLServer:Database Replica                                                                                                      ",
                                    "1": "Log Bytes Received/sec                                                                                                          ",
                                    "2": "_Total                                                                                                                          ",
                                    "3": "59392",
                                    "4": "272696576"
                                },
                                {
                                    "0": "SQLServer:Database Replica                                                                                                      ",
                                    "1": "File Bytes Received/sec                                                                                                         ",
                                    "2": "_Total                                                                                                                          ",
                                    "3": "0",
                                    "4": "272696576"
                                },
                                {
                                    "0": "SQLServer:Database Replica                                                                                                      ",
                                    "1": "Mirrored Write Transactions/sec                                                                                                 ",
                                    "2": "_Total                                                                                                                          ",
                                    "3": "0",
                                    "4": "272696576"
                                },
                                {
                                    "0": "SQLServer:Database Replica                                                                                                      ",
                                    "1": "Transaction Delay                                                                                                               ",
                                    "2": "_Total                                                                                                                          ",
                                    "3": "0",
                                    "4": "272696576"
                                },
                                {
                                    "0": "SQLServer:Database Replica                                                                                                      ",
                                    "1": "Group Commit Time                                                                                                               ",
                                    "2": "_Total                                                                                                                          ",
                                    "3": "0",
                                    "4": "272696576"
                                },
                                {
                                    "0": "SQLServer:Database Replica                                                                                                      ",
                                    "1": "Group Commits/Sec                                                                                                               ",
                                    "2": "_Total                                                                                                                          ",
                                    "3": "0",
                                    "4": "272696576"
                                },
                                {
                                    "0": "SQLServer:Database Replica                                                                                                      ",
                                    "1": "Log Bytes Compressed/sec                                                                                                        ",
                                    "2": "_Total                                                                                                                          ",
                                    "3": "0",
                                    "4": "272696576"
                                },
                                {
                                    "0": "SQLServer:Database Replica                                                                                                      ",
                                    "1": "Log Compressions/sec                                                                                                            ",
                                    "2": "_Total                                                                                                                          ",
                                    "3": "0",
                                    "4": "272696576"
                                },
                                {
                                    "0": "SQLServer:Database Replica                                                                                                      ",
                                    "1": "Log Compression Cache misses/sec                                                                                                ",
                                    "2": "_Total                                                                                                                          ",
                                    "3": "0",
                                    "4": "272696576"
                                },
                                {
                                    "0": "SQLServer:Database Replica                                                                                                      ",
                                    "1": "Log Compression Cache hits/sec                                                                                                  ",
                                    "2": "_Total                                                                                                                          ",
                                    "3": "0",
                                    "4": "272696576"
                                },
                                {
                                    "0": "SQLServer:Database Replica                                                                                                      ",
                                    "1": "Log Bytes Decompressed/sec                                                                                                      ",
                                    "2": "_Total                                                                                                                          ",
                                    "3": "58368",
                                    "4": "272696576"
                                },
                                {
                                    "0": "SQLServer:Database Replica                                                                                                      ",
                                    "1": "Log Decompressions/sec                                                                                                          ",
                                    "2": "_Total                                                                                                                          ",
                                    "3": "87",
                                    "4": "272696576"
                                },
                                {
                                    "0": "SQLServer:Database Replica                                                                                                      ",
                                    "1": "Database Flow Control Delay                                                                                                     ",
                                    "2": "_Total                                                                                                                          ",
                                    "3": "0",
                                    "4": "272696576"
                                },
                                {
                                    "0": "SQLServer:Database Replica                                                                                                      ",
                                    "1": "Database Flow Controls/sec                                                                                                      ",
                                    "2": "_Total                                                                                                                          ",
                                    "3": "0",
                                    "4": "272696576"
                                },
                                {
                                    "0": "SQLServer:Database Replica                                                                                                      ",
                                    "1": "Total Log requiring undo                                                                                                        ",
                                    "2": "_Total                                                                                                                          ",
                                    "3": "0",
                                    "4": "65792"
                                },
                                {
                                    "0": "SQLServer:Database Replica                                                                                                      ",
                                    "1": "Log remaining for undo                                                                                                          ",
                                    "2": "_Total                                                                                                                          ",
                                    "3": "0",
                                    "4": "65792"
                                },
                                {
                                    "0": "SQLServer:Database Replica                                                                                                      ",
                                    "1": "Redo Bytes Remaining                                                                                                            ",
                                    "2": "_Total                                                                                                                          ",
                                    "3": "0",
                                    "4": "65792"
                                },
                                {
                                    "0": "SQLServer:Database Replica                                                                                                      ",
                                    "1": "Redo blocked/sec                                                                                                                ",
                                    "2": "_Total                                                                                                                          ",
                                    "3": "0",
                                    "4": "272696576"
                                },
                                {
                                    "0": "SQLServer:Availability Replica                                                                                                  ",
                                    "1": "Bytes Sent to Replica/sec                                                                                                       ",
                                    "2": "aoag:SQL2                                                                                                                       ",
                                    "3": "15680536",
                                    "4": "272696576"
                                },
                                {
                                    "0": "SQLServer:Availability Replica                                                                                                  ",
                                    "1": "Sends to Replica/sec                                                                                                            ",
                                    "2": "aoag:SQL2                                                                                                                       ",
                                    "3": "75478",
                                    "4": "272696576"
                                },
                                {
                                    "0": "SQLServer:Availability Replica                                                                                                  ",
                                    "1": "Bytes Sent to Transport/sec                                                                                                     ",
                                    "2": "aoag:SQL2                                                                                                                       ",
                                    "3": "29842368",
                                    "4": "272696576"
                                },
                                {
                                    "0": "SQLServer:Availability Replica                                                                                                  ",
                                    "1": "Sends to Transport/sec                                                                                                          ",
                                    "2": "aoag:SQL2                                                                                                                       ",
                                    "3": "120070",
                                    "4": "272696576"
                                },
                                {
                                    "0": "SQLServer:Availability Replica                                                                                                  ",
                                    "1": "Bytes Received from Replica/sec                                                                                                 ",
                                    "2": "aoag:SQL2                                                                                                                       ",
                                    "3": "6227044",
                                    "4": "272696576"
                                },
                                {
                                    "0": "SQLServer:Availability Replica                                                                                                  ",
                                    "1": "Receives from Replica/sec                                                                                                       ",
                                    "2": "aoag:SQL2                                                                                                                       ",
                                    "3": "113149",
                                    "4": "272696576"
                                },
                                {
                                    "0": "SQLServer:Availability Replica                                                                                                  ",
                                    "1": "Flow Control Time (ms/sec)                                                                                                      ",
                                    "2": "aoag:SQL2                                                                                                                       ",
                                    "3": "0",
                                    "4": "272696576"
                                },
                                {
                                    "0": "SQLServer:Availability Replica                                                                                                  ",
                                    "1": "Flow Control/sec                                                                                                                ",
                                    "2": "aoag:SQL2                                                                                                                       ",
                                    "3": "0",
                                    "4": "272696576"
                                },
                                {
                                    "0": "SQLServer:Availability Replica                                                                                                  ",
                                    "1": "Resent Messages/sec                                                                                                             ",
                                    "2": "aoag:SQL2                                                                                                                       ",
                                    "3": "7",
                                    "4": "272696576"
                                },
                                {
                                    "0": "SQLServer:Availability Replica                                                                                                  ",
                                    "1": "Bytes Sent to Replica/sec                                                                                                       ",
                                    "2": "_Total                                                                                                                          ",
                                    "3": "15680536",
                                    "4": "272696576"
                                },
                                {
                                    "0": "SQLServer:Availability Replica                                                                                                  ",
                                    "1": "Sends to Replica/sec                                                                                                            ",
                                    "2": "_Total                                                                                                                          ",
                                    "3": "75478",
                                    "4": "272696576"
                                },
                                {
                                    "0": "SQLServer:Availability Replica                                                                                                  ",
                                    "1": "Bytes Sent to Transport/sec                                                                                                     ",
                                    "2": "_Total                                                                                                                          ",
                                    "3": "29842368",
                                    "4": "272696576"
                                },
                                {
                                    "0": "SQLServer:Availability Replica                                                                                                  ",
                                    "1": "Sends to Transport/sec                                                                                                          ",
                                    "2": "_Total                                                                                                                          ",
                                    "3": "120070",
                                    "4": "272696576"
                                },
                                {
                                    "0": "SQLServer:Availability Replica                                                                                                  ",
                                    "1": "Bytes Received from Replica/sec                                                                                                 ",
                                    "2": "_Total                                                                                                                          ",
                                    "3": "6227044",
                                    "4": "272696576"
                                },
                                {
                                    "0": "SQLServer:Availability Replica                                                                                                  ",
                                    "1": "Receives from Replica/sec                                                                                                       ",
                                    "2": "_Total                                                                                                                          ",
                                    "3": "113149",
                                    "4": "272696576"
                                },
                                {
                                    "0": "SQLServer:Availability Replica                                                                                                  ",
                                    "1": "Flow Control Time (ms/sec)                                                                                                      ",
                                    "2": "_Total                                                                                                                          ",
                                    "3": "0",
                                    "4": "272696576"
                                },
                                {
                                    "0": "SQLServer:Availability Replica                                                                                                  ",
                                    "1": "Flow Control/sec                                                                                                                ",
                                    "2": "_Total                                                                                                                          ",
                                    "3": "0",
                                    "4": "272696576"
                                },
                                {
                                    "0": "SQLServer:Availability Replica                                                                                                  ",
                                    "1": "Resent Messages/sec                                                                                                             ",
                                    "2": "_Total                                                                                                                          ",
                                    "3": "7",
                                    "4": "272696576"
                                }
                            ]
                        },
                        "text/html": "<table><tr><th>object_name</th><th>counter_name</th><th>instance_name</th><th>cntr_value</th><th>cntr_type</th></tr><tr><td>SQLServer:Database Replica                                                                                                      </td><td>Recovery Queue                                                                                                                  </td><td>db1                                                                                                                             </td><td>0</td><td>65792</td></tr><tr><td>SQLServer:Database Replica                                                                                                      </td><td>Redone Bytes/sec                                                                                                                </td><td>db1                                                                                                                             </td><td>86016</td><td>272696576</td></tr><tr><td>SQLServer:Database Replica                                                                                                      </td><td>Redones/sec                                                                                                                     </td><td>db1                                                                                                                             </td><td>94</td><td>272696576</td></tr><tr><td>SQLServer:Database Replica                                                                                                      </td><td>Log Send Queue                                                                                                                  </td><td>db1                                                                                                                             </td><td>0</td><td>65792</td></tr><tr><td>SQLServer:Database Replica                                                                                                      </td><td>Log Apply Ready Queue                                                                                                           </td><td>db1                                                                                                                             </td><td>0</td><td>65792</td></tr><tr><td>SQLServer:Database Replica                                                                                                      </td><td>Log Apply Pending Queue                                                                                                         </td><td>db1                                                                                                                             </td><td>0</td><td>65792</td></tr><tr><td>SQLServer:Database Replica                                                                                                      </td><td>Log Bytes Received/sec                                                                                                          </td><td>db1                                                                                                                             </td><td>37888</td><td>272696576</td></tr><tr><td>SQLServer:Database Replica                                                                                                      </td><td>File Bytes Received/sec                                                                                                         </td><td>db1                                                                                                                             </td><td>0</td><td>272696576</td></tr><tr><td>SQLServer:Database Replica                                                                                                      </td><td>Mirrored Write Transactions/sec                                                                                                 </td><td>db1                                                                                                                             </td><td>0</td><td>272696576</td></tr><tr><td>SQLServer:Database Replica                                                                                                      </td><td>Transaction Delay                                                                                                               </td><td>db1                                                                                                                             </td><td>0</td><td>272696576</td></tr><tr><td>SQLServer:Database Replica                                                                                                      </td><td>Group Commit Time                                                                                                               </td><td>db1                                                                                                                             </td><td>0</td><td>272696576</td></tr><tr><td>SQLServer:Database Replica                                                                                                      </td><td>Group Commits/Sec                                                                                                               </td><td>db1                                                                                                                             </td><td>0</td><td>272696576</td></tr><tr><td>SQLServer:Database Replica                                                                                                      </td><td>Log Bytes Compressed/sec                                                                                                        </td><td>db1                                                                                                                             </td><td>0</td><td>272696576</td></tr><tr><td>SQLServer:Database Replica                                                                                                      </td><td>Log Compressions/sec                                                                                                            </td><td>db1                                                                                                                             </td><td>0</td><td>272696576</td></tr><tr><td>SQLServer:Database Replica                                                                                                      </td><td>Log Compression Cache misses/sec                                                                                                </td><td>db1                                                                                                                             </td><td>0</td><td>272696576</td></tr><tr><td>SQLServer:Database Replica                                                                                                      </td><td>Log Compression Cache hits/sec                                                                                                  </td><td>db1                                                                                                                             </td><td>0</td><td>272696576</td></tr><tr><td>SQLServer:Database Replica                                                                                                      </td><td>Log Bytes Decompressed/sec                                                                                                      </td><td>db1                                                                                                                             </td><td>36864</td><td>272696576</td></tr><tr><td>SQLServer:Database Replica                                                                                                      </td><td>Log Decompressions/sec                                                                                                          </td><td>db1                                                                                                                             </td><td>45</td><td>272696576</td></tr><tr><td>SQLServer:Database Replica                                                                                                      </td><td>Database Flow Control Delay                                                                                                     </td><td>db1                                                                                                                             </td><td>0</td><td>272696576</td></tr><tr><td>SQLServer:Database Replica                                                                                                      </td><td>Database Flow Controls/sec                                                                                                      </td><td>db1                                                                                                                             </td><td>0</td><td>272696576</td></tr><tr><td>SQLServer:Database Replica                                                                                                      </td><td>Total Log requiring undo                                                                                                        </td><td>db1                                                                                                                             </td><td>0</td><td>65792</td></tr><tr><td>SQLServer:Database Replica                                                                                                      </td><td>Log remaining for undo                                                                                                          </td><td>db1                                                                                                                             </td><td>0</td><td>65792</td></tr><tr><td>SQLServer:Database Replica                                                                                                      </td><td>Redo Bytes Remaining                                                                                                            </td><td>db1                                                                                                                             </td><td>0</td><td>65792</td></tr><tr><td>SQLServer:Database Replica                                                                                                      </td><td>Redo blocked/sec                                                                                                                </td><td>db1                                                                                                                             </td><td>0</td><td>272696576</td></tr><tr><td>SQLServer:Database Replica                                                                                                      </td><td>Recovery Queue                                                                                                                  </td><td>db2                                                                                                                             </td><td>0</td><td>65792</td></tr><tr><td>SQLServer:Database Replica                                                                                                      </td><td>Redone Bytes/sec                                                                                                                </td><td>db2                                                                                                                             </td><td>28160</td><td>272696576</td></tr><tr><td>SQLServer:Database Replica                                                                                                      </td><td>Redones/sec                                                                                                                     </td><td>db2                                                                                                                             </td><td>85</td><td>272696576</td></tr><tr><td>SQLServer:Database Replica                                                                                                      </td><td>Log Send Queue                                                                                                                  </td><td>db2                                                                                                                             </td><td>0</td><td>65792</td></tr><tr><td>SQLServer:Database Replica                                                                                                      </td><td>Log Apply Ready Queue                                                                                                           </td><td>db2                                                                                                                             </td><td>0</td><td>65792</td></tr><tr><td>SQLServer:Database Replica                                                                                                      </td><td>Log Apply Pending Queue                                                                                                         </td><td>db2                                                                                                                             </td><td>0</td><td>65792</td></tr><tr><td>SQLServer:Database Replica                                                                                                      </td><td>Log Bytes Received/sec                                                                                                          </td><td>db2                                                                                                                             </td><td>21504</td><td>272696576</td></tr><tr><td>SQLServer:Database Replica                                                                                                      </td><td>File Bytes Received/sec                                                                                                         </td><td>db2                                                                                                                             </td><td>0</td><td>272696576</td></tr><tr><td>SQLServer:Database Replica                                                                                                      </td><td>Mirrored Write Transactions/sec                                                                                                 </td><td>db2                                                                                                                             </td><td>0</td><td>272696576</td></tr><tr><td>SQLServer:Database Replica                                                                                                      </td><td>Transaction Delay                                                                                                               </td><td>db2                                                                                                                             </td><td>0</td><td>272696576</td></tr><tr><td>SQLServer:Database Replica                                                                                                      </td><td>Group Commit Time                                                                                                               </td><td>db2                                                                                                                             </td><td>0</td><td>272696576</td></tr><tr><td>SQLServer:Database Replica                                                                                                      </td><td>Group Commits/Sec                                                                                                               </td><td>db2                                                                                                                             </td><td>0</td><td>272696576</td></tr><tr><td>SQLServer:Database Replica                                                                                                      </td><td>Log Bytes Compressed/sec                                                                                                        </td><td>db2                                                                                                                             </td><td>0</td><td>272696576</td></tr><tr><td>SQLServer:Database Replica                                                                                                      </td><td>Log Compressions/sec                                                                                                            </td><td>db2                                                                                                                             </td><td>0</td><td>272696576</td></tr><tr><td>SQLServer:Database Replica                                                                                                      </td><td>Log Compression Cache misses/sec                                                                                                </td><td>db2                                                                                                                             </td><td>0</td><td>272696576</td></tr><tr><td>SQLServer:Database Replica                                                                                                      </td><td>Log Compression Cache hits/sec                                                                                                  </td><td>db2                                                                                                                             </td><td>0</td><td>272696576</td></tr><tr><td>SQLServer:Database Replica                                                                                                      </td><td>Log Bytes Decompressed/sec                                                                                                      </td><td>db2                                                                                                                             </td><td>21504</td><td>272696576</td></tr><tr><td>SQLServer:Database Replica                                                                                                      </td><td>Log Decompressions/sec                                                                                                          </td><td>db2                                                                                                                             </td><td>42</td><td>272696576</td></tr><tr><td>SQLServer:Database Replica                                                                                                      </td><td>Database Flow Control Delay                                                                                                     </td><td>db2                                                                                                                             </td><td>0</td><td>272696576</td></tr><tr><td>SQLServer:Database Replica                                                                                                      </td><td>Database Flow Controls/sec                                                                                                      </td><td>db2                                                                                                                             </td><td>0</td><td>272696576</td></tr><tr><td>SQLServer:Database Replica                                                                                                      </td><td>Total Log requiring undo                                                                                                        </td><td>db2                                                                                                                             </td><td>0</td><td>65792</td></tr><tr><td>SQLServer:Database Replica                                                                                                      </td><td>Log remaining for undo                                                                                                          </td><td>db2                                                                                                                             </td><td>0</td><td>65792</td></tr><tr><td>SQLServer:Database Replica                                                                                                      </td><td>Redo Bytes Remaining                                                                                                            </td><td>db2                                                                                                                             </td><td>0</td><td>65792</td></tr><tr><td>SQLServer:Database Replica                                                                                                      </td><td>Redo blocked/sec                                                                                                                </td><td>db2                                                                                                                             </td><td>0</td><td>272696576</td></tr><tr><td>SQLServer:Database Replica                                                                                                      </td><td>Recovery Queue                                                                                                                  </td><td>_Total                                                                                                                          </td><td>0</td><td>65792</td></tr><tr><td>SQLServer:Database Replica                                                                                                      </td><td>Redone Bytes/sec                                                                                                                </td><td>_Total                                                                                                                          </td><td>114176</td><td>272696576</td></tr><tr><td>SQLServer:Database Replica                                                                                                      </td><td>Redones/sec                                                                                                                     </td><td>_Total                                                                                                                          </td><td>179</td><td>272696576</td></tr><tr><td>SQLServer:Database Replica                                                                                                      </td><td>Log Send Queue                                                                                                                  </td><td>_Total                                                                                                                          </td><td>0</td><td>65792</td></tr><tr><td>SQLServer:Database Replica                                                                                                      </td><td>Log Apply Ready Queue                                                                                                           </td><td>_Total                                                                                                                          </td><td>0</td><td>65792</td></tr><tr><td>SQLServer:Database Replica                                                                                                      </td><td>Log Apply Pending Queue                                                                                                         </td><td>_Total                                                                                                                          </td><td>0</td><td>65792</td></tr><tr><td>SQLServer:Database Replica                                                                                                      </td><td>Log Bytes Received/sec                                                                                                          </td><td>_Total                                                                                                                          </td><td>59392</td><td>272696576</td></tr><tr><td>SQLServer:Database Replica                                                                                                      </td><td>File Bytes Received/sec                                                                                                         </td><td>_Total                                                                                                                          </td><td>0</td><td>272696576</td></tr><tr><td>SQLServer:Database Replica                                                                                                      </td><td>Mirrored Write Transactions/sec                                                                                                 </td><td>_Total                                                                                                                          </td><td>0</td><td>272696576</td></tr><tr><td>SQLServer:Database Replica                                                                                                      </td><td>Transaction Delay                                                                                                               </td><td>_Total                                                                                                                          </td><td>0</td><td>272696576</td></tr><tr><td>SQLServer:Database Replica                                                                                                      </td><td>Group Commit Time                                                                                                               </td><td>_Total                                                                                                                          </td><td>0</td><td>272696576</td></tr><tr><td>SQLServer:Database Replica                                                                                                      </td><td>Group Commits/Sec                                                                                                               </td><td>_Total                                                                                                                          </td><td>0</td><td>272696576</td></tr><tr><td>SQLServer:Database Replica                                                                                                      </td><td>Log Bytes Compressed/sec                                                                                                        </td><td>_Total                                                                                                                          </td><td>0</td><td>272696576</td></tr><tr><td>SQLServer:Database Replica                                                                                                      </td><td>Log Compressions/sec                                                                                                            </td><td>_Total                                                                                                                          </td><td>0</td><td>272696576</td></tr><tr><td>SQLServer:Database Replica                                                                                                      </td><td>Log Compression Cache misses/sec                                                                                                </td><td>_Total                                                                                                                          </td><td>0</td><td>272696576</td></tr><tr><td>SQLServer:Database Replica                                                                                                      </td><td>Log Compression Cache hits/sec                                                                                                  </td><td>_Total                                                                                                                          </td><td>0</td><td>272696576</td></tr><tr><td>SQLServer:Database Replica                                                                                                      </td><td>Log Bytes Decompressed/sec                                                                                                      </td><td>_Total                                                                                                                          </td><td>58368</td><td>272696576</td></tr><tr><td>SQLServer:Database Replica                                                                                                      </td><td>Log Decompressions/sec                                                                                                          </td><td>_Total                                                                                                                          </td><td>87</td><td>272696576</td></tr><tr><td>SQLServer:Database Replica                                                                                                      </td><td>Database Flow Control Delay                                                                                                     </td><td>_Total                                                                                                                          </td><td>0</td><td>272696576</td></tr><tr><td>SQLServer:Database Replica                                                                                                      </td><td>Database Flow Controls/sec                                                                                                      </td><td>_Total                                                                                                                          </td><td>0</td><td>272696576</td></tr><tr><td>SQLServer:Database Replica                                                                                                      </td><td>Total Log requiring undo                                                                                                        </td><td>_Total                                                                                                                          </td><td>0</td><td>65792</td></tr><tr><td>SQLServer:Database Replica                                                                                                      </td><td>Log remaining for undo                                                                                                          </td><td>_Total                                                                                                                          </td><td>0</td><td>65792</td></tr><tr><td>SQLServer:Database Replica                                                                                                      </td><td>Redo Bytes Remaining                                                                                                            </td><td>_Total                                                                                                                          </td><td>0</td><td>65792</td></tr><tr><td>SQLServer:Database Replica                                                                                                      </td><td>Redo blocked/sec                                                                                                                </td><td>_Total                                                                                                                          </td><td>0</td><td>272696576</td></tr><tr><td>SQLServer:Availability Replica                                                                                                  </td><td>Bytes Sent to Replica/sec                                                                                                       </td><td>aoag:SQL2                                                                                                                       </td><td>15680536</td><td>272696576</td></tr><tr><td>SQLServer:Availability Replica                                                                                                  </td><td>Sends to Replica/sec                                                                                                            </td><td>aoag:SQL2                                                                                                                       </td><td>75478</td><td>272696576</td></tr><tr><td>SQLServer:Availability Replica                                                                                                  </td><td>Bytes Sent to Transport/sec                                                                                                     </td><td>aoag:SQL2                                                                                                                       </td><td>29842368</td><td>272696576</td></tr><tr><td>SQLServer:Availability Replica                                                                                                  </td><td>Sends to Transport/sec                                                                                                          </td><td>aoag:SQL2                                                                                                                       </td><td>120070</td><td>272696576</td></tr><tr><td>SQLServer:Availability Replica                                                                                                  </td><td>Bytes Received from Replica/sec                                                                                                 </td><td>aoag:SQL2                                                                                                                       </td><td>6227044</td><td>272696576</td></tr><tr><td>SQLServer:Availability Replica                                                                                                  </td><td>Receives from Replica/sec                                                                                                       </td><td>aoag:SQL2                                                                                                                       </td><td>113149</td><td>272696576</td></tr><tr><td>SQLServer:Availability Replica                                                                                                  </td><td>Flow Control Time (ms/sec)                                                                                                      </td><td>aoag:SQL2                                                                                                                       </td><td>0</td><td>272696576</td></tr><tr><td>SQLServer:Availability Replica                                                                                                  </td><td>Flow Control/sec                                                                                                                </td><td>aoag:SQL2                                                                                                                       </td><td>0</td><td>272696576</td></tr><tr><td>SQLServer:Availability Replica                                                                                                  </td><td>Resent Messages/sec                                                                                                             </td><td>aoag:SQL2                                                                                                                       </td><td>7</td><td>272696576</td></tr><tr><td>SQLServer:Availability Replica                                                                                                  </td><td>Bytes Sent to Replica/sec                                                                                                       </td><td>_Total                                                                                                                          </td><td>15680536</td><td>272696576</td></tr><tr><td>SQLServer:Availability Replica                                                                                                  </td><td>Sends to Replica/sec                                                                                                            </td><td>_Total                                                                                                                          </td><td>75478</td><td>272696576</td></tr><tr><td>SQLServer:Availability Replica                                                                                                  </td><td>Bytes Sent to Transport/sec                                                                                                     </td><td>_Total                                                                                                                          </td><td>29842368</td><td>272696576</td></tr><tr><td>SQLServer:Availability Replica                                                                                                  </td><td>Sends to Transport/sec                                                                                                          </td><td>_Total                                                                                                                          </td><td>120070</td><td>272696576</td></tr><tr><td>SQLServer:Availability Replica                                                                                                  </td><td>Bytes Received from Replica/sec                                                                                                 </td><td>_Total                                                                                                                          </td><td>6227044</td><td>272696576</td></tr><tr><td>SQLServer:Availability Replica                                                                                                  </td><td>Receives from Replica/sec                                                                                                       </td><td>_Total                                                                                                                          </td><td>113149</td><td>272696576</td></tr><tr><td>SQLServer:Availability Replica                                                                                                  </td><td>Flow Control Time (ms/sec)                                                                                                      </td><td>_Total                                                                                                                          </td><td>0</td><td>272696576</td></tr><tr><td>SQLServer:Availability Replica                                                                                                  </td><td>Flow Control/sec                                                                                                                </td><td>_Total                                                                                                                          </td><td>0</td><td>272696576</td></tr><tr><td>SQLServer:Availability Replica                                                                                                  </td><td>Resent Messages/sec                                                                                                             </td><td>_Total                                                                                                                          </td><td>7</td><td>272696576</td></tr></table>"
                    }
                },
                {
                    "output_type": "execute_result",
                    "metadata": {},
                    "execution_count": 5,
                    "data": {
                        "application/vnd.dataresource+json": {
                            "schema": {
                                "fields": [
                                    {
                                        "name": "ag_name"
                                    },
                                    {
                                        "name": "ag_id"
                                    },
                                    {
                                        "name": "ag_resource_id"
                                    },
                                    {
                                        "name": "ag_group_id"
                                    }
                                ]
                            },
                            "data": [
                                {
                                    "0": "aoag",
                                    "1": "4eb2bc75-a025-4b39-bb37-0394cd9d15e0",
                                    "2": "b58fd117-4894-40a5-8bb5-c89f63cfcbd6",
                                    "3": "467c7d11-f797-4ae7-b94e-67e85628bc21"
                                }
                            ]
                        },
                        "text/html": "<table><tr><th>ag_name</th><th>ag_id</th><th>ag_resource_id</th><th>ag_group_id</th></tr><tr><td>aoag</td><td>4eb2bc75-a025-4b39-bb37-0394cd9d15e0</td><td>b58fd117-4894-40a5-8bb5-c89f63cfcbd6</td><td>467c7d11-f797-4ae7-b94e-67e85628bc21</td></tr></table>"
                    }
                },
                {
                    "output_type": "execute_result",
                    "metadata": {},
                    "execution_count": 5,
                    "data": {
                        "application/vnd.dataresource+json": {
                            "schema": {
                                "fields": [
                                    {
                                        "name": "replica_id"
                                    },
                                    {
                                        "name": "group_id"
                                    },
                                    {
                                        "name": "is_local"
                                    },
                                    {
                                        "name": "role"
                                    },
                                    {
                                        "name": "role_desc"
                                    },
                                    {
                                        "name": "operational_state"
                                    },
                                    {
                                        "name": "operational_state_desc"
                                    },
                                    {
                                        "name": "connected_state"
                                    },
                                    {
                                        "name": "connected_state_desc"
                                    },
                                    {
                                        "name": "recovery_health"
                                    },
                                    {
                                        "name": "recovery_health_desc"
                                    },
                                    {
                                        "name": "synchronization_health"
                                    },
                                    {
                                        "name": "synchronization_health_desc"
                                    },
                                    {
                                        "name": "last_connect_error_number"
                                    },
                                    {
                                        "name": "last_connect_error_description"
                                    },
                                    {
                                        "name": "last_connect_error_timestamp"
                                    },
                                    {
                                        "name": "write_lease_remaining_ticks"
                                    },
                                    {
                                        "name": "current_configuration_commit_start_time_utc"
                                    }
                                ]
                            },
                            "data": [
                                {
                                    "0": "7cd0e155-e578-4984-b55d-9657a0e40e82",
                                    "1": "4eb2bc75-a025-4b39-bb37-0394cd9d15e0",
                                    "2": "1",
                                    "3": "2",
                                    "4": "SECONDARY",
                                    "5": "2",
                                    "6": "ONLINE",
                                    "7": "1",
                                    "8": "CONNECTED",
                                    "9": "0",
                                    "10": "ONLINE_IN_PROGRESS",
                                    "11": "2",
                                    "12": "HEALTHY",
                                    "13": "NULL",
                                    "14": "NULL",
                                    "15": "NULL",
                                    "16": "NULL",
                                    "17": "NULL"
                                }
                            ]
                        },
                        "text/html": "<table><tr><th>replica_id</th><th>group_id</th><th>is_local</th><th>role</th><th>role_desc</th><th>operational_state</th><th>operational_state_desc</th><th>connected_state</th><th>connected_state_desc</th><th>recovery_health</th><th>recovery_health_desc</th><th>synchronization_health</th><th>synchronization_health_desc</th><th>last_connect_error_number</th><th>last_connect_error_description</th><th>last_connect_error_timestamp</th><th>write_lease_remaining_ticks</th><th>current_configuration_commit_start_time_utc</th></tr><tr><td>7cd0e155-e578-4984-b55d-9657a0e40e82</td><td>4eb2bc75-a025-4b39-bb37-0394cd9d15e0</td><td>1</td><td>2</td><td>SECONDARY</td><td>2</td><td>ONLINE</td><td>1</td><td>CONNECTED</td><td>0</td><td>ONLINE_IN_PROGRESS</td><td>2</td><td>HEALTHY</td><td>NULL</td><td>NULL</td><td>NULL</td><td>NULL</td><td>NULL</td></tr></table>"
                    }
                },
                {
                    "output_type": "execute_result",
                    "metadata": {},
                    "execution_count": 5,
                    "data": {
                        "application/vnd.dataresource+json": {
                            "schema": {
                                "fields": [
                                    {
                                        "name": "group_id"
                                    },
                                    {
                                        "name": "primary_replica"
                                    },
                                    {
                                        "name": "primary_recovery_health"
                                    },
                                    {
                                        "name": "primary_recovery_health_desc"
                                    },
                                    {
                                        "name": "secondary_recovery_health"
                                    },
                                    {
                                        "name": "secondary_recovery_health_desc"
                                    },
                                    {
                                        "name": "synchronization_health"
                                    },
                                    {
                                        "name": "synchronization_health_desc"
                                    }
                                ]
                            },
                            "data": [
                                {
                                    "0": "4eb2bc75-a025-4b39-bb37-0394cd9d15e0",
                                    "1": "SQL2",
                                    "2": "NULL",
                                    "3": "NULL",
                                    "4": "0",
                                    "5": "ONLINE_IN_PROGRESS",
                                    "6": "2",
                                    "7": "HEALTHY"
                                }
                            ]
                        },
                        "text/html": "<table><tr><th>group_id</th><th>primary_replica</th><th>primary_recovery_health</th><th>primary_recovery_health_desc</th><th>secondary_recovery_health</th><th>secondary_recovery_health_desc</th><th>synchronization_health</th><th>synchronization_health_desc</th></tr><tr><td>4eb2bc75-a025-4b39-bb37-0394cd9d15e0</td><td>SQL2</td><td>NULL</td><td>NULL</td><td>0</td><td>ONLINE_IN_PROGRESS</td><td>2</td><td>HEALTHY</td></tr></table>"
                    }
                },
                {
                    "output_type": "execute_result",
                    "metadata": {},
                    "execution_count": 5,
                    "data": {
                        "application/vnd.dataresource+json": {
                            "schema": {
                                "fields": [
                                    {
                                        "name": "(No column name)"
                                    }
                                ]
                            },
                            "data": [
                                {
                                    "0": "1"
                                }
                            ]
                        },
                        "text/html": "<table><tr><th>(No column name)</th></tr><tr><td>1</td></tr></table>"
                    }
                },
                {
                    "output_type": "execute_result",
                    "metadata": {},
                    "execution_count": 5,
                    "data": {
                        "application/vnd.dataresource+json": {
                            "schema": {
                                "fields": [
                                    {
                                        "name": "local_physical_seeding_id"
                                    },
                                    {
                                        "name": "remote_physical_seeding_id"
                                    },
                                    {
                                        "name": "local_database_id"
                                    },
                                    {
                                        "name": "local_database_name"
                                    },
                                    {
                                        "name": "remote_machine_name"
                                    },
                                    {
                                        "name": "role_desc"
                                    },
                                    {
                                        "name": "internal_state_desc"
                                    },
                                    {
                                        "name": "transfer_rate_bytes_per_second"
                                    },
                                    {
                                        "name": "transferred_size_bytes"
                                    },
                                    {
                                        "name": "database_size_bytes"
                                    },
                                    {
                                        "name": "start_time_utc"
                                    },
                                    {
                                        "name": "end_time_utc"
                                    },
                                    {
                                        "name": "estimate_time_complete_utc"
                                    },
                                    {
                                        "name": "total_disk_io_wait_time_ms"
                                    },
                                    {
                                        "name": "total_network_wait_time_ms"
                                    },
                                    {
                                        "name": "failure_code"
                                    },
                                    {
                                        "name": "failure_message"
                                    },
                                    {
                                        "name": "failure_time_utc"
                                    },
                                    {
                                        "name": "is_compression_enabled"
                                    }
                                ]
                            },
                            "data": []
                        },
                        "text/html": "<table><tr><th>local_physical_seeding_id</th><th>remote_physical_seeding_id</th><th>local_database_id</th><th>local_database_name</th><th>remote_machine_name</th><th>role_desc</th><th>internal_state_desc</th><th>transfer_rate_bytes_per_second</th><th>transferred_size_bytes</th><th>database_size_bytes</th><th>start_time_utc</th><th>end_time_utc</th><th>estimate_time_complete_utc</th><th>total_disk_io_wait_time_ms</th><th>total_network_wait_time_ms</th><th>failure_code</th><th>failure_message</th><th>failure_time_utc</th><th>is_compression_enabled</th></tr></table>"
                    }
                },
                {
                    "output_type": "execute_result",
                    "metadata": {},
                    "execution_count": 5,
                    "data": {
                        "application/vnd.dataresource+json": {
                            "schema": {
                                "fields": [
                                    {
                                        "name": "(No column name)"
                                    }
                                ]
                            },
                            "data": [
                                {
                                    "0": "NULL"
                                }
                            ]
                        },
                        "text/html": "<table><tr><th>(No column name)</th></tr><tr><td>NULL</td></tr></table>"
                    }
                },
                {
                    "output_type": "execute_result",
                    "metadata": {},
                    "execution_count": 5,
                    "data": {
                        "application/vnd.dataresource+json": {
                            "schema": {
                                "fields": [
                                    {
                                        "name": "member_name"
                                    },
                                    {
                                        "name": "member_type"
                                    },
                                    {
                                        "name": "member_type_desc"
                                    },
                                    {
                                        "name": "member_state"
                                    },
                                    {
                                        "name": "member_state_desc"
                                    },
                                    {
                                        "name": "number_of_quorum_votes"
                                    }
                                ]
                            },
                            "data": [
                                {
                                    "0": "sql1",
                                    "1": "0",
                                    "2": "CLUSTER_NODE",
                                    "3": "1",
                                    "4": "UP",
                                    "5": "1"
                                },
                                {
                                    "0": "sql2",
                                    "1": "0",
                                    "2": "CLUSTER_NODE",
                                    "3": "1",
                                    "4": "UP",
                                    "5": "1"
                                },
                                {
                                    "0": "File Share Witness",
                                    "1": "2",
                                    "2": "FILE_SHARE_WITNESS",
                                    "3": "1",
                                    "4": "UP",
                                    "5": "1"
                                }
                            ]
                        },
                        "text/html": "<table><tr><th>member_name</th><th>member_type</th><th>member_type_desc</th><th>member_state</th><th>member_state_desc</th><th>number_of_quorum_votes</th></tr><tr><td>sql1</td><td>0</td><td>CLUSTER_NODE</td><td>1</td><td>UP</td><td>1</td></tr><tr><td>sql2</td><td>0</td><td>CLUSTER_NODE</td><td>1</td><td>UP</td><td>1</td></tr><tr><td>File Share Witness</td><td>2</td><td>FILE_SHARE_WITNESS</td><td>1</td><td>UP</td><td>1</td></tr></table>"
                    }
                },
                {
                    "output_type": "execute_result",
                    "metadata": {},
                    "execution_count": 5,
                    "data": {
                        "application/vnd.dataresource+json": {
                            "schema": {
                                "fields": [
                                    {
                                        "name": "replica_id"
                                    },
                                    {
                                        "name": "replica_server_name"
                                    },
                                    {
                                        "name": "group_id"
                                    },
                                    {
                                        "name": "join_state"
                                    },
                                    {
                                        "name": "join_state_desc"
                                    }
                                ]
                            },
                            "data": [
                                {
                                    "0": "7cd0e155-e578-4984-b55d-9657a0e40e82",
                                    "1": "SQL1",
                                    "2": "4eb2bc75-a025-4b39-bb37-0394cd9d15e0",
                                    "3": "1",
                                    "4": "JOINED_STANDALONE"
                                },
                                {
                                    "0": "69c1bc06-4f46-45b7-9d2e-1ba3033d4fd0",
                                    "1": "SQL2",
                                    "2": "4eb2bc75-a025-4b39-bb37-0394cd9d15e0",
                                    "3": "1",
                                    "4": "JOINED_STANDALONE"
                                }
                            ]
                        },
                        "text/html": "<table><tr><th>replica_id</th><th>replica_server_name</th><th>group_id</th><th>join_state</th><th>join_state_desc</th></tr><tr><td>7cd0e155-e578-4984-b55d-9657a0e40e82</td><td>SQL1</td><td>4eb2bc75-a025-4b39-bb37-0394cd9d15e0</td><td>1</td><td>JOINED_STANDALONE</td></tr><tr><td>69c1bc06-4f46-45b7-9d2e-1ba3033d4fd0</td><td>SQL2</td><td>4eb2bc75-a025-4b39-bb37-0394cd9d15e0</td><td>1</td><td>JOINED_STANDALONE</td></tr></table>"
                    }
                },
                {
                    "output_type": "execute_result",
                    "metadata": {},
                    "execution_count": 5,
                    "data": {
                        "application/vnd.dataresource+json": {
                            "schema": {
                                "fields": [
                                    {
                                        "name": "database_id"
                                    },
                                    {
                                        "name": "file_id"
                                    },
                                    {
                                        "name": "page_id"
                                    },
                                    {
                                        "name": "error_type"
                                    },
                                    {
                                        "name": "page_status"
                                    },
                                    {
                                        "name": "modification_time"
                                    }
                                ]
                            },
                            "data": []
                        },
                        "text/html": "<table><tr><th>database_id</th><th>file_id</th><th>page_id</th><th>error_type</th><th>page_status</th><th>modification_time</th></tr></table>"
                    }
                },
                {
                    "output_type": "execute_result",
                    "metadata": {},
                    "execution_count": 5,
                    "data": {
                        "application/vnd.dataresource+json": {
                            "schema": {
                                "fields": [
                                    {
                                        "name": "group_name"
                                    },
                                    {
                                        "name": "replica_server_name"
                                    },
                                    {
                                        "name": "node_name"
                                    }
                                ]
                            },
                            "data": [
                                {
                                    "0": "aoag",
                                    "1": "SQL1",
                                    "2": "SQL1"
                                },
                                {
                                    "0": "aoag",
                                    "1": "SQL2",
                                    "2": "SQL2"
                                }
                            ]
                        },
                        "text/html": "<table><tr><th>group_name</th><th>replica_server_name</th><th>node_name</th></tr><tr><td>aoag</td><td>SQL1</td><td>SQL1</td></tr><tr><td>aoag</td><td>SQL2</td><td>SQL2</td></tr></table>"
                    }
                },
                {
                    "output_type": "execute_result",
                    "metadata": {},
                    "execution_count": 5,
                    "data": {
                        "application/vnd.dataresource+json": {
                            "schema": {
                                "fields": [
                                    {
                                        "name": "member_name"
                                    },
                                    {
                                        "name": "network_subnet_ip"
                                    },
                                    {
                                        "name": "network_subnet_ipv4_mask"
                                    },
                                    {
                                        "name": "network_subnet_prefix_length"
                                    },
                                    {
                                        "name": "is_public"
                                    },
                                    {
                                        "name": "is_ipv4"
                                    }
                                ]
                            },
                            "data": [
                                {
                                    "0": "sql1",
                                    "1": "192.168.0.0",
                                    "2": "255.255.255.0",
                                    "3": "24",
                                    "4": "1",
                                    "5": "1"
                                },
                                {
                                    "0": "sql2",
                                    "1": "192.168.0.0",
                                    "2": "255.255.255.0",
                                    "3": "24",
                                    "4": "1",
                                    "5": "1"
                                }
                            ]
                        },
                        "text/html": "<table><tr><th>member_name</th><th>network_subnet_ip</th><th>network_subnet_ipv4_mask</th><th>network_subnet_prefix_length</th><th>is_public</th><th>is_ipv4</th></tr><tr><td>sql1</td><td>192.168.0.0</td><td>255.255.255.0</td><td>24</td><td>1</td><td>1</td></tr><tr><td>sql2</td><td>192.168.0.0</td><td>255.255.255.0</td><td>24</td><td>1</td><td>1</td></tr></table>"
                    }
                },
                {
                    "output_type": "execute_result",
                    "metadata": {},
                    "execution_count": 5,
                    "data": {
                        "application/vnd.dataresource+json": {
                            "schema": {
                                "fields": [
                                    {
                                        "name": "group_id"
                                    },
                                    {
                                        "name": "ag_db_id"
                                    },
                                    {
                                        "name": "name"
                                    },
                                    {
                                        "name": "num_capture_threads"
                                    },
                                    {
                                        "name": "num_redo_threads"
                                    },
                                    {
                                        "name": "num_parallel_redo_threads"
                                    }
                                ]
                            },
                            "data": [
                                {
                                    "0": "4eb2bc75-a025-4b39-bb37-0394cd9d15e0",
                                    "1": "0ccdb494-5d03-4896-81b9-752c1e5fa477",
                                    "2": "db2",
                                    "3": "0",
                                    "4": "2",
                                    "5": "2"
                                },
                                {
                                    "0": "4eb2bc75-a025-4b39-bb37-0394cd9d15e0",
                                    "1": "8afaddc1-0427-40a0-8059-37e0d409994f",
                                    "2": "db1",
                                    "3": "0",
                                    "4": "2",
                                    "5": "2"
                                }
                            ]
                        },
                        "text/html": "<table><tr><th>group_id</th><th>ag_db_id</th><th>name</th><th>num_capture_threads</th><th>num_redo_threads</th><th>num_parallel_redo_threads</th></tr><tr><td>4eb2bc75-a025-4b39-bb37-0394cd9d15e0</td><td>0ccdb494-5d03-4896-81b9-752c1e5fa477</td><td>db2</td><td>0</td><td>2</td><td>2</td></tr><tr><td>4eb2bc75-a025-4b39-bb37-0394cd9d15e0</td><td>8afaddc1-0427-40a0-8059-37e0d409994f</td><td>db1</td><td>0</td><td>2</td><td>2</td></tr></table>"
                    }
                },
                {
                    "output_type": "execute_result",
                    "metadata": {},
                    "execution_count": 5,
                    "data": {
                        "application/vnd.dataresource+json": {
                            "schema": {
                                "fields": [
                                    {
                                        "name": "database_id"
                                    },
                                    {
                                        "name": "group_id"
                                    },
                                    {
                                        "name": "replica_id"
                                    },
                                    {
                                        "name": "group_database_id"
                                    },
                                    {
                                        "name": "is_local"
                                    },
                                    {
                                        "name": "is_primary_replica"
                                    },
                                    {
                                        "name": "synchronization_state"
                                    },
                                    {
                                        "name": "synchronization_state_desc"
                                    },
                                    {
                                        "name": "is_commit_participant"
                                    },
                                    {
                                        "name": "synchronization_health"
                                    },
                                    {
                                        "name": "synchronization_health_desc"
                                    },
                                    {
                                        "name": "database_state"
                                    },
                                    {
                                        "name": "database_state_desc"
                                    },
                                    {
                                        "name": "is_suspended"
                                    },
                                    {
                                        "name": "suspend_reason"
                                    },
                                    {
                                        "name": "suspend_reason_desc"
                                    },
                                    {
                                        "name": "recovery_lsn"
                                    },
                                    {
                                        "name": "truncation_lsn"
                                    },
                                    {
                                        "name": "last_sent_lsn"
                                    },
                                    {
                                        "name": "last_sent_time"
                                    },
                                    {
                                        "name": "last_received_lsn"
                                    },
                                    {
                                        "name": "last_received_time"
                                    },
                                    {
                                        "name": "last_hardened_lsn"
                                    },
                                    {
                                        "name": "last_hardened_time"
                                    },
                                    {
                                        "name": "last_redone_lsn"
                                    },
                                    {
                                        "name": "last_redone_time"
                                    },
                                    {
                                        "name": "log_send_queue_size"
                                    },
                                    {
                                        "name": "log_send_rate"
                                    },
                                    {
                                        "name": "redo_queue_size"
                                    },
                                    {
                                        "name": "redo_rate"
                                    },
                                    {
                                        "name": "filestream_send_rate"
                                    },
                                    {
                                        "name": "end_of_log_lsn"
                                    },
                                    {
                                        "name": "last_commit_lsn"
                                    },
                                    {
                                        "name": "last_commit_time"
                                    },
                                    {
                                        "name": "low_water_mark_for_ghosts"
                                    },
                                    {
                                        "name": "secondary_lag_seconds"
                                    },
                                    {
                                        "name": "quorum_commit_lsn"
                                    },
                                    {
                                        "name": "quorum_commit_time"
                                    }
                                ]
                            },
                            "data": [
                                {
                                    "0": "5",
                                    "1": "4eb2bc75-a025-4b39-bb37-0394cd9d15e0",
                                    "2": "7cd0e155-e578-4984-b55d-9657a0e40e82",
                                    "3": "8afaddc1-0427-40a0-8059-37e0d409994f",
                                    "4": "1",
                                    "5": "0",
                                    "6": "2",
                                    "7": "SYNCHRONIZED",
                                    "8": "0",
                                    "9": "2",
                                    "10": "HEALTHY",
                                    "11": "2",
                                    "12": "RECOVERING",
                                    "13": "0",
                                    "14": "NULL",
                                    "15": "NULL",
                                    "16": "34000000029300001",
                                    "17": "34000000015700001",
                                    "18": "1",
                                    "19": "2019-08-26 10:00:34.890",
                                    "20": "34000000036600001",
                                    "21": "2019-08-26 10:00:34.890",
                                    "22": "34000000036700001",
                                    "23": "2019-08-26 09:57:51.567",
                                    "24": "34000000036600001",
                                    "25": "2019-08-26 09:57:42.383",
                                    "26": "0",
                                    "27": "3125",
                                    "28": "0",
                                    "29": "341",
                                    "30": "0",
                                    "31": "34000000036600001",
                                    "32": "34000000036100025",
                                    "33": "2019-08-26 09:57:42.383",
                                    "34": "NULL",
                                    "35": "NULL",
                                    "36": "NULL",
                                    "37": "NULL"
                                },
                                {
                                    "0": "6",
                                    "1": "4eb2bc75-a025-4b39-bb37-0394cd9d15e0",
                                    "2": "7cd0e155-e578-4984-b55d-9657a0e40e82",
                                    "3": "0ccdb494-5d03-4896-81b9-752c1e5fa477",
                                    "4": "1",
                                    "5": "0",
                                    "6": "2",
                                    "7": "SYNCHRONIZED",
                                    "8": "0",
                                    "9": "2",
                                    "10": "HEALTHY",
                                    "11": "2",
                                    "12": "RECOVERING",
                                    "13": "0",
                                    "14": "NULL",
                                    "15": "NULL",
                                    "16": "34000000021200001",
                                    "17": "34000000015700001",
                                    "18": "1",
                                    "19": "2019-08-26 10:00:34.637",
                                    "20": "34000000025300001",
                                    "21": "2019-08-26 10:00:34.637",
                                    "22": "34000000025400001",
                                    "23": "2019-08-26 09:53:41.503",
                                    "24": "34000000025300001",
                                    "25": "2019-08-26 09:53:26.867",
                                    "26": "0",
                                    "27": "2000",
                                    "28": "0",
                                    "29": "376",
                                    "30": "0",
                                    "31": "34000000025300001",
                                    "32": "34000000025200003",
                                    "33": "2019-08-26 09:53:26.867",
                                    "34": "NULL",
                                    "35": "NULL",
                                    "36": "NULL",
                                    "37": "NULL"
                                }
                            ]
                        },
                        "text/html": "<table><tr><th>database_id</th><th>group_id</th><th>replica_id</th><th>group_database_id</th><th>is_local</th><th>is_primary_replica</th><th>synchronization_state</th><th>synchronization_state_desc</th><th>is_commit_participant</th><th>synchronization_health</th><th>synchronization_health_desc</th><th>database_state</th><th>database_state_desc</th><th>is_suspended</th><th>suspend_reason</th><th>suspend_reason_desc</th><th>recovery_lsn</th><th>truncation_lsn</th><th>last_sent_lsn</th><th>last_sent_time</th><th>last_received_lsn</th><th>last_received_time</th><th>last_hardened_lsn</th><th>last_hardened_time</th><th>last_redone_lsn</th><th>last_redone_time</th><th>log_send_queue_size</th><th>log_send_rate</th><th>redo_queue_size</th><th>redo_rate</th><th>filestream_send_rate</th><th>end_of_log_lsn</th><th>last_commit_lsn</th><th>last_commit_time</th><th>low_water_mark_for_ghosts</th><th>secondary_lag_seconds</th><th>quorum_commit_lsn</th><th>quorum_commit_time</th></tr><tr><td>5</td><td>4eb2bc75-a025-4b39-bb37-0394cd9d15e0</td><td>7cd0e155-e578-4984-b55d-9657a0e40e82</td><td>8afaddc1-0427-40a0-8059-37e0d409994f</td><td>1</td><td>0</td><td>2</td><td>SYNCHRONIZED</td><td>0</td><td>2</td><td>HEALTHY</td><td>2</td><td>RECOVERING</td><td>0</td><td>NULL</td><td>NULL</td><td>34000000029300001</td><td>34000000015700001</td><td>1</td><td>2019-08-26 10:00:34.890</td><td>34000000036600001</td><td>2019-08-26 10:00:34.890</td><td>34000000036700001</td><td>2019-08-26 09:57:51.567</td><td>34000000036600001</td><td>2019-08-26 09:57:42.383</td><td>0</td><td>3125</td><td>0</td><td>341</td><td>0</td><td>34000000036600001</td><td>34000000036100025</td><td>2019-08-26 09:57:42.383</td><td>NULL</td><td>NULL</td><td>NULL</td><td>NULL</td></tr><tr><td>6</td><td>4eb2bc75-a025-4b39-bb37-0394cd9d15e0</td><td>7cd0e155-e578-4984-b55d-9657a0e40e82</td><td>0ccdb494-5d03-4896-81b9-752c1e5fa477</td><td>1</td><td>0</td><td>2</td><td>SYNCHRONIZED</td><td>0</td><td>2</td><td>HEALTHY</td><td>2</td><td>RECOVERING</td><td>0</td><td>NULL</td><td>NULL</td><td>34000000021200001</td><td>34000000015700001</td><td>1</td><td>2019-08-26 10:00:34.637</td><td>34000000025300001</td><td>2019-08-26 10:00:34.637</td><td>34000000025400001</td><td>2019-08-26 09:53:41.503</td><td>34000000025300001</td><td>2019-08-26 09:53:26.867</td><td>0</td><td>2000</td><td>0</td><td>376</td><td>0</td><td>34000000025300001</td><td>34000000025200003</td><td>2019-08-26 09:53:26.867</td><td>NULL</td><td>NULL</td><td>NULL</td><td>NULL</td></tr></table>"
                    }
                },
                {
                    "output_type": "execute_result",
                    "metadata": {},
                    "execution_count": 5,
                    "data": {
                        "application/vnd.dataresource+json": {
                            "schema": {
                                "fields": [
                                    {
                                        "name": "replica_id"
                                    },
                                    {
                                        "name": "group_database_id"
                                    },
                                    {
                                        "name": "database_name"
                                    },
                                    {
                                        "name": "is_failover_ready"
                                    },
                                    {
                                        "name": "is_pending_secondary_suspend"
                                    },
                                    {
                                        "name": "is_database_joined"
                                    },
                                    {
                                        "name": "recovery_lsn"
                                    },
                                    {
                                        "name": "truncation_lsn"
                                    }
                                ]
                            },
                            "data": [
                                {
                                    "0": "7cd0e155-e578-4984-b55d-9657a0e40e82",
                                    "1": "0ccdb494-5d03-4896-81b9-752c1e5fa477",
                                    "2": "db2",
                                    "3": "1",
                                    "4": "0",
                                    "5": "1",
                                    "6": "4294967295429496729500001",
                                    "7": "34000000015700001"
                                },
                                {
                                    "0": "7cd0e155-e578-4984-b55d-9657a0e40e82",
                                    "1": "8afaddc1-0427-40a0-8059-37e0d409994f",
                                    "2": "db1",
                                    "3": "1",
                                    "4": "0",
                                    "5": "1",
                                    "6": "4294967295429496729500001",
                                    "7": "34000000015700001"
                                },
                                {
                                    "0": "69c1bc06-4f46-45b7-9d2e-1ba3033d4fd0",
                                    "1": "0ccdb494-5d03-4896-81b9-752c1e5fa477",
                                    "2": "db2",
                                    "3": "1",
                                    "4": "0",
                                    "5": "1",
                                    "6": "4294967295429496729500001",
                                    "7": "34000000015700001"
                                },
                                {
                                    "0": "69c1bc06-4f46-45b7-9d2e-1ba3033d4fd0",
                                    "1": "8afaddc1-0427-40a0-8059-37e0d409994f",
                                    "2": "db1",
                                    "3": "1",
                                    "4": "0",
                                    "5": "1",
                                    "6": "4294967295429496729500001",
                                    "7": "34000000015700001"
                                }
                            ]
                        },
                        "text/html": "<table><tr><th>replica_id</th><th>group_database_id</th><th>database_name</th><th>is_failover_ready</th><th>is_pending_secondary_suspend</th><th>is_database_joined</th><th>recovery_lsn</th><th>truncation_lsn</th></tr><tr><td>7cd0e155-e578-4984-b55d-9657a0e40e82</td><td>0ccdb494-5d03-4896-81b9-752c1e5fa477</td><td>db2</td><td>1</td><td>0</td><td>1</td><td>4294967295429496729500001</td><td>34000000015700001</td></tr><tr><td>7cd0e155-e578-4984-b55d-9657a0e40e82</td><td>8afaddc1-0427-40a0-8059-37e0d409994f</td><td>db1</td><td>1</td><td>0</td><td>1</td><td>4294967295429496729500001</td><td>34000000015700001</td></tr><tr><td>69c1bc06-4f46-45b7-9d2e-1ba3033d4fd0</td><td>0ccdb494-5d03-4896-81b9-752c1e5fa477</td><td>db2</td><td>1</td><td>0</td><td>1</td><td>4294967295429496729500001</td><td>34000000015700001</td></tr><tr><td>69c1bc06-4f46-45b7-9d2e-1ba3033d4fd0</td><td>8afaddc1-0427-40a0-8059-37e0d409994f</td><td>db1</td><td>1</td><td>0</td><td>1</td><td>4294967295429496729500001</td><td>34000000015700001</td></tr></table>"
                    }
                },
                {
                    "output_type": "execute_result",
                    "metadata": {},
                    "execution_count": 5,
                    "data": {
                        "application/vnd.dataresource+json": {
                            "schema": {
                                "fields": [
                                    {
                                        "name": "start_time"
                                    },
                                    {
                                        "name": "completion_time"
                                    },
                                    {
                                        "name": "ag_id"
                                    },
                                    {
                                        "name": "ag_db_id"
                                    },
                                    {
                                        "name": "ag_remote_replica_id"
                                    },
                                    {
                                        "name": "operation_id"
                                    },
                                    {
                                        "name": "is_source"
                                    },
                                    {
                                        "name": "current_state"
                                    },
                                    {
                                        "name": "performed_seeding"
                                    },
                                    {
                                        "name": "failure_state"
                                    },
                                    {
                                        "name": "failure_state_desc"
                                    },
                                    {
                                        "name": "error_code"
                                    },
                                    {
                                        "name": "number_of_attempts"
                                    }
                                ]
                            },
                            "data": []
                        },
                        "text/html": "<table><tr><th>start_time</th><th>completion_time</th><th>ag_id</th><th>ag_db_id</th><th>ag_remote_replica_id</th><th>operation_id</th><th>is_source</th><th>current_state</th><th>performed_seeding</th><th>failure_state</th><th>failure_state_desc</th><th>error_code</th><th>number_of_attempts</th></tr></table>"
                    }
                },
                {
                    "output_type": "execute_result",
                    "metadata": {},
                    "execution_count": 5,
                    "data": {
                        "application/vnd.dataresource+json": {
                            "schema": {
                                "fields": [
                                    {
                                        "name": "group_id"
                                    },
                                    {
                                        "name": "name"
                                    },
                                    {
                                        "name": "resource_id"
                                    },
                                    {
                                        "name": "resource_group_id"
                                    },
                                    {
                                        "name": "failure_condition_level"
                                    },
                                    {
                                        "name": "health_check_timeout"
                                    },
                                    {
                                        "name": "automated_backup_preference"
                                    },
                                    {
                                        "name": "automated_backup_preference_desc"
                                    }
                                ]
                            },
                            "data": [
                                {
                                    "0": "4eb2bc75-a025-4b39-bb37-0394cd9d15e0",
                                    "1": "aoag",
                                    "2": "b58fd117-4894-40a5-8bb5-c89f63cfcbd6",
                                    "3": "467c7d11-f797-4ae7-b94e-67e85628bc21",
                                    "4": "3",
                                    "5": "30000",
                                    "6": "2",
                                    "7": "secondary"
                                }
                            ]
                        },
                        "text/html": "<table><tr><th>group_id</th><th>name</th><th>resource_id</th><th>resource_group_id</th><th>failure_condition_level</th><th>health_check_timeout</th><th>automated_backup_preference</th><th>automated_backup_preference_desc</th></tr><tr><td>4eb2bc75-a025-4b39-bb37-0394cd9d15e0</td><td>aoag</td><td>b58fd117-4894-40a5-8bb5-c89f63cfcbd6</td><td>467c7d11-f797-4ae7-b94e-67e85628bc21</td><td>3</td><td>30000</td><td>2</td><td>secondary</td></tr></table>"
                    }
                },
                {
                    "output_type": "execute_result",
                    "metadata": {},
                    "execution_count": 5,
                    "data": {
                        "application/vnd.dataresource+json": {
                            "schema": {
                                "fields": [
                                    {
                                        "name": "replica_id"
                                    },
                                    {
                                        "name": "routing_priority"
                                    },
                                    {
                                        "name": "read_only_replica_id"
                                    }
                                ]
                            },
                            "data": []
                        },
                        "text/html": "<table><tr><th>replica_id</th><th>routing_priority</th><th>read_only_replica_id</th></tr></table>"
                    }
                },
                {
                    "output_type": "execute_result",
                    "metadata": {},
                    "execution_count": 5,
                    "data": {
                        "application/vnd.dataresource+json": {
                            "schema": {
                                "fields": [
                                    {
                                        "name": "replica_id"
                                    },
                                    {
                                        "name": "group_id"
                                    },
                                    {
                                        "name": "replica_metadata_id"
                                    },
                                    {
                                        "name": "replica_server_name"
                                    },
                                    {
                                        "name": "owner_sid"
                                    },
                                    {
                                        "name": "endpoint_url"
                                    },
                                    {
                                        "name": "availability_mode"
                                    },
                                    {
                                        "name": "availability_mode_desc"
                                    },
                                    {
                                        "name": "failover_mode"
                                    },
                                    {
                                        "name": "failover_mode_desc"
                                    },
                                    {
                                        "name": "session_timeout"
                                    },
                                    {
                                        "name": "primary_role_allow_connections"
                                    },
                                    {
                                        "name": "primary_role_allow_connections_desc"
                                    },
                                    {
                                        "name": "secondary_role_allow_connections"
                                    },
                                    {
                                        "name": "secondary_role_allow_connections_desc"
                                    },
                                    {
                                        "name": "create_date"
                                    },
                                    {
                                        "name": "modify_date"
                                    },
                                    {
                                        "name": "backup_priority"
                                    },
                                    {
                                        "name": "read_only_routing_url"
                                    },
                                    {
                                        "name": "seeding_mode"
                                    },
                                    {
                                        "name": "seeding_mode_desc"
                                    },
                                    {
                                        "name": "read_write_routing_url"
                                    }
                                ]
                            },
                            "data": [
                                {
                                    "0": "7cd0e155-e578-4984-b55d-9657a0e40e82",
                                    "1": "4eb2bc75-a025-4b39-bb37-0394cd9d15e0",
                                    "2": "65536",
                                    "3": "SQL1",
                                    "4": "0x01050000000000051500000044C54DDE6D3EAF32F5EA947AF4010000",
                                    "5": "TCP://SQL1:5022",
                                    "6": "1",
                                    "7": "SYNCHRONOUS_COMMIT",
                                    "8": "0",
                                    "9": "AUTOMATIC",
                                    "10": "10",
                                    "11": "2",
                                    "12": "ALL",
                                    "13": "2",
                                    "14": "ALL",
                                    "15": "2019-08-25 16:35:36.657",
                                    "16": "2019-08-25 16:35:36.657",
                                    "17": "50",
                                    "18": "NULL",
                                    "19": "1",
                                    "20": "MANUAL",
                                    "21": "NULL"
                                },
                                {
                                    "0": "69c1bc06-4f46-45b7-9d2e-1ba3033d4fd0",
                                    "1": "4eb2bc75-a025-4b39-bb37-0394cd9d15e0",
                                    "2": "NULL",
                                    "3": "SQL2",
                                    "4": "NULL",
                                    "5": "TCP://SQL2:5022",
                                    "6": "1",
                                    "7": "SYNCHRONOUS_COMMIT",
                                    "8": "1",
                                    "9": "MANUAL",
                                    "10": "10",
                                    "11": "2",
                                    "12": "ALL",
                                    "13": "2",
                                    "14": "ALL",
                                    "15": "NULL",
                                    "16": "NULL",
                                    "17": "50",
                                    "18": "NULL",
                                    "19": "1",
                                    "20": "MANUAL",
                                    "21": "NULL"
                                }
                            ]
                        },
                        "text/html": "<table><tr><th>replica_id</th><th>group_id</th><th>replica_metadata_id</th><th>replica_server_name</th><th>owner_sid</th><th>endpoint_url</th><th>availability_mode</th><th>availability_mode_desc</th><th>failover_mode</th><th>failover_mode_desc</th><th>session_timeout</th><th>primary_role_allow_connections</th><th>primary_role_allow_connections_desc</th><th>secondary_role_allow_connections</th><th>secondary_role_allow_connections_desc</th><th>create_date</th><th>modify_date</th><th>backup_priority</th><th>read_only_routing_url</th><th>seeding_mode</th><th>seeding_mode_desc</th><th>read_write_routing_url</th></tr><tr><td>7cd0e155-e578-4984-b55d-9657a0e40e82</td><td>4eb2bc75-a025-4b39-bb37-0394cd9d15e0</td><td>65536</td><td>SQL1</td><td>0x01050000000000051500000044C54DDE6D3EAF32F5EA947AF4010000</td><td>TCP://SQL1:5022</td><td>1</td><td>SYNCHRONOUS_COMMIT</td><td>0</td><td>AUTOMATIC</td><td>10</td><td>2</td><td>ALL</td><td>2</td><td>ALL</td><td>2019-08-25 16:35:36.657</td><td>2019-08-25 16:35:36.657</td><td>50</td><td>NULL</td><td>1</td><td>MANUAL</td><td>NULL</td></tr><tr><td>69c1bc06-4f46-45b7-9d2e-1ba3033d4fd0</td><td>4eb2bc75-a025-4b39-bb37-0394cd9d15e0</td><td>NULL</td><td>SQL2</td><td>NULL</td><td>TCP://SQL2:5022</td><td>1</td><td>SYNCHRONOUS_COMMIT</td><td>1</td><td>MANUAL</td><td>10</td><td>2</td><td>ALL</td><td>2</td><td>ALL</td><td>NULL</td><td>NULL</td><td>50</td><td>NULL</td><td>1</td><td>MANUAL</td><td>NULL</td></tr></table>"
                    }
                },
                {
                    "output_type": "execute_result",
                    "metadata": {},
                    "execution_count": 5,
                    "data": {
                        "application/vnd.dataresource+json": {
                            "schema": {
                                "fields": [
                                    {
                                        "name": "group_id"
                                    },
                                    {
                                        "name": "name"
                                    },
                                    {
                                        "name": "resource_id"
                                    },
                                    {
                                        "name": "resource_group_id"
                                    },
                                    {
                                        "name": "failure_condition_level"
                                    },
                                    {
                                        "name": "health_check_timeout"
                                    },
                                    {
                                        "name": "automated_backup_preference"
                                    },
                                    {
                                        "name": "automated_backup_preference_desc"
                                    },
                                    {
                                        "name": "version"
                                    },
                                    {
                                        "name": "basic_features"
                                    },
                                    {
                                        "name": "dtc_support"
                                    },
                                    {
                                        "name": "db_failover"
                                    },
                                    {
                                        "name": "is_distributed"
                                    },
                                    {
                                        "name": "cluster_type"
                                    },
                                    {
                                        "name": "cluster_type_desc"
                                    },
                                    {
                                        "name": "required_synchronized_secondaries_to_commit"
                                    },
                                    {
                                        "name": "sequence_number"
                                    },
                                    {
                                        "name": "is_contained"
                                    }
                                ]
                            },
                            "data": [
                                {
                                    "0": "4eb2bc75-a025-4b39-bb37-0394cd9d15e0",
                                    "1": "aoag",
                                    "2": "b58fd117-4894-40a5-8bb5-c89f63cfcbd6",
                                    "3": "467c7d11-f797-4ae7-b94e-67e85628bc21",
                                    "4": "3",
                                    "5": "30000",
                                    "6": "2",
                                    "7": "secondary",
                                    "8": "12",
                                    "9": "0",
                                    "10": "0",
                                    "11": "0",
                                    "12": "0",
                                    "13": "0",
                                    "14": "wsfc",
                                    "15": "0",
                                    "16": "17179869199",
                                    "17": "0"
                                }
                            ]
                        },
                        "text/html": "<table><tr><th>group_id</th><th>name</th><th>resource_id</th><th>resource_group_id</th><th>failure_condition_level</th><th>health_check_timeout</th><th>automated_backup_preference</th><th>automated_backup_preference_desc</th><th>version</th><th>basic_features</th><th>dtc_support</th><th>db_failover</th><th>is_distributed</th><th>cluster_type</th><th>cluster_type_desc</th><th>required_synchronized_secondaries_to_commit</th><th>sequence_number</th><th>is_contained</th></tr><tr><td>4eb2bc75-a025-4b39-bb37-0394cd9d15e0</td><td>aoag</td><td>b58fd117-4894-40a5-8bb5-c89f63cfcbd6</td><td>467c7d11-f797-4ae7-b94e-67e85628bc21</td><td>3</td><td>30000</td><td>2</td><td>secondary</td><td>12</td><td>0</td><td>0</td><td>0</td><td>0</td><td>0</td><td>wsfc</td><td>0</td><td>17179869199</td><td>0</td></tr></table>"
                    }
                },
                {
                    "output_type": "execute_result",
                    "metadata": {},
                    "execution_count": 5,
                    "data": {
                        "application/vnd.dataresource+json": {
                            "schema": {
                                "fields": [
                                    {
                                        "name": "replica_id"
                                    },
                                    {
                                        "name": "group_id"
                                    },
                                    {
                                        "name": "is_local"
                                    },
                                    {
                                        "name": "role"
                                    },
                                    {
                                        "name": "role_desc"
                                    },
                                    {
                                        "name": "operational_state"
                                    },
                                    {
                                        "name": "operational_state_desc"
                                    },
                                    {
                                        "name": "connected_state"
                                    },
                                    {
                                        "name": "connected_state_desc"
                                    },
                                    {
                                        "name": "recovery_health"
                                    },
                                    {
                                        "name": "recovery_health_desc"
                                    },
                                    {
                                        "name": "synchronization_health"
                                    },
                                    {
                                        "name": "synchronization_health_desc"
                                    },
                                    {
                                        "name": "last_connect_error_number"
                                    },
                                    {
                                        "name": "last_connect_error_description"
                                    },
                                    {
                                        "name": "last_connect_error_timestamp"
                                    },
                                    {
                                        "name": "write_lease_remaining_ticks"
                                    },
                                    {
                                        "name": "current_configuration_commit_start_time_utc"
                                    }
                                ]
                            },
                            "data": [
                                {
                                    "0": "7cd0e155-e578-4984-b55d-9657a0e40e82",
                                    "1": "4eb2bc75-a025-4b39-bb37-0394cd9d15e0",
                                    "2": "1",
                                    "3": "2",
                                    "4": "SECONDARY",
                                    "5": "2",
                                    "6": "ONLINE",
                                    "7": "1",
                                    "8": "CONNECTED",
                                    "9": "0",
                                    "10": "ONLINE_IN_PROGRESS",
                                    "11": "2",
                                    "12": "HEALTHY",
                                    "13": "NULL",
                                    "14": "NULL",
                                    "15": "NULL",
                                    "16": "NULL",
                                    "17": "NULL"
                                }
                            ]
                        },
                        "text/html": "<table><tr><th>replica_id</th><th>group_id</th><th>is_local</th><th>role</th><th>role_desc</th><th>operational_state</th><th>operational_state_desc</th><th>connected_state</th><th>connected_state_desc</th><th>recovery_health</th><th>recovery_health_desc</th><th>synchronization_health</th><th>synchronization_health_desc</th><th>last_connect_error_number</th><th>last_connect_error_description</th><th>last_connect_error_timestamp</th><th>write_lease_remaining_ticks</th><th>current_configuration_commit_start_time_utc</th></tr><tr><td>7cd0e155-e578-4984-b55d-9657a0e40e82</td><td>4eb2bc75-a025-4b39-bb37-0394cd9d15e0</td><td>1</td><td>2</td><td>SECONDARY</td><td>2</td><td>ONLINE</td><td>1</td><td>CONNECTED</td><td>0</td><td>ONLINE_IN_PROGRESS</td><td>2</td><td>HEALTHY</td><td>NULL</td><td>NULL</td><td>NULL</td><td>NULL</td><td>NULL</td></tr></table>"
                    }
                },
                {
                    "output_type": "execute_result",
                    "metadata": {},
                    "execution_count": 5,
                    "data": {
                        "application/vnd.dataresource+json": {
                            "schema": {
                                "fields": [
                                    {
                                        "name": "group_id"
                                    },
                                    {
                                        "name": "primary_replica"
                                    },
                                    {
                                        "name": "primary_recovery_health"
                                    },
                                    {
                                        "name": "primary_recovery_health_desc"
                                    },
                                    {
                                        "name": "secondary_recovery_health"
                                    },
                                    {
                                        "name": "secondary_recovery_health_desc"
                                    },
                                    {
                                        "name": "synchronization_health"
                                    },
                                    {
                                        "name": "synchronization_health_desc"
                                    }
                                ]
                            },
                            "data": [
                                {
                                    "0": "4eb2bc75-a025-4b39-bb37-0394cd9d15e0",
                                    "1": "SQL2",
                                    "2": "NULL",
                                    "3": "NULL",
                                    "4": "0",
                                    "5": "ONLINE_IN_PROGRESS",
                                    "6": "2",
                                    "7": "HEALTHY"
                                }
                            ]
                        },
                        "text/html": "<table><tr><th>group_id</th><th>primary_replica</th><th>primary_recovery_health</th><th>primary_recovery_health_desc</th><th>secondary_recovery_health</th><th>secondary_recovery_health_desc</th><th>synchronization_health</th><th>synchronization_health_desc</th></tr><tr><td>4eb2bc75-a025-4b39-bb37-0394cd9d15e0</td><td>SQL2</td><td>NULL</td><td>NULL</td><td>0</td><td>ONLINE_IN_PROGRESS</td><td>2</td><td>HEALTHY</td></tr></table>"
                    }
                },
                {
                    "output_type": "execute_result",
                    "metadata": {},
                    "execution_count": 5,
                    "data": {
                        "application/vnd.dataresource+json": {
                            "schema": {
                                "fields": [
                                    {
                                        "name": "replica_id"
                                    },
                                    {
                                        "name": "replica_server_name"
                                    },
                                    {
                                        "name": "group_id"
                                    },
                                    {
                                        "name": "join_state"
                                    },
                                    {
                                        "name": "join_state_desc"
                                    }
                                ]
                            },
                            "data": [
                                {
                                    "0": "7cd0e155-e578-4984-b55d-9657a0e40e82",
                                    "1": "SQL1",
                                    "2": "4eb2bc75-a025-4b39-bb37-0394cd9d15e0",
                                    "3": "1",
                                    "4": "JOINED_STANDALONE"
                                },
                                {
                                    "0": "69c1bc06-4f46-45b7-9d2e-1ba3033d4fd0",
                                    "1": "SQL2",
                                    "2": "4eb2bc75-a025-4b39-bb37-0394cd9d15e0",
                                    "3": "1",
                                    "4": "JOINED_STANDALONE"
                                }
                            ]
                        },
                        "text/html": "<table><tr><th>replica_id</th><th>replica_server_name</th><th>group_id</th><th>join_state</th><th>join_state_desc</th></tr><tr><td>7cd0e155-e578-4984-b55d-9657a0e40e82</td><td>SQL1</td><td>4eb2bc75-a025-4b39-bb37-0394cd9d15e0</td><td>1</td><td>JOINED_STANDALONE</td></tr><tr><td>69c1bc06-4f46-45b7-9d2e-1ba3033d4fd0</td><td>SQL2</td><td>4eb2bc75-a025-4b39-bb37-0394cd9d15e0</td><td>1</td><td>JOINED_STANDALONE</td></tr></table>"
                    }
                },
                {
                    "output_type": "execute_result",
                    "metadata": {},
                    "execution_count": 5,
                    "data": {
                        "application/vnd.dataresource+json": {
                            "schema": {
                                "fields": [
                                    {
                                        "name": "group_name"
                                    },
                                    {
                                        "name": "replica_server_name"
                                    },
                                    {
                                        "name": "node_name"
                                    }
                                ]
                            },
                            "data": [
                                {
                                    "0": "aoag",
                                    "1": "SQL1",
                                    "2": "SQL1"
                                },
                                {
                                    "0": "aoag",
                                    "1": "SQL2",
                                    "2": "SQL2"
                                }
                            ]
                        },
                        "text/html": "<table><tr><th>group_name</th><th>replica_server_name</th><th>node_name</th></tr><tr><td>aoag</td><td>SQL1</td><td>SQL1</td></tr><tr><td>aoag</td><td>SQL2</td><td>SQL2</td></tr></table>"
                    }
                },
                {
                    "output_type": "execute_result",
                    "metadata": {},
                    "execution_count": 5,
                    "data": {
                        "application/vnd.dataresource+json": {
                            "schema": {
                                "fields": [
                                    {
                                        "name": "group_id"
                                    },
                                    {
                                        "name": "group_database_id"
                                    },
                                    {
                                        "name": "database_name"
                                    },
                                    {
                                        "name": "truncation_lsn"
                                    }
                                ]
                            },
                            "data": [
                                {
                                    "0": "4eb2bc75-a025-4b39-bb37-0394cd9d15e0",
                                    "1": "0ccdb494-5d03-4896-81b9-752c1e5fa477",
                                    "2": "db2",
                                    "3": "34000000015700001"
                                },
                                {
                                    "0": "4eb2bc75-a025-4b39-bb37-0394cd9d15e0",
                                    "1": "8afaddc1-0427-40a0-8059-37e0d409994f",
                                    "2": "db1",
                                    "3": "34000000015700001"
                                }
                            ]
                        },
                        "text/html": "<table><tr><th>group_id</th><th>group_database_id</th><th>database_name</th><th>truncation_lsn</th></tr><tr><td>4eb2bc75-a025-4b39-bb37-0394cd9d15e0</td><td>0ccdb494-5d03-4896-81b9-752c1e5fa477</td><td>db2</td><td>34000000015700001</td></tr><tr><td>4eb2bc75-a025-4b39-bb37-0394cd9d15e0</td><td>8afaddc1-0427-40a0-8059-37e0d409994f</td><td>db1</td><td>34000000015700001</td></tr></table>"
                    }
                },
                {
                    "output_type": "execute_result",
                    "metadata": {},
                    "execution_count": 5,
                    "data": {
                        "application/vnd.dataresource+json": {
                            "schema": {
                                "fields": [
                                    {
                                        "name": "group_id"
                                    },
                                    {
                                        "name": "listener_id"
                                    },
                                    {
                                        "name": "dns_name"
                                    },
                                    {
                                        "name": "port"
                                    },
                                    {
                                        "name": "is_conformant"
                                    },
                                    {
                                        "name": "ip_configuration_string_from_cluster"
                                    }
                                ]
                            },
                            "data": [
                                {
                                    "0": "4eb2bc75-a025-4b39-bb37-0394cd9d15e0",
                                    "1": "85680de2-3bb0-41f7-85eb-2734a0529661",
                                    "2": "aoag_net",
                                    "3": "1433",
                                    "4": "1",
                                    "5": "('IP Address: 192.168.0.111')"
                                }
                            ]
                        },
                        "text/html": "<table><tr><th>group_id</th><th>listener_id</th><th>dns_name</th><th>port</th><th>is_conformant</th><th>ip_configuration_string_from_cluster</th></tr><tr><td>4eb2bc75-a025-4b39-bb37-0394cd9d15e0</td><td>85680de2-3bb0-41f7-85eb-2734a0529661</td><td>aoag_net</td><td>1433</td><td>1</td><td>('IP Address: 192.168.0.111')</td></tr></table>"
                    }
                },
                {
                    "output_type": "execute_result",
                    "metadata": {},
                    "execution_count": 5,
                    "data": {
                        "application/vnd.dataresource+json": {
                            "schema": {
                                "fields": [
                                    {
                                        "name": "create_time"
                                    },
                                    {
                                        "name": "component_type"
                                    },
                                    {
                                        "name": "component_name"
                                    },
                                    {
                                        "name": "state"
                                    },
                                    {
                                        "name": "state_desc"
                                    },
                                    {
                                        "name": "data"
                                    }
                                ]
                            },
                            "data": [
                                {
                                    "0": "2019-08-26 10:00:40.590",
                                    "1": "instance",
                                    "2": "system",
                                    "3": "1",
                                    "4": "clean",
                                    "5": "<system spinlockBackoffs=\"0\" sickSpinlockType=\"none\" sickSpinlockTypeAfterAv=\"none\" latchWarnings=\"0\" isAccessViolationOccurred=\"0\" writeAccessViolationCount=\"0\" totalDumpRequests=\"0\" intervalDumpRequests=\"0\" nonYieldingTasksReported=\"0\" pageFaults=\"639\" systemCpuUtilization=\"11\" sqlCpuUtilization=\"6\" BadPagesDetected=\"0\" BadPagesFixed=\"0\" LastBadPageAddress=\"0x0\"/>"
                                },
                                {
                                    "0": "2019-08-26 10:00:40.590",
                                    "1": "instance",
                                    "2": "resource",
                                    "3": "1",
                                    "4": "clean",
                                    "5": "<resource lastNotification=\"RESOURCE_MEMPHYSICAL_HIGH\" outOfMemoryExceptions=\"0\" isAnyPoolOutOfMemory=\"0\" processOutOfMemoryPeriod=\"0\"><memoryReport name=\"Process/System Counts\" unit=\"Value\"><entry description=\"Available Physical Memory\" value=\"743657472\"/><entry description=\"Available Virtual Memory\" value=\"140725449732096\"/><entry description=\"Available Paging File\" value=\"1824112640\"/><entry description=\"Working Set\" value=\"428412928\"/><entry description=\"Percent of Committed Memory in WS\" value=\"100\"/><entry description=\"Page Faults\" value=\"163127\"/><entry description=\"System physical memory high\" value=\"1\"/><entry description=\"System physical memory low\" value=\"0\"/><entry description=\"Process physical memory low\" value=\"0\"/><entry description=\"Process virtual memory low\" value=\"0\"/></memoryReport><memoryReport name=\"Memory Manager\" unit=\"KB\"><entry description=\"VM Reserved\" value=\"7038432\"/><entry description=\"VM Committed\" value=\"335996\"/><entry description=\"Locked Pages Allocated\" value=\"0\"/><entry description=\"Large Pages Allocated\" value=\"0\"/><entry description=\"Emergency Memory\" value=\"1024\"/><entry description=\"Emergency Memory In Use\" value=\"16\"/><entry description=\"Target Committed\" value=\"953568\"/><entry description=\"Current Committed\" value=\"336000\"/><entry description=\"Pages Allocated\" value=\"255352\"/><entry description=\"Pages Reserved\" value=\"0\"/><entry description=\"Pages Free\" value=\"23536\"/><entry description=\"Pages In Use\" value=\"265688\"/><entry description=\"Page Alloc Potential\" value=\"1683552\"/><entry description=\"NUMA Growth Phase\" value=\"0\"/><entry description=\"Last OOM Factor\" value=\"0\"/><entry description=\"Last OS Error\" value=\"0\"/></memoryReport></resource>"
                                },
                                {
                                    "0": "2019-08-26 10:00:40.590",
                                    "1": "instance",
                                    "2": "query_processing",
                                    "3": "1",
                                    "4": "clean",
                                    "5": "<queryProcessing maxWorkers=\"256\" workersCreated=\"88\" workersIdle=\"38\" tasksCompletedWithinInterval=\"26\" pendingTasks=\"0\" oldestPendingTaskWaitingTime=\"0\" hasUnresolvableDeadlockOccurred=\"0\" hasDeadlockedSchedulersOccurred=\"0\" trackingNonYieldingScheduler=\"0x0\"><topWaits><nonPreemptive><byCount><wait waitType=\"PARALLEL_REDO_WORKER_WAIT_WORK\" waits=\"19199812\" averageWaitTime=\"7\" maxWaitTime=\"396\"/><wait waitType=\"MEMORY_ALLOCATION_EXT\" waits=\"548107\" averageWaitTime=\"0\" maxWaitTime=\"19\"/><wait waitType=\"HADR_WORK_QUEUE\" waits=\"309937\" averageWaitTime=\"254\" maxWaitTime=\"10008\"/><wait waitType=\"HADR_CLUSAPI_CALL\" waits=\"267639\" averageWaitTime=\"141\" maxWaitTime=\"694\"/><wait waitType=\"HADR_TIMER_TASK\" waits=\"119952\" averageWaitTime=\"314\" maxWaitTime=\"10001\"/><wait waitType=\"HADR_FILESTREAM_IOMGR_IOCOMPLETION\" waits=\"75326\" averageWaitTime=\"501\" maxWaitTime=\"604\"/><wait waitType=\"RESERVED_MEMORY_ALLOCATION_EXT\" waits=\"37115\" averageWaitTime=\"0\" maxWaitTime=\"1\"/><wait waitType=\"MSQL_XP\" waits=\"7085\" averageWaitTime=\"4\" maxWaitTime=\"273\"/><wait waitType=\"PAGELATCH_SH\" waits=\"5513\" averageWaitTime=\"0\" maxWaitTime=\"10\"/><wait waitType=\"ASYNC_NETWORK_IO\" waits=\"4164\" averageWaitTime=\"0\" maxWaitTime=\"41\"/></byCount><byDuration><wait waitType=\"PARALLEL_REDO_WORKER_WAIT_WORK\" waits=\"19199812\" averageWaitTime=\"7\" maxWaitTime=\"396\"/><wait waitType=\"HADR_WORK_QUEUE\" waits=\"309937\" averageWaitTime=\"254\" maxWaitTime=\"10008\"/><wait waitType=\"HADR_CLUSAPI_CALL\" waits=\"267639\" averageWaitTime=\"141\" maxWaitTime=\"694\"/><wait waitType=\"HADR_TIMER_TASK\" waits=\"119952\" averageWaitTime=\"314\" maxWaitTime=\"10001\"/><wait waitType=\"HADR_FILESTREAM_IOMGR_IOCOMPLETION\" waits=\"75326\" averageWaitTime=\"501\" maxWaitTime=\"604\"/><wait waitType=\"PWAIT_ALL_COMPONENTS_INITIALIZED\" waits=\"3\" averageWaitTime=\"20672\" maxWaitTime=\"20714\"/><wait waitType=\"MSQL_XP\" waits=\"7085\" averageWaitTime=\"4\" maxWaitTime=\"273\"/><wait waitType=\"PAGEIOLATCH_SH\" waits=\"553\" averageWaitTime=\"19\" maxWaitTime=\"327\"/><wait waitType=\"HADR_DB_COMMAND\" waits=\"10\" averageWaitTime=\"809\" maxWaitTime=\"4000\"/><wait waitType=\"LCK_M_S\" waits=\"8\" averageWaitTime=\"765\" maxWaitTime=\"4527\"/></byDuration></nonPreemptive><preemptive><byCount><wait waitType=\"PREEMPTIVE_XE_CALLBACKEXECUTE\" waits=\"12164\" averageWaitTime=\"0\" maxWaitTime=\"1\"/><wait waitType=\"PREEMPTIVE_OS_QUERYREGISTRY\" waits=\"10778\" averageWaitTime=\"0\" maxWaitTime=\"128\"/><wait waitType=\"PREEMPTIVE_OS_GETPROCADDRESS\" waits=\"7085\" averageWaitTime=\"0\" maxWaitTime=\"7\"/><wait waitType=\"PREEMPTIVE_XE_GETTARGETSTATE\" waits=\"1141\" averageWaitTime=\"5\" maxWaitTime=\"138\"/><wait waitType=\"PREEMPTIVE_OS_AUTHENTICATIONOPS\" waits=\"655\" averageWaitTime=\"0\" maxWaitTime=\"23\"/><wait waitType=\"PREEMPTIVE_OS_AUTHORIZATIONOPS\" waits=\"637\" averageWaitTime=\"0\" maxWaitTime=\"5\"/><wait waitType=\"PREEMPTIVE_OS_CRYPTOPS\" waits=\"344\" averageWaitTime=\"1\" maxWaitTime=\"596\"/><wait waitType=\"PREEMPTIVE_OS_FILEOPS\" waits=\"155\" averageWaitTime=\"14\" maxWaitTime=\"331\"/><wait waitType=\"PREEMPTIVE_OS_CRYPTACQUIRECONTEXT\" waits=\"125\" averageWaitTime=\"0\" maxWaitTime=\"2\"/><wait waitType=\"PREEMPTIVE_OS_REPORTEVENT\" waits=\"110\" averageWaitTime=\"1\" maxWaitTime=\"33\"/></byCount><byDuration><wait waitType=\"PREEMPTIVE_XE_GETTARGETSTATE\" waits=\"1141\" averageWaitTime=\"5\" maxWaitTime=\"138\"/><wait waitType=\"PREEMPTIVE_OS_QUERYREGISTRY\" waits=\"10778\" averageWaitTime=\"0\" maxWaitTime=\"128\"/><wait waitType=\"PREEMPTIVE_OS_FILEOPS\" waits=\"155\" averageWaitTime=\"14\" maxWaitTime=\"331\"/><wait waitType=\"PREEMPTIVE_OS_LOADLIBRARY\" waits=\"4\" averageWaitTime=\"226\" maxWaitTime=\"680\"/><wait waitType=\"PREEMPTIVE_OS_LIBRARYOPS\" waits=\"1\" averageWaitTime=\"701\" maxWaitTime=\"701\"/><wait waitType=\"PREEMPTIVE_OS_CRYPTOPS\" waits=\"344\" averageWaitTime=\"1\" maxWaitTime=\"596\"/><wait waitType=\"PREEMPTIVE_OS_VERIFYTRUST\" waits=\"6\" averageWaitTime=\"102\" maxWaitTime=\"328\"/><wait waitType=\"PREEMPTIVE_OS_AUTHORIZATIONOPS\" waits=\"637\" averageWaitTime=\"0\" maxWaitTime=\"5\"/><wait waitType=\"PREEMPTIVE_OS_AUTHENTICATIONOPS\" waits=\"655\" averageWaitTime=\"0\" maxWaitTime=\"23\"/><wait waitType=\"PREEMPTIVE_OS_GENERICOPS\" waits=\"17\" averageWaitTime=\"22\" maxWaitTime=\"130\"/></byDuration></preemptive></topWaits><cpuIntensiveRequests><request sessionId=\"73\" requestId=\"0\" command=\"EXECUTE\" taskAddress=\"0x18c2ac168c8\" cpuUtilization=\"0\" cpuTimeMs=\"47\"/></cpuIntensiveRequests><pendingTasks></pendingTasks><blockingTasks></blockingTasks></queryProcessing>"
                                },
                                {
                                    "0": "2019-08-26 10:00:40.590",
                                    "1": "instance",
                                    "2": "io_subsystem",
                                    "3": "1",
                                    "4": "clean",
                                    "5": "<ioSubsystem ioLatchTimeouts=\"0\" intervalLongIos=\"0\" totalLongIos=\"0\"><longestPendingRequests></longestPendingRequests></ioSubsystem>"
                                },
                                {
                                    "0": "2019-08-26 10:00:40.590",
                                    "1": "instance",
                                    "2": "events",
                                    "3": "0",
                                    "4": "unknown",
                                    "5": "<events><session startTime=\"2019-08-25T23:31:35.553\" droppedEvents=\"0\" largestDroppedEvent=\"0\"><RingBufferTarget truncated=\"0\" processingTime=\"0\" totalEventsProcessed=\"32\" eventCount=\"32\" droppedCount=\"0\" memoryUsed=\"5224\"><event name=\"scheduler_monitor_system_health_ring_buffer_recorded\" package=\"sqlos\" timestamp=\"2019-08-26T16:54:41.283Z\"><data name=\"id\"><type name=\"uint32\" package=\"package0\"></type><value>0</value></data><data name=\"timestamp\"><type name=\"uint64\" package=\"package0\"></type><value>0</value></data><data name=\"process_utilization\"><type name=\"uint32\" package=\"package0\"></type><value>2</value></data><data name=\"system_idle\"><type name=\"uint32\" package=\"package0\"></type><value>95</value></data><data name=\"user_mode_time\"><type name=\"uint64\" package=\"package0\"></type><value>21718750</value></data><data name=\"kernel_mode_time\"><type name=\"uint64\" package=\"package0\"></type><value>10468750</value></data><data name=\"page_faults\"><type name=\"uint32\" package=\"package0\"></type><value>816</value></data><data name=\"working_set_delta\"><type name=\"int64\" package=\"package0\"></type><value>733184</value></data><data name=\"memory_utilization\"><type name=\"uint32\" package=\"package0\"></type><value>100</value></data><data name=\"call_stack\"><type name=\"callstack\" package=\"package0\"></type><value><![CDATA[]]></value></data></event><event name=\"security_error_ring_buffer_recorded\" package=\"sqlserver\" timestamp=\"2019-08-26T16:55:16.089Z\"><data name=\"id\"><type name=\"uint32\" package=\"package0\"></type><value>0</value></data><data name=\"timestamp\"><type name=\"uint64\" package=\"package0\"></type><value>0</value></data><data name=\"session_id\"><type name=\"int16\" package=\"package0\"></type><value>51</value></data><data name=\"error_code\"><type name=\"uint32\" package=\"package0\"></type><value>5023</value></data><data name=\"api_name\"><type name=\"unicode_string\" package=\"package0\"></type><value><![CDATA[ImpersonateSecurityContext]]></value></data><data name=\"calling_api_name\"><type name=\"unicode_string\" package=\"package0\"></type><value><![CDATA[NLShimImpersonate]]></value></data><data name=\"call_stack\"><type name=\"callstack\" package=\"package0\"></type><value><![CDATA[]]></value></data></event><event name=\"security_error_ring_buffer_recorded\" package=\"sqlserver\" timestamp=\"2019-08-26T16:55:16.105Z\"><data name=\"id\"><type name=\"uint32\" package=\"package0\"></type><value>0</value></data><data name=\"timestamp\"><type name=\"uint64\" package=\"package0\"></type><value>0</value></data><data name=\"session_id\"><type name=\"int16\" package=\"package0\"></type><value>51</value></data><data name=\"error_code\"><type name=\"uint32\" package=\"package0\"></type><value>5023</value></data><data name=\"api_name\"><type name=\"unicode_string\" package=\"package0\"></type><value><![CDATA[ImpersonateSecurityContext]]></value></data><data name=\"calling_api_name\"><type name=\"unicode_string\" package=\"package0\"></type><value><![CDATA[NLShimImpersonate]]></value></data><data name=\"call_stack\"><type name=\"callstack\" package=\"package0\"></type><value><![CDATA[]]></value></data></event><event name=\"security_error_ring_buffer_recorded\" package=\"sqlserver\" timestamp=\"2019-08-26T16:55:39.049Z\"><data name=\"id\"><type name=\"uint32\" package=\"package0\"></type><value>0</value></data><data name=\"timestamp\"><type name=\"uint64\" package=\"package0\"></type><value>0</value></data><data name=\"session_id\"><type name=\"int16\" package=\"package0\"></type><value>51</value></data><data name=\"error_code\"><type name=\"uint32\" package=\"package0\"></type><value>5023</value></data><data name=\"api_name\"><type name=\"unicode_string\" package=\"package0\"></type><value><![CDATA[ImpersonateSecurityContext]]></value></data><data name=\"calling_api_name\"><type name=\"unicode_string\" package=\"package0\"></type><value><![CDATA[NLShimImpersonate]]></value></data><data name=\"call_stack\"><type name=\"callstack\" package=\"package0\"></type><value><![CDATA[]]></value></data></event><event name=\"scheduler_monitor_system_health_ring_buffer_recorded\" package=\"sqlos\" timestamp=\"2019-08-26T16:55:41.296Z\"><data name=\"id\"><type name=\"uint32\" package=\"package0\"></type><value>0</value></data><data name=\"timestamp\"><type name=\"uint64\" package=\"package0\"></type><value>0</value></data><data name=\"process_utilization\"><type name=\"uint32\" package=\"package0\"></type><value>2</value></data><data name=\"system_idle\"><type name=\"uint32\" package=\"package0\"></type><value>94</value></data><data name=\"user_mode_time\"><type name=\"uint64\" package=\"package0\"></type><value>23125000</value></data><data name=\"kernel_mode_time\"><type name=\"uint64\" package=\"package0\"></type><value>10000000</value></data><data name=\"page_faults\"><type name=\"uint32\" package=\"package0\"></type><value>9</value></data><data name=\"working_set_delta\"><type name=\"int64\" package=\"package0\"></type><value>36864</value></data><data name=\"memory_utilization\"><type name=\"uint32\" package=\"package0\"></type><value>100</value></data><data name=\"call_stack\"><type name=\"callstack\" package=\"package0\"></type><value><![CDATA[]]></value></data></event><event name=\"security_error_ring_buffer_recorded\" package=\"sqlserver\" timestamp=\"2019-08-26T16:55:47.847Z\"><data name=\"id\"><type name=\"uint32\" package=\"package0\"></type><value>0</value></data><data name=\"timestamp\"><type name=\"uint64\" package=\"package0\"></type><value>0</value></data><data name=\"session_id\"><type name=\"int16\" package=\"package0\"></type><value>65</value></data><data name=\"error_code\"><type name=\"uint32\" package=\"package0\"></type><value>5023</value></data><data name=\"api_name\"><type name=\"unicode_string\" package=\"package0\"></type><value><![CDATA[ImpersonateSecurityContext]]></value></data><data name=\"calling_api_name\"><type name=\"unicode_string\" package=\"package0\"></type><value><![CDATA[NLShimImpersonate]]></value></data><data name=\"call_stack\"><type name=\"callstack\" package=\"package0\"></type><value><![CDATA[]]></value></data></event><event name=\"security_error_ring_buffer_recorded\" package=\"sqlserver\" timestamp=\"2019-08-26T16:55:47.955Z\"><data name=\"id\"><type name=\"uint32\" package=\"package0\"></type><value>0</value></data><data name=\"timestamp\"><type name=\"uint64\" package=\"package0\"></type><value>0</value></data><data name=\"session_id\"><type name=\"int16\" package=\"package0\"></type><value>65</value></data><data name=\"error_code\"><type name=\"uint32\" package=\"package0\"></type><value>5023</value></data><data name=\"api_name\"><type name=\"unicode_string\" package=\"package0\"></type><value><![CDATA[ImpersonateSecurityContext]]></value></data><data name=\"calling_api_name\"><type name=\"unicode_string\" package=\"package0\"></type><value><![CDATA[NLShimImpersonate]]></value></data><data name=\"call_stack\"><type name=\"callstack\" package=\"package0\"></type><value><![CDATA[]]></value></data></event><event name=\"security_error_ring_buffer_recorded\" package=\"sqlserver\" timestamp=\"2019-08-26T16:56:36.266Z\"><data name=\"id\"><type name=\"uint32\" package=\"package0\"></type><value>0</value></data><data name=\"timestamp\"><type name=\"uint64\" package=\"package0\"></type><value>0</value></data><data name=\"session_id\"><type name=\"int16\" package=\"package0\"></type><value>65</value></data><data name=\"error_code\"><type name=\"uint32\" package=\"package0\"></type><value>5023</value></data><data name=\"api_name\"><type name=\"unicode_string\" package=\"package0\"></type><value><![CDATA[ImpersonateSecurityContext]]></value></data><data name=\"calling_api_name\"><type name=\"unicode_string\" package=\"package0\"></type><value><![CDATA[NLShimImpersonate]]></value></data><data name=\"call_stack\"><type name=\"callstack\" package=\"package0\"></type><value><![CDATA[]]></value></data></event><event name=\"security_error_ring_buffer_recorded\" package=\"sqlserver\" timestamp=\"2019-08-26T16:56:36.606Z\"><data name=\"id\"><type name=\"uint32\" package=\"package0\"></type><value>0</value></data><data name=\"timestamp\"><type name=\"uint64\" package=\"package0\"></type><value>0</value></data><data name=\"session_id\"><type name=\"int16\" package=\"package0\"></type><value>70</value></data><data name=\"error_code\"><type name=\"uint32\" package=\"package0\"></type><value>5023</value></data><data name=\"api_name\"><type name=\"unicode_string\" package=\"package0\"></type><value><![CDATA[ImpersonateSecurityContext]]></value></data><data name=\"calling_api_name\"><type name=\"unicode_string\" package=\"package0\"></type><value><![CDATA[NLShimImpersonate]]></value></data><data name=\"call_stack\"><type name=\"callstack\" package=\"package0\"></type><value><![CDATA[]]></value></data></event><event name=\"scheduler_monitor_system_health_ring_buffer_recorded\" package=\"sqlos\" timestamp=\"2019-08-26T16:56:41.305Z\"><data name=\"id\"><type name=\"uint32\" package=\"package0\"></type><value>0</value></data><data name=\"timestamp\"><type name=\"uint64\" package=\"package0\"></type><value>0</value></data><data name=\"process_utilization\"><type name=\"uint32\" package=\"package0\"></type><value>3</value></data><data name=\"system_idle\"><type name=\"uint32\" package=\"package0\"></type><value>93</value></data><data name=\"user_mode_time\"><type name=\"uint64\" package=\"package0\"></type><value>32343750</value></data><data name=\"kernel_mode_time\"><type name=\"uint64\" package=\"package0\"></type><value>10781250</value></data><data name=\"page_faults\"><type name=\"uint32\" package=\"package0\"></type><value>735</value></data><data name=\"working_set_delta\"><type name=\"int64\" package=\"package0\"></type><value>2408448</value></data><data name=\"memory_utilization\"><type name=\"uint32\" package=\"package0\"></type><value>100</value></data><data name=\"call_stack\"><type name=\"callstack\" package=\"package0\"></type><value><![CDATA[]]></value></data></event><event name=\"security_error_ring_buffer_recorded\" package=\"sqlserver\" timestamp=\"2019-08-26T16:56:59.395Z\"><data name=\"id\"><type name=\"uint32\" package=\"package0\"></type><value>0</value></data><data name=\"timestamp\"><type name=\"uint64\" package=\"package0\"></type><value>0</value></data><data name=\"session_id\"><type name=\"int16\" package=\"package0\"></type><value>75</value></data><data name=\"error_code\"><type name=\"uint32\" package=\"package0\"></type><value>5023</value></data><data name=\"api_name\"><type name=\"unicode_string\" package=\"package0\"></type><value><![CDATA[ImpersonateSecurityContext]]></value></data><data name=\"calling_api_name\"><type name=\"unicode_string\" package=\"package0\"></type><value><![CDATA[NLShimImpersonate]]></value></data><data name=\"call_stack\"><type name=\"callstack\" package=\"package0\"></type><value><![CDATA[]]></value></data></event><event name=\"security_error_ring_buffer_recorded\" package=\"sqlserver\" timestamp=\"2019-08-26T16:56:59.547Z\"><data name=\"id\"><type name=\"uint32\" package=\"package0\"></type><value>0</value></data><data name=\"timestamp\"><type name=\"uint64\" package=\"package0\"></type><value>0</value></data><data name=\"session_id\"><type name=\"int16\" package=\"package0\"></type><value>75</value></data><data name=\"error_code\"><type name=\"uint32\" package=\"package0\"></type><value>5023</value></data><data name=\"api_name\"><type name=\"unicode_string\" package=\"package0\"></type><value><![CDATA[ImpersonateSecurityContext]]></value></data><data name=\"calling_api_name\"><type name=\"unicode_string\" package=\"package0\"></type><value><![CDATA[NLShimImpersonate]]></value></data><data name=\"call_stack\"><type name=\"callstack\" package=\"package0\"></type><value><![CDATA[]]></value></data></event><event name=\"scheduler_monitor_system_health_ring_buffer_recorded\" package=\"sqlos\" timestamp=\"2019-08-26T16:57:41.314Z\"><data name=\"id\"><type name=\"uint32\" package=\"package0\"></type><value>0</value></data><data name=\"timestamp\"><type name=\"uint64\" package=\"package0\"></type><value>0</value></data><data name=\"process_utilization\"><type name=\"uint32\" package=\"package0\"></type><value>2</value></data><data name=\"system_idle\"><type name=\"uint32\" package=\"package0\"></type><value>94</value></data><data name=\"user_mode_time\"><type name=\"uint64\" package=\"package0\"></type><value>23593750</value></data><data name=\"kernel_mode_time\"><type name=\"uint64\" package=\"package0\"></type><value>8750000</value></data><data name=\"page_faults\"><type name=\"uint32\" package=\"package0\"></type><value>149</value></data><data name=\"working_set_delta\"><type name=\"int64\" package=\"package0\"></type><value>-24576</value></data><data name=\"memory_utilization\"><type name=\"uint32\" package=\"package0\"></type><value>100</value></data><data name=\"call_stack\"><type name=\"callstack\" package=\"package0\"></type><value><![CDATA[]]></value></data></event><event name=\"security_error_ring_buffer_recorded\" package=\"sqlserver\" timestamp=\"2019-08-26T16:58:14.066Z\"><data name=\"id\"><type name=\"uint32\" package=\"package0\"></type><value>0</value></data><data name=\"timestamp\"><type name=\"uint64\" package=\"package0\"></type><value>0</value></data><data name=\"session_id\"><type name=\"int16\" package=\"package0\"></type><value>75</value></data><data name=\"error_code\"><type name=\"uint32\" package=\"package0\"></type><value>5023</value></data><data name=\"api_name\"><type name=\"unicode_string\" package=\"package0\"></type><value><![CDATA[ImpersonateSecurityContext]]></value></data><data name=\"calling_api_name\"><type name=\"unicode_string\" package=\"package0\"></type><value><![CDATA[NLShimImpersonate]]></value></data><data name=\"call_stack\"><type name=\"callstack\" package=\"package0\"></type><value><![CDATA[]]></value></data></event><event name=\"security_error_ring_buffer_recorded\" package=\"sqlserver\" timestamp=\"2019-08-26T16:58:29.707Z\"><data name=\"id\"><type name=\"uint32\" package=\"package0\"></type><value>0</value></data><data name=\"timestamp\"><type name=\"uint64\" package=\"package0\"></type><value>0</value></data><data name=\"session_id\"><type name=\"int16\" package=\"package0\"></type><value>58</value></data><data name=\"error_code\"><type name=\"uint32\" package=\"package0\"></type><value>5023</value></data><data name=\"api_name\"><type name=\"unicode_string\" package=\"package0\"></type><value><![CDATA[ImpersonateSecurityContext]]></value></data><data name=\"calling_api_name\"><type name=\"unicode_string\" package=\"package0\"></type><value><![CDATA[NLShimImpersonate]]></value></data><data name=\"call_stack\"><type name=\"callstack\" package=\"package0\"></type><value><![CDATA[]]></value></data></event><event name=\"security_error_ring_buffer_recorded\" package=\"sqlserver\" timestamp=\"2019-08-26T16:58:32.436Z\"><data name=\"id\"><type name=\"uint32\" package=\"package0\"></type><value>0</value></data><data name=\"timestamp\"><type name=\"uint64\" package=\"package0\"></type><value>0</value></data><data name=\"session_id\"><type name=\"int16\" package=\"package0\"></type><value>58</value></data><data name=\"error_code\"><type name=\"uint32\" package=\"package0\"></type><value>5023</value></data><data name=\"api_name\"><type name=\"unicode_string\" package=\"package0\"></type><value><![CDATA[ImpersonateSecurityContext]]></value></data><data name=\"calling_api_name\"><type name=\"unicode_string\" package=\"package0\"></type><value><![CDATA[NLShimImpersonate]]></value></data><data name=\"call_stack\"><type name=\"callstack\" package=\"package0\"></type><value><![CDATA[]]></value></data></event><event name=\"security_error_ring_buffer_recorded\" package=\"sqlserver\" timestamp=\"2019-08-26T16:58:32.574Z\"><data name=\"id\"><type name=\"uint32\" package=\"package0\"></type><value>0</value></data><data name=\"timestamp\"><type name=\"uint64\" package=\"package0\"></type><value>0</value></data><data name=\"session_id\"><type name=\"int16\" package=\"package0\"></type><value>58</value></data><data name=\"error_code\"><type name=\"uint32\" package=\"package0\"></type><value>5023</value></data><data name=\"api_name\"><type name=\"unicode_string\" package=\"package0\"></type><value><![CDATA[ImpersonateSecurityContext]]></value></data><data name=\"calling_api_name\"><type name=\"unicode_string\" package=\"package0\"></type><value><![CDATA[NLShimImpersonate]]></value></data><data name=\"call_stack\"><type name=\"callstack\" package=\"package0\"></type><value><![CDATA[]]></value></data></event><event name=\"security_error_ring_buffer_recorded\" package=\"sqlserver\" timestamp=\"2019-08-26T16:58:32.935Z\"><data name=\"id\"><type name=\"uint32\" package=\"package0\"></type><value>0</value></data><data name=\"timestamp\"><type name=\"uint64\" package=\"package0\"></type><value>0</value></data><data name=\"session_id\"><type name=\"int16\" package=\"package0\"></type><value>58</value></data><data name=\"error_code\"><type name=\"uint32\" package=\"package0\"></type><value>5023</value></data><data name=\"api_name\"><type name=\"unicode_string\" package=\"package0\"></type><value><![CDATA[ImpersonateSecurityContext]]></value></data><data name=\"calling_api_name\"><type name=\"unicode_string\" package=\"package0\"></type><value><![CDATA[NLShimImpersonate]]></value></data><data name=\"call_stack\"><type name=\"callstack\" package=\"package0\"></type><value><![CDATA[]]></value></data></event><event name=\"security_error_ring_buffer_recorded\" package=\"sqlserver\" timestamp=\"2019-08-26T16:58:36.563Z\"><data name=\"id\"><type name=\"uint32\" package=\"package0\"></type><value>0</value></data><data name=\"timestamp\"><type name=\"uint64\" package=\"package0\"></type><value>0</value></data><data name=\"session_id\"><type name=\"int16\" package=\"package0\"></type><value>58</value></data><data name=\"error_code\"><type name=\"uint32\" package=\"package0\"></type><value>5023</value></data><data name=\"api_name\"><type name=\"unicode_string\" package=\"package0\"></type><value><![CDATA[ImpersonateSecurityContext]]></value></data><data name=\"calling_api_name\"><type name=\"unicode_string\" package=\"package0\"></type><value><![CDATA[NLShimImpersonate]]></value></data><data name=\"call_stack\"><type name=\"callstack\" package=\"package0\"></type><value><![CDATA[]]></value></data></event><event name=\"security_error_ring_buffer_recorded\" package=\"sqlserver\" timestamp=\"2019-08-26T16:58:37.099Z\"><data name=\"id\"><type name=\"uint32\" package=\"package0\"></type><value>0</value></data><data name=\"timestamp\"><type name=\"uint64\" package=\"package0\"></type><value>0</value></data><data name=\"session_id\"><type name=\"int16\" package=\"package0\"></type><value>75</value></data><data name=\"error_code\"><type name=\"uint32\" package=\"package0\"></type><value>5023</value></data><data name=\"api_name\"><type name=\"unicode_string\" package=\"package0\"></type><value><![CDATA[ImpersonateSecurityContext]]></value></data><data name=\"calling_api_name\"><type name=\"unicode_string\" package=\"package0\"></type><value><![CDATA[NLShimImpersonate]]></value></data><data name=\"call_stack\"><type name=\"callstack\" package=\"package0\"></type><value><![CDATA[]]></value></data></event><event name=\"security_error_ring_buffer_recorded\" package=\"sqlserver\" timestamp=\"2019-08-26T16:58:37.197Z\"><data name=\"id\"><type name=\"uint32\" package=\"package0\"></type><value>0</value></data><data name=\"timestamp\"><type name=\"uint64\" package=\"package0\"></type><value>0</value></data><data name=\"session_id\"><type name=\"int16\" package=\"package0\"></type><value>77</value></data><data name=\"error_code\"><type name=\"uint32\" package=\"package0\"></type><value>5023</value></data><data name=\"api_name\"><type name=\"unicode_string\" package=\"package0\"></type><value><![CDATA[ImpersonateSecurityContext]]></value></data><data name=\"calling_api_name\"><type name=\"unicode_string\" package=\"package0\"></type><value><![CDATA[NLShimImpersonate]]></value></data><data name=\"call_stack\"><type name=\"callstack\" package=\"package0\"></type><value><![CDATA[]]></value></data></event><event name=\"security_error_ring_buffer_recorded\" package=\"sqlserver\" timestamp=\"2019-08-26T16:58:37.306Z\"><data name=\"id\"><type name=\"uint32\" package=\"package0\"></type><value>0</value></data><data name=\"timestamp\"><type name=\"uint64\" package=\"package0\"></type><value>0</value></data><data name=\"session_id\"><type name=\"int16\" package=\"package0\"></type><value>77</value></data><data name=\"error_code\"><type name=\"uint32\" package=\"package0\"></type><value>5023</value></data><data name=\"api_name\"><type name=\"unicode_string\" package=\"package0\"></type><value><![CDATA[ImpersonateSecurityContext]]></value></data><data name=\"calling_api_name\"><type name=\"unicode_string\" package=\"package0\"></type><value><![CDATA[NLShimImpersonate]]></value></data><data name=\"call_stack\"><type name=\"callstack\" package=\"package0\"></type><value><![CDATA[]]></value></data></event><event name=\"security_error_ring_buffer_recorded\" package=\"sqlserver\" timestamp=\"2019-08-26T16:58:38.454Z\"><data name=\"id\"><type name=\"uint32\" package=\"package0\"></type><value>0</value></data><data name=\"timestamp\"><type name=\"uint64\" package=\"package0\"></type><value>0</value></data><data name=\"session_id\"><type name=\"int16\" package=\"package0\"></type><value>77</value></data><data name=\"error_code\"><type name=\"uint32\" package=\"package0\"></type><value>5023</value></data><data name=\"api_name\"><type name=\"unicode_string\" package=\"package0\"></type><value><![CDATA[ImpersonateSecurityContext]]></value></data><data name=\"calling_api_name\"><type name=\"unicode_string\" package=\"package0\"></type><value><![CDATA[NLShimImpersonate]]></value></data><data name=\"call_stack\"><type name=\"callstack\" package=\"package0\"></type><value><![CDATA[]]></value></data></event><event name=\"security_error_ring_buffer_recorded\" package=\"sqlserver\" timestamp=\"2019-08-26T16:58:38.471Z\"><data name=\"id\"><type name=\"uint32\" package=\"package0\"></type><value>0</value></data><data name=\"timestamp\"><type name=\"uint64\" package=\"package0\"></type><value>0</value></data><data name=\"session_id\"><type name=\"int16\" package=\"package0\"></type><value>77</value></data><data name=\"error_code\"><type name=\"uint32\" package=\"package0\"></type><value>5023</value></data><data name=\"api_name\"><type name=\"unicode_string\" package=\"package0\"></type><value><![CDATA[ImpersonateSecurityContext]]></value></data><data name=\"calling_api_name\"><type name=\"unicode_string\" package=\"package0\"></type><value><![CDATA[NLShimImpersonate]]></value></data><data name=\"call_stack\"><type name=\"callstack\" package=\"package0\"></type><value><![CDATA[]]></value></data></event><event name=\"scheduler_monitor_system_health_ring_buffer_recorded\" package=\"sqlos\" timestamp=\"2019-08-26T16:58:41.322Z\"><data name=\"id\"><type name=\"uint32\" package=\"package0\"></type><value>0</value></data><data name=\"timestamp\"><type name=\"uint64\" package=\"package0\"></type><value>0</value></data><data name=\"process_utilization\"><type name=\"uint32\" package=\"package0\"></type><value>7</value></data><data name=\"system_idle\"><type name=\"uint32\" package=\"package0\"></type><value>89</value></data><data name=\"user_mode_time\"><type name=\"uint64\" package=\"package0\"></type><value>74687500</value></data><data name=\"kernel_mode_time\"><type name=\"uint64\" package=\"package0\"></type><value>12187500</value></data><data name=\"page_faults\"><type name=\"uint32\" package=\"package0\"></type><value>2073</value></data><data name=\"working_set_delta\"><type name=\"int64\" package=\"package0\"></type><value>6496256</value></data><data name=\"memory_utilization\"><type name=\"uint32\" package=\"package0\"></type><value>100</value></data><data name=\"call_stack\"><type name=\"callstack\" package=\"package0\"></type><value><![CDATA[]]></value></data></event><event name=\"security_error_ring_buffer_recorded\" package=\"sqlserver\" timestamp=\"2019-08-26T16:59:03.838Z\"><data name=\"id\"><type name=\"uint32\" package=\"package0\"></type><value>0</value></data><data name=\"timestamp\"><type name=\"uint64\" package=\"package0\"></type><value>0</value></data><data name=\"session_id\"><type name=\"int16\" package=\"package0\"></type><value>73</value></data><data name=\"error_code\"><type name=\"uint32\" package=\"package0\"></type><value>5023</value></data><data name=\"api_name\"><type name=\"unicode_string\" package=\"package0\"></type><value><![CDATA[ImpersonateSecurityContext]]></value></data><data name=\"calling_api_name\"><type name=\"unicode_string\" package=\"package0\"></type><value><![CDATA[NLShimImpersonate]]></value></data><data name=\"call_stack\"><type name=\"callstack\" package=\"package0\"></type><value><![CDATA[]]></value></data></event><event name=\"security_error_ring_buffer_recorded\" package=\"sqlserver\" timestamp=\"2019-08-26T16:59:04.095Z\"><data name=\"id\"><type name=\"uint32\" package=\"package0\"></type><value>0</value></data><data name=\"timestamp\"><type name=\"uint64\" package=\"package0\"></type><value>0</value></data><data name=\"session_id\"><type name=\"int16\" package=\"package0\"></type><value>73</value></data><data name=\"error_code\"><type name=\"uint32\" package=\"package0\"></type><value>5023</value></data><data name=\"api_name\"><type name=\"unicode_string\" package=\"package0\"></type><value><![CDATA[ImpersonateSecurityContext]]></value></data><data name=\"calling_api_name\"><type name=\"unicode_string\" package=\"package0\"></type><value><![CDATA[NLShimImpersonate]]></value></data><data name=\"call_stack\"><type name=\"callstack\" package=\"package0\"></type><value><![CDATA[]]></value></data></event><event name=\"scheduler_monitor_system_health_ring_buffer_recorded\" package=\"sqlos\" timestamp=\"2019-08-26T16:59:41.331Z\"><data name=\"id\"><type name=\"uint32\" package=\"package0\"></type><value>0</value></data><data name=\"timestamp\"><type name=\"uint64\" package=\"package0\"></type><value>0</value></data><data name=\"process_utilization\"><type name=\"uint32\" package=\"package0\"></type><value>3</value></data><data name=\"system_idle\"><type name=\"uint32\" package=\"package0\"></type><value>94</value></data><data name=\"user_mode_time\"><type name=\"uint64\" package=\"package0\"></type><value>27656250</value></data><data name=\"kernel_mode_time\"><type name=\"uint64\" package=\"package0\"></type><value>10625000</value></data><data name=\"page_faults\"><type name=\"uint32\" package=\"package0\"></type><value>13</value></data><data name=\"working_set_delta\"><type name=\"int64\" package=\"package0\"></type><value>45056</value></data><data name=\"memory_utilization\"><type name=\"uint32\" package=\"package0\"></type><value>100</value></data><data name=\"call_stack\"><type name=\"callstack\" package=\"package0\"></type><value><![CDATA[]]></value></data></event><event name=\"security_error_ring_buffer_recorded\" package=\"sqlserver\" timestamp=\"2019-08-26T17:00:05.936Z\"><data name=\"id\"><type name=\"uint32\" package=\"package0\"></type><value>0</value></data><data name=\"timestamp\"><type name=\"uint64\" package=\"package0\"></type><value>0</value></data><data name=\"session_id\"><type name=\"int16\" package=\"package0\"></type><value>75</value></data><data name=\"error_code\"><type name=\"uint32\" package=\"package0\"></type><value>5023</value></data><data name=\"api_name\"><type name=\"unicode_string\" package=\"package0\"></type><value><![CDATA[ImpersonateSecurityContext]]></value></data><data name=\"calling_api_name\"><type name=\"unicode_string\" package=\"package0\"></type><value><![CDATA[NLShimImpersonate]]></value></data><data name=\"call_stack\"><type name=\"callstack\" package=\"package0\"></type><value><![CDATA[]]></value></data></event><event name=\"security_error_ring_buffer_recorded\" package=\"sqlserver\" timestamp=\"2019-08-26T17:00:05.948Z\"><data name=\"id\"><type name=\"uint32\" package=\"package0\"></type><value>0</value></data><data name=\"timestamp\"><type name=\"uint64\" package=\"package0\"></type><value>0</value></data><data name=\"session_id\"><type name=\"int16\" package=\"package0\"></type><value>75</value></data><data name=\"error_code\"><type name=\"uint32\" package=\"package0\"></type><value>5023</value></data><data name=\"api_name\"><type name=\"unicode_string\" package=\"package0\"></type><value><![CDATA[ImpersonateSecurityContext]]></value></data><data name=\"calling_api_name\"><type name=\"unicode_string\" package=\"package0\"></type><value><![CDATA[NLShimImpersonate]]></value></data><data name=\"call_stack\"><type name=\"callstack\" package=\"package0\"></type><value><![CDATA[]]></value></data></event><event name=\"security_error_ring_buffer_recorded\" package=\"sqlserver\" timestamp=\"2019-08-26T17:00:06.157Z\"><data name=\"id\"><type name=\"uint32\" package=\"package0\"></type><value>0</value></data><data name=\"timestamp\"><type name=\"uint64\" package=\"package0\"></type><value>0</value></data><data name=\"session_id\"><type name=\"int16\" package=\"package0\"></type><value>75</value></data><data name=\"error_code\"><type name=\"uint32\" package=\"package0\"></type><value>5023</value></data><data name=\"api_name\"><type name=\"unicode_string\" package=\"package0\"></type><value><![CDATA[ImpersonateSecurityContext]]></value></data><data name=\"calling_api_name\"><type name=\"unicode_string\" package=\"package0\"></type><value><![CDATA[NLShimImpersonate]]></value></data><data name=\"call_stack\"><type name=\"callstack\" package=\"package0\"></type><value><![CDATA[]]></value></data></event><event name=\"security_error_ring_buffer_recorded\" package=\"sqlserver\" timestamp=\"2019-08-26T17:00:18.335Z\"><data name=\"id\"><type name=\"uint32\" package=\"package0\"></type><value>0</value></data><data name=\"timestamp\"><type name=\"uint64\" package=\"package0\"></type><value>0</value></data><data name=\"session_id\"><type name=\"int16\" package=\"package0\"></type><value>77</value></data><data name=\"error_code\"><type name=\"uint32\" package=\"package0\"></type><value>5023</value></data><data name=\"api_name\"><type name=\"unicode_string\" package=\"package0\"></type><value><![CDATA[ImpersonateSecurityContext]]></value></data><data name=\"calling_api_name\"><type name=\"unicode_string\" package=\"package0\"></type><value><![CDATA[NLShimImpersonate]]></value></data><data name=\"call_stack\"><type name=\"callstack\" package=\"package0\"></type><value><![CDATA[]]></value></data></event></RingBufferTarget></session></events>"
                                }
                            ]
                        },
                        "text/html": "<table><tr><th>create_time</th><th>component_type</th><th>component_name</th><th>state</th><th>state_desc</th><th>data</th></tr><tr><td>2019-08-26 10:00:40.590</td><td>instance</td><td>system</td><td>1</td><td>clean</td><td>&lt;system spinlockBackoffs=&quot;0&quot; sickSpinlockType=&quot;none&quot; sickSpinlockTypeAfterAv=&quot;none&quot; latchWarnings=&quot;0&quot; isAccessViolationOccurred=&quot;0&quot; writeAccessViolationCount=&quot;0&quot; totalDumpRequests=&quot;0&quot; intervalDumpRequests=&quot;0&quot; nonYieldingTasksReported=&quot;0&quot; pageFaults=&quot;639&quot; systemCpuUtilization=&quot;11&quot; sqlCpuUtilization=&quot;6&quot; BadPagesDetected=&quot;0&quot; BadPagesFixed=&quot;0&quot; LastBadPageAddress=&quot;0x0&quot;/&gt;</td></tr><tr><td>2019-08-26 10:00:40.590</td><td>instance</td><td>resource</td><td>1</td><td>clean</td><td>&lt;resource lastNotification=&quot;RESOURCE_MEMPHYSICAL_HIGH&quot; outOfMemoryExceptions=&quot;0&quot; isAnyPoolOutOfMemory=&quot;0&quot; processOutOfMemoryPeriod=&quot;0&quot;&gt;&lt;memoryReport name=&quot;Process/System Counts&quot; unit=&quot;Value&quot;&gt;&lt;entry description=&quot;Available Physical Memory&quot; value=&quot;743657472&quot;/&gt;&lt;entry description=&quot;Available Virtual Memory&quot; value=&quot;140725449732096&quot;/&gt;&lt;entry description=&quot;Available Paging File&quot; value=&quot;1824112640&quot;/&gt;&lt;entry description=&quot;Working Set&quot; value=&quot;428412928&quot;/&gt;&lt;entry description=&quot;Percent of Committed Memory in WS&quot; value=&quot;100&quot;/&gt;&lt;entry description=&quot;Page Faults&quot; value=&quot;163127&quot;/&gt;&lt;entry description=&quot;System physical memory high&quot; value=&quot;1&quot;/&gt;&lt;entry description=&quot;System physical memory low&quot; value=&quot;0&quot;/&gt;&lt;entry description=&quot;Process physical memory low&quot; value=&quot;0&quot;/&gt;&lt;entry description=&quot;Process virtual memory low&quot; value=&quot;0&quot;/&gt;&lt;/memoryReport&gt;&lt;memoryReport name=&quot;Memory Manager&quot; unit=&quot;KB&quot;&gt;&lt;entry description=&quot;VM Reserved&quot; value=&quot;7038432&quot;/&gt;&lt;entry description=&quot;VM Committed&quot; value=&quot;335996&quot;/&gt;&lt;entry description=&quot;Locked Pages Allocated&quot; value=&quot;0&quot;/&gt;&lt;entry description=&quot;Large Pages Allocated&quot; value=&quot;0&quot;/&gt;&lt;entry description=&quot;Emergency Memory&quot; value=&quot;1024&quot;/&gt;&lt;entry description=&quot;Emergency Memory In Use&quot; value=&quot;16&quot;/&gt;&lt;entry description=&quot;Target Committed&quot; value=&quot;953568&quot;/&gt;&lt;entry description=&quot;Current Committed&quot; value=&quot;336000&quot;/&gt;&lt;entry description=&quot;Pages Allocated&quot; value=&quot;255352&quot;/&gt;&lt;entry description=&quot;Pages Reserved&quot; value=&quot;0&quot;/&gt;&lt;entry description=&quot;Pages Free&quot; value=&quot;23536&quot;/&gt;&lt;entry description=&quot;Pages In Use&quot; value=&quot;265688&quot;/&gt;&lt;entry description=&quot;Page Alloc Potential&quot; value=&quot;1683552&quot;/&gt;&lt;entry description=&quot;NUMA Growth Phase&quot; value=&quot;0&quot;/&gt;&lt;entry description=&quot;Last OOM Factor&quot; value=&quot;0&quot;/&gt;&lt;entry description=&quot;Last OS Error&quot; value=&quot;0&quot;/&gt;&lt;/memoryReport&gt;&lt;/resource&gt;</td></tr><tr><td>2019-08-26 10:00:40.590</td><td>instance</td><td>query_processing</td><td>1</td><td>clean</td><td>&lt;queryProcessing maxWorkers=&quot;256&quot; workersCreated=&quot;88&quot; workersIdle=&quot;38&quot; tasksCompletedWithinInterval=&quot;26&quot; pendingTasks=&quot;0&quot; oldestPendingTaskWaitingTime=&quot;0&quot; hasUnresolvableDeadlockOccurred=&quot;0&quot; hasDeadlockedSchedulersOccurred=&quot;0&quot; trackingNonYieldingScheduler=&quot;0x0&quot;&gt;&lt;topWaits&gt;&lt;nonPreemptive&gt;&lt;byCount&gt;&lt;wait waitType=&quot;PARALLEL_REDO_WORKER_WAIT_WORK&quot; waits=&quot;19199812&quot; averageWaitTime=&quot;7&quot; maxWaitTime=&quot;396&quot;/&gt;&lt;wait waitType=&quot;MEMORY_ALLOCATION_EXT&quot; waits=&quot;548107&quot; averageWaitTime=&quot;0&quot; maxWaitTime=&quot;19&quot;/&gt;&lt;wait waitType=&quot;HADR_WORK_QUEUE&quot; waits=&quot;309937&quot; averageWaitTime=&quot;254&quot; maxWaitTime=&quot;10008&quot;/&gt;&lt;wait waitType=&quot;HADR_CLUSAPI_CALL&quot; waits=&quot;267639&quot; averageWaitTime=&quot;141&quot; maxWaitTime=&quot;694&quot;/&gt;&lt;wait waitType=&quot;HADR_TIMER_TASK&quot; waits=&quot;119952&quot; averageWaitTime=&quot;314&quot; maxWaitTime=&quot;10001&quot;/&gt;&lt;wait waitType=&quot;HADR_FILESTREAM_IOMGR_IOCOMPLETION&quot; waits=&quot;75326&quot; averageWaitTime=&quot;501&quot; maxWaitTime=&quot;604&quot;/&gt;&lt;wait waitType=&quot;RESERVED_MEMORY_ALLOCATION_EXT&quot; waits=&quot;37115&quot; averageWaitTime=&quot;0&quot; maxWaitTime=&quot;1&quot;/&gt;&lt;wait waitType=&quot;MSQL_XP&quot; waits=&quot;7085&quot; averageWaitTime=&quot;4&quot; maxWaitTime=&quot;273&quot;/&gt;&lt;wait waitType=&quot;PAGELATCH_SH&quot; waits=&quot;5513&quot; averageWaitTime=&quot;0&quot; maxWaitTime=&quot;10&quot;/&gt;&lt;wait waitType=&quot;ASYNC_NETWORK_IO&quot; waits=&quot;4164&quot; averageWaitTime=&quot;0&quot; maxWaitTime=&quot;41&quot;/&gt;&lt;/byCount&gt;&lt;byDuration&gt;&lt;wait waitType=&quot;PARALLEL_REDO_WORKER_WAIT_WORK&quot; waits=&quot;19199812&quot; averageWaitTime=&quot;7&quot; maxWaitTime=&quot;396&quot;/&gt;&lt;wait waitType=&quot;HADR_WORK_QUEUE&quot; waits=&quot;309937&quot; averageWaitTime=&quot;254&quot; maxWaitTime=&quot;10008&quot;/&gt;&lt;wait waitType=&quot;HADR_CLUSAPI_CALL&quot; waits=&quot;267639&quot; averageWaitTime=&quot;141&quot; maxWaitTime=&quot;694&quot;/&gt;&lt;wait waitType=&quot;HADR_TIMER_TASK&quot; waits=&quot;119952&quot; averageWaitTime=&quot;314&quot; maxWaitTime=&quot;10001&quot;/&gt;&lt;wait waitType=&quot;HADR_FILESTREAM_IOMGR_IOCOMPLETION&quot; waits=&quot;75326&quot; averageWaitTime=&quot;501&quot; maxWaitTime=&quot;604&quot;/&gt;&lt;wait waitType=&quot;PWAIT_ALL_COMPONENTS_INITIALIZED&quot; waits=&quot;3&quot; averageWaitTime=&quot;20672&quot; maxWaitTime=&quot;20714&quot;/&gt;&lt;wait waitType=&quot;MSQL_XP&quot; waits=&quot;7085&quot; averageWaitTime=&quot;4&quot; maxWaitTime=&quot;273&quot;/&gt;&lt;wait waitType=&quot;PAGEIOLATCH_SH&quot; waits=&quot;553&quot; averageWaitTime=&quot;19&quot; maxWaitTime=&quot;327&quot;/&gt;&lt;wait waitType=&quot;HADR_DB_COMMAND&quot; waits=&quot;10&quot; averageWaitTime=&quot;809&quot; maxWaitTime=&quot;4000&quot;/&gt;&lt;wait waitType=&quot;LCK_M_S&quot; waits=&quot;8&quot; averageWaitTime=&quot;765&quot; maxWaitTime=&quot;4527&quot;/&gt;&lt;/byDuration&gt;&lt;/nonPreemptive&gt;&lt;preemptive&gt;&lt;byCount&gt;&lt;wait waitType=&quot;PREEMPTIVE_XE_CALLBACKEXECUTE&quot; waits=&quot;12164&quot; averageWaitTime=&quot;0&quot; maxWaitTime=&quot;1&quot;/&gt;&lt;wait waitType=&quot;PREEMPTIVE_OS_QUERYREGISTRY&quot; waits=&quot;10778&quot; averageWaitTime=&quot;0&quot; maxWaitTime=&quot;128&quot;/&gt;&lt;wait waitType=&quot;PREEMPTIVE_OS_GETPROCADDRESS&quot; waits=&quot;7085&quot; averageWaitTime=&quot;0&quot; maxWaitTime=&quot;7&quot;/&gt;&lt;wait waitType=&quot;PREEMPTIVE_XE_GETTARGETSTATE&quot; waits=&quot;1141&quot; averageWaitTime=&quot;5&quot; maxWaitTime=&quot;138&quot;/&gt;&lt;wait waitType=&quot;PREEMPTIVE_OS_AUTHENTICATIONOPS&quot; waits=&quot;655&quot; averageWaitTime=&quot;0&quot; maxWaitTime=&quot;23&quot;/&gt;&lt;wait waitType=&quot;PREEMPTIVE_OS_AUTHORIZATIONOPS&quot; waits=&quot;637&quot; averageWaitTime=&quot;0&quot; maxWaitTime=&quot;5&quot;/&gt;&lt;wait waitType=&quot;PREEMPTIVE_OS_CRYPTOPS&quot; waits=&quot;344&quot; averageWaitTime=&quot;1&quot; maxWaitTime=&quot;596&quot;/&gt;&lt;wait waitType=&quot;PREEMPTIVE_OS_FILEOPS&quot; waits=&quot;155&quot; averageWaitTime=&quot;14&quot; maxWaitTime=&quot;331&quot;/&gt;&lt;wait waitType=&quot;PREEMPTIVE_OS_CRYPTACQUIRECONTEXT&quot; waits=&quot;125&quot; averageWaitTime=&quot;0&quot; maxWaitTime=&quot;2&quot;/&gt;&lt;wait waitType=&quot;PREEMPTIVE_OS_REPORTEVENT&quot; waits=&quot;110&quot; averageWaitTime=&quot;1&quot; maxWaitTime=&quot;33&quot;/&gt;&lt;/byCount&gt;&lt;byDuration&gt;&lt;wait waitType=&quot;PREEMPTIVE_XE_GETTARGETSTATE&quot; waits=&quot;1141&quot; averageWaitTime=&quot;5&quot; maxWaitTime=&quot;138&quot;/&gt;&lt;wait waitType=&quot;PREEMPTIVE_OS_QUERYREGISTRY&quot; waits=&quot;10778&quot; averageWaitTime=&quot;0&quot; maxWaitTime=&quot;128&quot;/&gt;&lt;wait waitType=&quot;PREEMPTIVE_OS_FILEOPS&quot; waits=&quot;155&quot; averageWaitTime=&quot;14&quot; maxWaitTime=&quot;331&quot;/&gt;&lt;wait waitType=&quot;PREEMPTIVE_OS_LOADLIBRARY&quot; waits=&quot;4&quot; averageWaitTime=&quot;226&quot; maxWaitTime=&quot;680&quot;/&gt;&lt;wait waitType=&quot;PREEMPTIVE_OS_LIBRARYOPS&quot; waits=&quot;1&quot; averageWaitTime=&quot;701&quot; maxWaitTime=&quot;701&quot;/&gt;&lt;wait waitType=&quot;PREEMPTIVE_OS_CRYPTOPS&quot; waits=&quot;344&quot; averageWaitTime=&quot;1&quot; maxWaitTime=&quot;596&quot;/&gt;&lt;wait waitType=&quot;PREEMPTIVE_OS_VERIFYTRUST&quot; waits=&quot;6&quot; averageWaitTime=&quot;102&quot; maxWaitTime=&quot;328&quot;/&gt;&lt;wait waitType=&quot;PREEMPTIVE_OS_AUTHORIZATIONOPS&quot; waits=&quot;637&quot; averageWaitTime=&quot;0&quot; maxWaitTime=&quot;5&quot;/&gt;&lt;wait waitType=&quot;PREEMPTIVE_OS_AUTHENTICATIONOPS&quot; waits=&quot;655&quot; averageWaitTime=&quot;0&quot; maxWaitTime=&quot;23&quot;/&gt;&lt;wait waitType=&quot;PREEMPTIVE_OS_GENERICOPS&quot; waits=&quot;17&quot; averageWaitTime=&quot;22&quot; maxWaitTime=&quot;130&quot;/&gt;&lt;/byDuration&gt;&lt;/preemptive&gt;&lt;/topWaits&gt;&lt;cpuIntensiveRequests&gt;&lt;request sessionId=&quot;73&quot; requestId=&quot;0&quot; command=&quot;EXECUTE&quot; taskAddress=&quot;0x18c2ac168c8&quot; cpuUtilization=&quot;0&quot; cpuTimeMs=&quot;47&quot;/&gt;&lt;/cpuIntensiveRequests&gt;&lt;pendingTasks&gt;&lt;/pendingTasks&gt;&lt;blockingTasks&gt;&lt;/blockingTasks&gt;&lt;/queryProcessing&gt;</td></tr><tr><td>2019-08-26 10:00:40.590</td><td>instance</td><td>io_subsystem</td><td>1</td><td>clean</td><td>&lt;ioSubsystem ioLatchTimeouts=&quot;0&quot; intervalLongIos=&quot;0&quot; totalLongIos=&quot;0&quot;&gt;&lt;longestPendingRequests&gt;&lt;/longestPendingRequests&gt;&lt;/ioSubsystem&gt;</td></tr><tr><td>2019-08-26 10:00:40.590</td><td>instance</td><td>events</td><td>0</td><td>unknown</td><td>&lt;events&gt;&lt;session startTime=&quot;2019-08-25T23:31:35.553&quot; droppedEvents=&quot;0&quot; largestDroppedEvent=&quot;0&quot;&gt;&lt;RingBufferTarget truncated=&quot;0&quot; processingTime=&quot;0&quot; totalEventsProcessed=&quot;32&quot; eventCount=&quot;32&quot; droppedCount=&quot;0&quot; memoryUsed=&quot;5224&quot;&gt;&lt;event name=&quot;scheduler_monitor_system_health_ring_buffer_recorded&quot; package=&quot;sqlos&quot; timestamp=&quot;2019-08-26T16:54:41.283Z&quot;&gt;&lt;data name=&quot;id&quot;&gt;&lt;type name=&quot;uint32&quot; package=&quot;package0&quot;&gt;&lt;/type&gt;&lt;value&gt;0&lt;/value&gt;&lt;/data&gt;&lt;data name=&quot;timestamp&quot;&gt;&lt;type name=&quot;uint64&quot; package=&quot;package0&quot;&gt;&lt;/type&gt;&lt;value&gt;0&lt;/value&gt;&lt;/data&gt;&lt;data name=&quot;process_utilization&quot;&gt;&lt;type name=&quot;uint32&quot; package=&quot;package0&quot;&gt;&lt;/type&gt;&lt;value&gt;2&lt;/value&gt;&lt;/data&gt;&lt;data name=&quot;system_idle&quot;&gt;&lt;type name=&quot;uint32&quot; package=&quot;package0&quot;&gt;&lt;/type&gt;&lt;value&gt;95&lt;/value&gt;&lt;/data&gt;&lt;data name=&quot;user_mode_time&quot;&gt;&lt;type name=&quot;uint64&quot; package=&quot;package0&quot;&gt;&lt;/type&gt;&lt;value&gt;21718750&lt;/value&gt;&lt;/data&gt;&lt;data name=&quot;kernel_mode_time&quot;&gt;&lt;type name=&quot;uint64&quot; package=&quot;package0&quot;&gt;&lt;/type&gt;&lt;value&gt;10468750&lt;/value&gt;&lt;/data&gt;&lt;data name=&quot;page_faults&quot;&gt;&lt;type name=&quot;uint32&quot; package=&quot;package0&quot;&gt;&lt;/type&gt;&lt;value&gt;816&lt;/value&gt;&lt;/data&gt;&lt;data name=&quot;working_set_delta&quot;&gt;&lt;type name=&quot;int64&quot; package=&quot;package0&quot;&gt;&lt;/type&gt;&lt;value&gt;733184&lt;/value&gt;&lt;/data&gt;&lt;data name=&quot;memory_utilization&quot;&gt;&lt;type name=&quot;uint32&quot; package=&quot;package0&quot;&gt;&lt;/type&gt;&lt;value&gt;100&lt;/value&gt;&lt;/data&gt;&lt;data name=&quot;call_stack&quot;&gt;&lt;type name=&quot;callstack&quot; package=&quot;package0&quot;&gt;&lt;/type&gt;&lt;value&gt;&lt;![CDATA[]]&gt;&lt;/value&gt;&lt;/data&gt;&lt;/event&gt;&lt;event name=&quot;security_error_ring_buffer_recorded&quot; package=&quot;sqlserver&quot; timestamp=&quot;2019-08-26T16:55:16.089Z&quot;&gt;&lt;data name=&quot;id&quot;&gt;&lt;type name=&quot;uint32&quot; package=&quot;package0&quot;&gt;&lt;/type&gt;&lt;value&gt;0&lt;/value&gt;&lt;/data&gt;&lt;data name=&quot;timestamp&quot;&gt;&lt;type name=&quot;uint64&quot; package=&quot;package0&quot;&gt;&lt;/type&gt;&lt;value&gt;0&lt;/value&gt;&lt;/data&gt;&lt;data name=&quot;session_id&quot;&gt;&lt;type name=&quot;int16&quot; package=&quot;package0&quot;&gt;&lt;/type&gt;&lt;value&gt;51&lt;/value&gt;&lt;/data&gt;&lt;data name=&quot;error_code&quot;&gt;&lt;type name=&quot;uint32&quot; package=&quot;package0&quot;&gt;&lt;/type&gt;&lt;value&gt;5023&lt;/value&gt;&lt;/data&gt;&lt;data name=&quot;api_name&quot;&gt;&lt;type name=&quot;unicode_string&quot; package=&quot;package0&quot;&gt;&lt;/type&gt;&lt;value&gt;&lt;![CDATA[ImpersonateSecurityContext]]&gt;&lt;/value&gt;&lt;/data&gt;&lt;data name=&quot;calling_api_name&quot;&gt;&lt;type name=&quot;unicode_string&quot; package=&quot;package0&quot;&gt;&lt;/type&gt;&lt;value&gt;&lt;![CDATA[NLShimImpersonate]]&gt;&lt;/value&gt;&lt;/data&gt;&lt;data name=&quot;call_stack&quot;&gt;&lt;type name=&quot;callstack&quot; package=&quot;package0&quot;&gt;&lt;/type&gt;&lt;value&gt;&lt;![CDATA[]]&gt;&lt;/value&gt;&lt;/data&gt;&lt;/event&gt;&lt;event name=&quot;security_error_ring_buffer_recorded&quot; package=&quot;sqlserver&quot; timestamp=&quot;2019-08-26T16:55:16.105Z&quot;&gt;&lt;data name=&quot;id&quot;&gt;&lt;type name=&quot;uint32&quot; package=&quot;package0&quot;&gt;&lt;/type&gt;&lt;value&gt;0&lt;/value&gt;&lt;/data&gt;&lt;data name=&quot;timestamp&quot;&gt;&lt;type name=&quot;uint64&quot; package=&quot;package0&quot;&gt;&lt;/type&gt;&lt;value&gt;0&lt;/value&gt;&lt;/data&gt;&lt;data name=&quot;session_id&quot;&gt;&lt;type name=&quot;int16&quot; package=&quot;package0&quot;&gt;&lt;/type&gt;&lt;value&gt;51&lt;/value&gt;&lt;/data&gt;&lt;data name=&quot;error_code&quot;&gt;&lt;type name=&quot;uint32&quot; package=&quot;package0&quot;&gt;&lt;/type&gt;&lt;value&gt;5023&lt;/value&gt;&lt;/data&gt;&lt;data name=&quot;api_name&quot;&gt;&lt;type name=&quot;unicode_string&quot; package=&quot;package0&quot;&gt;&lt;/type&gt;&lt;value&gt;&lt;![CDATA[ImpersonateSecurityContext]]&gt;&lt;/value&gt;&lt;/data&gt;&lt;data name=&quot;calling_api_name&quot;&gt;&lt;type name=&quot;unicode_string&quot; package=&quot;package0&quot;&gt;&lt;/type&gt;&lt;value&gt;&lt;![CDATA[NLShimImpersonate]]&gt;&lt;/value&gt;&lt;/data&gt;&lt;data name=&quot;call_stack&quot;&gt;&lt;type name=&quot;callstack&quot; package=&quot;package0&quot;&gt;&lt;/type&gt;&lt;value&gt;&lt;![CDATA[]]&gt;&lt;/value&gt;&lt;/data&gt;&lt;/event&gt;&lt;event name=&quot;security_error_ring_buffer_recorded&quot; package=&quot;sqlserver&quot; timestamp=&quot;2019-08-26T16:55:39.049Z&quot;&gt;&lt;data name=&quot;id&quot;&gt;&lt;type name=&quot;uint32&quot; package=&quot;package0&quot;&gt;&lt;/type&gt;&lt;value&gt;0&lt;/value&gt;&lt;/data&gt;&lt;data name=&quot;timestamp&quot;&gt;&lt;type name=&quot;uint64&quot; package=&quot;package0&quot;&gt;&lt;/type&gt;&lt;value&gt;0&lt;/value&gt;&lt;/data&gt;&lt;data name=&quot;session_id&quot;&gt;&lt;type name=&quot;int16&quot; package=&quot;package0&quot;&gt;&lt;/type&gt;&lt;value&gt;51&lt;/value&gt;&lt;/data&gt;&lt;data name=&quot;error_code&quot;&gt;&lt;type name=&quot;uint32&quot; package=&quot;package0&quot;&gt;&lt;/type&gt;&lt;value&gt;5023&lt;/value&gt;&lt;/data&gt;&lt;data name=&quot;api_name&quot;&gt;&lt;type name=&quot;unicode_string&quot; package=&quot;package0&quot;&gt;&lt;/type&gt;&lt;value&gt;&lt;![CDATA[ImpersonateSecurityContext]]&gt;&lt;/value&gt;&lt;/data&gt;&lt;data name=&quot;calling_api_name&quot;&gt;&lt;type name=&quot;unicode_string&quot; package=&quot;package0&quot;&gt;&lt;/type&gt;&lt;value&gt;&lt;![CDATA[NLShimImpersonate]]&gt;&lt;/value&gt;&lt;/data&gt;&lt;data name=&quot;call_stack&quot;&gt;&lt;type name=&quot;callstack&quot; package=&quot;package0&quot;&gt;&lt;/type&gt;&lt;value&gt;&lt;![CDATA[]]&gt;&lt;/value&gt;&lt;/data&gt;&lt;/event&gt;&lt;event name=&quot;scheduler_monitor_system_health_ring_buffer_recorded&quot; package=&quot;sqlos&quot; timestamp=&quot;2019-08-26T16:55:41.296Z&quot;&gt;&lt;data name=&quot;id&quot;&gt;&lt;type name=&quot;uint32&quot; package=&quot;package0&quot;&gt;&lt;/type&gt;&lt;value&gt;0&lt;/value&gt;&lt;/data&gt;&lt;data name=&quot;timestamp&quot;&gt;&lt;type name=&quot;uint64&quot; package=&quot;package0&quot;&gt;&lt;/type&gt;&lt;value&gt;0&lt;/value&gt;&lt;/data&gt;&lt;data name=&quot;process_utilization&quot;&gt;&lt;type name=&quot;uint32&quot; package=&quot;package0&quot;&gt;&lt;/type&gt;&lt;value&gt;2&lt;/value&gt;&lt;/data&gt;&lt;data name=&quot;system_idle&quot;&gt;&lt;type name=&quot;uint32&quot; package=&quot;package0&quot;&gt;&lt;/type&gt;&lt;value&gt;94&lt;/value&gt;&lt;/data&gt;&lt;data name=&quot;user_mode_time&quot;&gt;&lt;type name=&quot;uint64&quot; package=&quot;package0&quot;&gt;&lt;/type&gt;&lt;value&gt;23125000&lt;/value&gt;&lt;/data&gt;&lt;data name=&quot;kernel_mode_time&quot;&gt;&lt;type name=&quot;uint64&quot; package=&quot;package0&quot;&gt;&lt;/type&gt;&lt;value&gt;10000000&lt;/value&gt;&lt;/data&gt;&lt;data name=&quot;page_faults&quot;&gt;&lt;type name=&quot;uint32&quot; package=&quot;package0&quot;&gt;&lt;/type&gt;&lt;value&gt;9&lt;/value&gt;&lt;/data&gt;&lt;data name=&quot;working_set_delta&quot;&gt;&lt;type name=&quot;int64&quot; package=&quot;package0&quot;&gt;&lt;/type&gt;&lt;value&gt;36864&lt;/value&gt;&lt;/data&gt;&lt;data name=&quot;memory_utilization&quot;&gt;&lt;type name=&quot;uint32&quot; package=&quot;package0&quot;&gt;&lt;/type&gt;&lt;value&gt;100&lt;/value&gt;&lt;/data&gt;&lt;data name=&quot;call_stack&quot;&gt;&lt;type name=&quot;callstack&quot; package=&quot;package0&quot;&gt;&lt;/type&gt;&lt;value&gt;&lt;![CDATA[]]&gt;&lt;/value&gt;&lt;/data&gt;&lt;/event&gt;&lt;event name=&quot;security_error_ring_buffer_recorded&quot; package=&quot;sqlserver&quot; timestamp=&quot;2019-08-26T16:55:47.847Z&quot;&gt;&lt;data name=&quot;id&quot;&gt;&lt;type name=&quot;uint32&quot; package=&quot;package0&quot;&gt;&lt;/type&gt;&lt;value&gt;0&lt;/value&gt;&lt;/data&gt;&lt;data name=&quot;timestamp&quot;&gt;&lt;type name=&quot;uint64&quot; package=&quot;package0&quot;&gt;&lt;/type&gt;&lt;value&gt;0&lt;/value&gt;&lt;/data&gt;&lt;data name=&quot;session_id&quot;&gt;&lt;type name=&quot;int16&quot; package=&quot;package0&quot;&gt;&lt;/type&gt;&lt;value&gt;65&lt;/value&gt;&lt;/data&gt;&lt;data name=&quot;error_code&quot;&gt;&lt;type name=&quot;uint32&quot; package=&quot;package0&quot;&gt;&lt;/type&gt;&lt;value&gt;5023&lt;/value&gt;&lt;/data&gt;&lt;data name=&quot;api_name&quot;&gt;&lt;type name=&quot;unicode_string&quot; package=&quot;package0&quot;&gt;&lt;/type&gt;&lt;value&gt;&lt;![CDATA[ImpersonateSecurityContext]]&gt;&lt;/value&gt;&lt;/data&gt;&lt;data name=&quot;calling_api_name&quot;&gt;&lt;type name=&quot;unicode_string&quot; package=&quot;package0&quot;&gt;&lt;/type&gt;&lt;value&gt;&lt;![CDATA[NLShimImpersonate]]&gt;&lt;/value&gt;&lt;/data&gt;&lt;data name=&quot;call_stack&quot;&gt;&lt;type name=&quot;callstack&quot; package=&quot;package0&quot;&gt;&lt;/type&gt;&lt;value&gt;&lt;![CDATA[]]&gt;&lt;/value&gt;&lt;/data&gt;&lt;/event&gt;&lt;event name=&quot;security_error_ring_buffer_recorded&quot; package=&quot;sqlserver&quot; timestamp=&quot;2019-08-26T16:55:47.955Z&quot;&gt;&lt;data name=&quot;id&quot;&gt;&lt;type name=&quot;uint32&quot; package=&quot;package0&quot;&gt;&lt;/type&gt;&lt;value&gt;0&lt;/value&gt;&lt;/data&gt;&lt;data name=&quot;timestamp&quot;&gt;&lt;type name=&quot;uint64&quot; package=&quot;package0&quot;&gt;&lt;/type&gt;&lt;value&gt;0&lt;/value&gt;&lt;/data&gt;&lt;data name=&quot;session_id&quot;&gt;&lt;type name=&quot;int16&quot; package=&quot;package0&quot;&gt;&lt;/type&gt;&lt;value&gt;65&lt;/value&gt;&lt;/data&gt;&lt;data name=&quot;error_code&quot;&gt;&lt;type name=&quot;uint32&quot; package=&quot;package0&quot;&gt;&lt;/type&gt;&lt;value&gt;5023&lt;/value&gt;&lt;/data&gt;&lt;data name=&quot;api_name&quot;&gt;&lt;type name=&quot;unicode_string&quot; package=&quot;package0&quot;&gt;&lt;/type&gt;&lt;value&gt;&lt;![CDATA[ImpersonateSecurityContext]]&gt;&lt;/value&gt;&lt;/data&gt;&lt;data name=&quot;calling_api_name&quot;&gt;&lt;type name=&quot;unicode_string&quot; package=&quot;package0&quot;&gt;&lt;/type&gt;&lt;value&gt;&lt;![CDATA[NLShimImpersonate]]&gt;&lt;/value&gt;&lt;/data&gt;&lt;data name=&quot;call_stack&quot;&gt;&lt;type name=&quot;callstack&quot; package=&quot;package0&quot;&gt;&lt;/type&gt;&lt;value&gt;&lt;![CDATA[]]&gt;&lt;/value&gt;&lt;/data&gt;&lt;/event&gt;&lt;event name=&quot;security_error_ring_buffer_recorded&quot; package=&quot;sqlserver&quot; timestamp=&quot;2019-08-26T16:56:36.266Z&quot;&gt;&lt;data name=&quot;id&quot;&gt;&lt;type name=&quot;uint32&quot; package=&quot;package0&quot;&gt;&lt;/type&gt;&lt;value&gt;0&lt;/value&gt;&lt;/data&gt;&lt;data name=&quot;timestamp&quot;&gt;&lt;type name=&quot;uint64&quot; package=&quot;package0&quot;&gt;&lt;/type&gt;&lt;value&gt;0&lt;/value&gt;&lt;/data&gt;&lt;data name=&quot;session_id&quot;&gt;&lt;type name=&quot;int16&quot; package=&quot;package0&quot;&gt;&lt;/type&gt;&lt;value&gt;65&lt;/value&gt;&lt;/data&gt;&lt;data name=&quot;error_code&quot;&gt;&lt;type name=&quot;uint32&quot; package=&quot;package0&quot;&gt;&lt;/type&gt;&lt;value&gt;5023&lt;/value&gt;&lt;/data&gt;&lt;data name=&quot;api_name&quot;&gt;&lt;type name=&quot;unicode_string&quot; package=&quot;package0&quot;&gt;&lt;/type&gt;&lt;value&gt;&lt;![CDATA[ImpersonateSecurityContext]]&gt;&lt;/value&gt;&lt;/data&gt;&lt;data name=&quot;calling_api_name&quot;&gt;&lt;type name=&quot;unicode_string&quot; package=&quot;package0&quot;&gt;&lt;/type&gt;&lt;value&gt;&lt;![CDATA[NLShimImpersonate]]&gt;&lt;/value&gt;&lt;/data&gt;&lt;data name=&quot;call_stack&quot;&gt;&lt;type name=&quot;callstack&quot; package=&quot;package0&quot;&gt;&lt;/type&gt;&lt;value&gt;&lt;![CDATA[]]&gt;&lt;/value&gt;&lt;/data&gt;&lt;/event&gt;&lt;event name=&quot;security_error_ring_buffer_recorded&quot; package=&quot;sqlserver&quot; timestamp=&quot;2019-08-26T16:56:36.606Z&quot;&gt;&lt;data name=&quot;id&quot;&gt;&lt;type name=&quot;uint32&quot; package=&quot;package0&quot;&gt;&lt;/type&gt;&lt;value&gt;0&lt;/value&gt;&lt;/data&gt;&lt;data name=&quot;timestamp&quot;&gt;&lt;type name=&quot;uint64&quot; package=&quot;package0&quot;&gt;&lt;/type&gt;&lt;value&gt;0&lt;/value&gt;&lt;/data&gt;&lt;data name=&quot;session_id&quot;&gt;&lt;type name=&quot;int16&quot; package=&quot;package0&quot;&gt;&lt;/type&gt;&lt;value&gt;70&lt;/value&gt;&lt;/data&gt;&lt;data name=&quot;error_code&quot;&gt;&lt;type name=&quot;uint32&quot; package=&quot;package0&quot;&gt;&lt;/type&gt;&lt;value&gt;5023&lt;/value&gt;&lt;/data&gt;&lt;data name=&quot;api_name&quot;&gt;&lt;type name=&quot;unicode_string&quot; package=&quot;package0&quot;&gt;&lt;/type&gt;&lt;value&gt;&lt;![CDATA[ImpersonateSecurityContext]]&gt;&lt;/value&gt;&lt;/data&gt;&lt;data name=&quot;calling_api_name&quot;&gt;&lt;type name=&quot;unicode_string&quot; package=&quot;package0&quot;&gt;&lt;/type&gt;&lt;value&gt;&lt;![CDATA[NLShimImpersonate]]&gt;&lt;/value&gt;&lt;/data&gt;&lt;data name=&quot;call_stack&quot;&gt;&lt;type name=&quot;callstack&quot; package=&quot;package0&quot;&gt;&lt;/type&gt;&lt;value&gt;&lt;![CDATA[]]&gt;&lt;/value&gt;&lt;/data&gt;&lt;/event&gt;&lt;event name=&quot;scheduler_monitor_system_health_ring_buffer_recorded&quot; package=&quot;sqlos&quot; timestamp=&quot;2019-08-26T16:56:41.305Z&quot;&gt;&lt;data name=&quot;id&quot;&gt;&lt;type name=&quot;uint32&quot; package=&quot;package0&quot;&gt;&lt;/type&gt;&lt;value&gt;0&lt;/value&gt;&lt;/data&gt;&lt;data name=&quot;timestamp&quot;&gt;&lt;type name=&quot;uint64&quot; package=&quot;package0&quot;&gt;&lt;/type&gt;&lt;value&gt;0&lt;/value&gt;&lt;/data&gt;&lt;data name=&quot;process_utilization&quot;&gt;&lt;type name=&quot;uint32&quot; package=&quot;package0&quot;&gt;&lt;/type&gt;&lt;value&gt;3&lt;/value&gt;&lt;/data&gt;&lt;data name=&quot;system_idle&quot;&gt;&lt;type name=&quot;uint32&quot; package=&quot;package0&quot;&gt;&lt;/type&gt;&lt;value&gt;93&lt;/value&gt;&lt;/data&gt;&lt;data name=&quot;user_mode_time&quot;&gt;&lt;type name=&quot;uint64&quot; package=&quot;package0&quot;&gt;&lt;/type&gt;&lt;value&gt;32343750&lt;/value&gt;&lt;/data&gt;&lt;data name=&quot;kernel_mode_time&quot;&gt;&lt;type name=&quot;uint64&quot; package=&quot;package0&quot;&gt;&lt;/type&gt;&lt;value&gt;10781250&lt;/value&gt;&lt;/data&gt;&lt;data name=&quot;page_faults&quot;&gt;&lt;type name=&quot;uint32&quot; package=&quot;package0&quot;&gt;&lt;/type&gt;&lt;value&gt;735&lt;/value&gt;&lt;/data&gt;&lt;data name=&quot;working_set_delta&quot;&gt;&lt;type name=&quot;int64&quot; package=&quot;package0&quot;&gt;&lt;/type&gt;&lt;value&gt;2408448&lt;/value&gt;&lt;/data&gt;&lt;data name=&quot;memory_utilization&quot;&gt;&lt;type name=&quot;uint32&quot; package=&quot;package0&quot;&gt;&lt;/type&gt;&lt;value&gt;100&lt;/value&gt;&lt;/data&gt;&lt;data name=&quot;call_stack&quot;&gt;&lt;type name=&quot;callstack&quot; package=&quot;package0&quot;&gt;&lt;/type&gt;&lt;value&gt;&lt;![CDATA[]]&gt;&lt;/value&gt;&lt;/data&gt;&lt;/event&gt;&lt;event name=&quot;security_error_ring_buffer_recorded&quot; package=&quot;sqlserver&quot; timestamp=&quot;2019-08-26T16:56:59.395Z&quot;&gt;&lt;data name=&quot;id&quot;&gt;&lt;type name=&quot;uint32&quot; package=&quot;package0&quot;&gt;&lt;/type&gt;&lt;value&gt;0&lt;/value&gt;&lt;/data&gt;&lt;data name=&quot;timestamp&quot;&gt;&lt;type name=&quot;uint64&quot; package=&quot;package0&quot;&gt;&lt;/type&gt;&lt;value&gt;0&lt;/value&gt;&lt;/data&gt;&lt;data name=&quot;session_id&quot;&gt;&lt;type name=&quot;int16&quot; package=&quot;package0&quot;&gt;&lt;/type&gt;&lt;value&gt;75&lt;/value&gt;&lt;/data&gt;&lt;data name=&quot;error_code&quot;&gt;&lt;type name=&quot;uint32&quot; package=&quot;package0&quot;&gt;&lt;/type&gt;&lt;value&gt;5023&lt;/value&gt;&lt;/data&gt;&lt;data name=&quot;api_name&quot;&gt;&lt;type name=&quot;unicode_string&quot; package=&quot;package0&quot;&gt;&lt;/type&gt;&lt;value&gt;&lt;![CDATA[ImpersonateSecurityContext]]&gt;&lt;/value&gt;&lt;/data&gt;&lt;data name=&quot;calling_api_name&quot;&gt;&lt;type name=&quot;unicode_string&quot; package=&quot;package0&quot;&gt;&lt;/type&gt;&lt;value&gt;&lt;![CDATA[NLShimImpersonate]]&gt;&lt;/value&gt;&lt;/data&gt;&lt;data name=&quot;call_stack&quot;&gt;&lt;type name=&quot;callstack&quot; package=&quot;package0&quot;&gt;&lt;/type&gt;&lt;value&gt;&lt;![CDATA[]]&gt;&lt;/value&gt;&lt;/data&gt;&lt;/event&gt;&lt;event name=&quot;security_error_ring_buffer_recorded&quot; package=&quot;sqlserver&quot; timestamp=&quot;2019-08-26T16:56:59.547Z&quot;&gt;&lt;data name=&quot;id&quot;&gt;&lt;type name=&quot;uint32&quot; package=&quot;package0&quot;&gt;&lt;/type&gt;&lt;value&gt;0&lt;/value&gt;&lt;/data&gt;&lt;data name=&quot;timestamp&quot;&gt;&lt;type name=&quot;uint64&quot; package=&quot;package0&quot;&gt;&lt;/type&gt;&lt;value&gt;0&lt;/value&gt;&lt;/data&gt;&lt;data name=&quot;session_id&quot;&gt;&lt;type name=&quot;int16&quot; package=&quot;package0&quot;&gt;&lt;/type&gt;&lt;value&gt;75&lt;/value&gt;&lt;/data&gt;&lt;data name=&quot;error_code&quot;&gt;&lt;type name=&quot;uint32&quot; package=&quot;package0&quot;&gt;&lt;/type&gt;&lt;value&gt;5023&lt;/value&gt;&lt;/data&gt;&lt;data name=&quot;api_name&quot;&gt;&lt;type name=&quot;unicode_string&quot; package=&quot;package0&quot;&gt;&lt;/type&gt;&lt;value&gt;&lt;![CDATA[ImpersonateSecurityContext]]&gt;&lt;/value&gt;&lt;/data&gt;&lt;data name=&quot;calling_api_name&quot;&gt;&lt;type name=&quot;unicode_string&quot; package=&quot;package0&quot;&gt;&lt;/type&gt;&lt;value&gt;&lt;![CDATA[NLShimImpersonate]]&gt;&lt;/value&gt;&lt;/data&gt;&lt;data name=&quot;call_stack&quot;&gt;&lt;type name=&quot;callstack&quot; package=&quot;package0&quot;&gt;&lt;/type&gt;&lt;value&gt;&lt;![CDATA[]]&gt;&lt;/value&gt;&lt;/data&gt;&lt;/event&gt;&lt;event name=&quot;scheduler_monitor_system_health_ring_buffer_recorded&quot; package=&quot;sqlos&quot; timestamp=&quot;2019-08-26T16:57:41.314Z&quot;&gt;&lt;data name=&quot;id&quot;&gt;&lt;type name=&quot;uint32&quot; package=&quot;package0&quot;&gt;&lt;/type&gt;&lt;value&gt;0&lt;/value&gt;&lt;/data&gt;&lt;data name=&quot;timestamp&quot;&gt;&lt;type name=&quot;uint64&quot; package=&quot;package0&quot;&gt;&lt;/type&gt;&lt;value&gt;0&lt;/value&gt;&lt;/data&gt;&lt;data name=&quot;process_utilization&quot;&gt;&lt;type name=&quot;uint32&quot; package=&quot;package0&quot;&gt;&lt;/type&gt;&lt;value&gt;2&lt;/value&gt;&lt;/data&gt;&lt;data name=&quot;system_idle&quot;&gt;&lt;type name=&quot;uint32&quot; package=&quot;package0&quot;&gt;&lt;/type&gt;&lt;value&gt;94&lt;/value&gt;&lt;/data&gt;&lt;data name=&quot;user_mode_time&quot;&gt;&lt;type name=&quot;uint64&quot; package=&quot;package0&quot;&gt;&lt;/type&gt;&lt;value&gt;23593750&lt;/value&gt;&lt;/data&gt;&lt;data name=&quot;kernel_mode_time&quot;&gt;&lt;type name=&quot;uint64&quot; package=&quot;package0&quot;&gt;&lt;/type&gt;&lt;value&gt;8750000&lt;/value&gt;&lt;/data&gt;&lt;data name=&quot;page_faults&quot;&gt;&lt;type name=&quot;uint32&quot; package=&quot;package0&quot;&gt;&lt;/type&gt;&lt;value&gt;149&lt;/value&gt;&lt;/data&gt;&lt;data name=&quot;working_set_delta&quot;&gt;&lt;type name=&quot;int64&quot; package=&quot;package0&quot;&gt;&lt;/type&gt;&lt;value&gt;-24576&lt;/value&gt;&lt;/data&gt;&lt;data name=&quot;memory_utilization&quot;&gt;&lt;type name=&quot;uint32&quot; package=&quot;package0&quot;&gt;&lt;/type&gt;&lt;value&gt;100&lt;/value&gt;&lt;/data&gt;&lt;data name=&quot;call_stack&quot;&gt;&lt;type name=&quot;callstack&quot; package=&quot;package0&quot;&gt;&lt;/type&gt;&lt;value&gt;&lt;![CDATA[]]&gt;&lt;/value&gt;&lt;/data&gt;&lt;/event&gt;&lt;event name=&quot;security_error_ring_buffer_recorded&quot; package=&quot;sqlserver&quot; timestamp=&quot;2019-08-26T16:58:14.066Z&quot;&gt;&lt;data name=&quot;id&quot;&gt;&lt;type name=&quot;uint32&quot; package=&quot;package0&quot;&gt;&lt;/type&gt;&lt;value&gt;0&lt;/value&gt;&lt;/data&gt;&lt;data name=&quot;timestamp&quot;&gt;&lt;type name=&quot;uint64&quot; package=&quot;package0&quot;&gt;&lt;/type&gt;&lt;value&gt;0&lt;/value&gt;&lt;/data&gt;&lt;data name=&quot;session_id&quot;&gt;&lt;type name=&quot;int16&quot; package=&quot;package0&quot;&gt;&lt;/type&gt;&lt;value&gt;75&lt;/value&gt;&lt;/data&gt;&lt;data name=&quot;error_code&quot;&gt;&lt;type name=&quot;uint32&quot; package=&quot;package0&quot;&gt;&lt;/type&gt;&lt;value&gt;5023&lt;/value&gt;&lt;/data&gt;&lt;data name=&quot;api_name&quot;&gt;&lt;type name=&quot;unicode_string&quot; package=&quot;package0&quot;&gt;&lt;/type&gt;&lt;value&gt;&lt;![CDATA[ImpersonateSecurityContext]]&gt;&lt;/value&gt;&lt;/data&gt;&lt;data name=&quot;calling_api_name&quot;&gt;&lt;type name=&quot;unicode_string&quot; package=&quot;package0&quot;&gt;&lt;/type&gt;&lt;value&gt;&lt;![CDATA[NLShimImpersonate]]&gt;&lt;/value&gt;&lt;/data&gt;&lt;data name=&quot;call_stack&quot;&gt;&lt;type name=&quot;callstack&quot; package=&quot;package0&quot;&gt;&lt;/type&gt;&lt;value&gt;&lt;![CDATA[]]&gt;&lt;/value&gt;&lt;/data&gt;&lt;/event&gt;&lt;event name=&quot;security_error_ring_buffer_recorded&quot; package=&quot;sqlserver&quot; timestamp=&quot;2019-08-26T16:58:29.707Z&quot;&gt;&lt;data name=&quot;id&quot;&gt;&lt;type name=&quot;uint32&quot; package=&quot;package0&quot;&gt;&lt;/type&gt;&lt;value&gt;0&lt;/value&gt;&lt;/data&gt;&lt;data name=&quot;timestamp&quot;&gt;&lt;type name=&quot;uint64&quot; package=&quot;package0&quot;&gt;&lt;/type&gt;&lt;value&gt;0&lt;/value&gt;&lt;/data&gt;&lt;data name=&quot;session_id&quot;&gt;&lt;type name=&quot;int16&quot; package=&quot;package0&quot;&gt;&lt;/type&gt;&lt;value&gt;58&lt;/value&gt;&lt;/data&gt;&lt;data name=&quot;error_code&quot;&gt;&lt;type name=&quot;uint32&quot; package=&quot;package0&quot;&gt;&lt;/type&gt;&lt;value&gt;5023&lt;/value&gt;&lt;/data&gt;&lt;data name=&quot;api_name&quot;&gt;&lt;type name=&quot;unicode_string&quot; package=&quot;package0&quot;&gt;&lt;/type&gt;&lt;value&gt;&lt;![CDATA[ImpersonateSecurityContext]]&gt;&lt;/value&gt;&lt;/data&gt;&lt;data name=&quot;calling_api_name&quot;&gt;&lt;type name=&quot;unicode_string&quot; package=&quot;package0&quot;&gt;&lt;/type&gt;&lt;value&gt;&lt;![CDATA[NLShimImpersonate]]&gt;&lt;/value&gt;&lt;/data&gt;&lt;data name=&quot;call_stack&quot;&gt;&lt;type name=&quot;callstack&quot; package=&quot;package0&quot;&gt;&lt;/type&gt;&lt;value&gt;&lt;![CDATA[]]&gt;&lt;/value&gt;&lt;/data&gt;&lt;/event&gt;&lt;event name=&quot;security_error_ring_buffer_recorded&quot; package=&quot;sqlserver&quot; timestamp=&quot;2019-08-26T16:58:32.436Z&quot;&gt;&lt;data name=&quot;id&quot;&gt;&lt;type name=&quot;uint32&quot; package=&quot;package0&quot;&gt;&lt;/type&gt;&lt;value&gt;0&lt;/value&gt;&lt;/data&gt;&lt;data name=&quot;timestamp&quot;&gt;&lt;type name=&quot;uint64&quot; package=&quot;package0&quot;&gt;&lt;/type&gt;&lt;value&gt;0&lt;/value&gt;&lt;/data&gt;&lt;data name=&quot;session_id&quot;&gt;&lt;type name=&quot;int16&quot; package=&quot;package0&quot;&gt;&lt;/type&gt;&lt;value&gt;58&lt;/value&gt;&lt;/data&gt;&lt;data name=&quot;error_code&quot;&gt;&lt;type name=&quot;uint32&quot; package=&quot;package0&quot;&gt;&lt;/type&gt;&lt;value&gt;5023&lt;/value&gt;&lt;/data&gt;&lt;data name=&quot;api_name&quot;&gt;&lt;type name=&quot;unicode_string&quot; package=&quot;package0&quot;&gt;&lt;/type&gt;&lt;value&gt;&lt;![CDATA[ImpersonateSecurityContext]]&gt;&lt;/value&gt;&lt;/data&gt;&lt;data name=&quot;calling_api_name&quot;&gt;&lt;type name=&quot;unicode_string&quot; package=&quot;package0&quot;&gt;&lt;/type&gt;&lt;value&gt;&lt;![CDATA[NLShimImpersonate]]&gt;&lt;/value&gt;&lt;/data&gt;&lt;data name=&quot;call_stack&quot;&gt;&lt;type name=&quot;callstack&quot; package=&quot;package0&quot;&gt;&lt;/type&gt;&lt;value&gt;&lt;![CDATA[]]&gt;&lt;/value&gt;&lt;/data&gt;&lt;/event&gt;&lt;event name=&quot;security_error_ring_buffer_recorded&quot; package=&quot;sqlserver&quot; timestamp=&quot;2019-08-26T16:58:32.574Z&quot;&gt;&lt;data name=&quot;id&quot;&gt;&lt;type name=&quot;uint32&quot; package=&quot;package0&quot;&gt;&lt;/type&gt;&lt;value&gt;0&lt;/value&gt;&lt;/data&gt;&lt;data name=&quot;timestamp&quot;&gt;&lt;type name=&quot;uint64&quot; package=&quot;package0&quot;&gt;&lt;/type&gt;&lt;value&gt;0&lt;/value&gt;&lt;/data&gt;&lt;data name=&quot;session_id&quot;&gt;&lt;type name=&quot;int16&quot; package=&quot;package0&quot;&gt;&lt;/type&gt;&lt;value&gt;58&lt;/value&gt;&lt;/data&gt;&lt;data name=&quot;error_code&quot;&gt;&lt;type name=&quot;uint32&quot; package=&quot;package0&quot;&gt;&lt;/type&gt;&lt;value&gt;5023&lt;/value&gt;&lt;/data&gt;&lt;data name=&quot;api_name&quot;&gt;&lt;type name=&quot;unicode_string&quot; package=&quot;package0&quot;&gt;&lt;/type&gt;&lt;value&gt;&lt;![CDATA[ImpersonateSecurityContext]]&gt;&lt;/value&gt;&lt;/data&gt;&lt;data name=&quot;calling_api_name&quot;&gt;&lt;type name=&quot;unicode_string&quot; package=&quot;package0&quot;&gt;&lt;/type&gt;&lt;value&gt;&lt;![CDATA[NLShimImpersonate]]&gt;&lt;/value&gt;&lt;/data&gt;&lt;data name=&quot;call_stack&quot;&gt;&lt;type name=&quot;callstack&quot; package=&quot;package0&quot;&gt;&lt;/type&gt;&lt;value&gt;&lt;![CDATA[]]&gt;&lt;/value&gt;&lt;/data&gt;&lt;/event&gt;&lt;event name=&quot;security_error_ring_buffer_recorded&quot; package=&quot;sqlserver&quot; timestamp=&quot;2019-08-26T16:58:32.935Z&quot;&gt;&lt;data name=&quot;id&quot;&gt;&lt;type name=&quot;uint32&quot; package=&quot;package0&quot;&gt;&lt;/type&gt;&lt;value&gt;0&lt;/value&gt;&lt;/data&gt;&lt;data name=&quot;timestamp&quot;&gt;&lt;type name=&quot;uint64&quot; package=&quot;package0&quot;&gt;&lt;/type&gt;&lt;value&gt;0&lt;/value&gt;&lt;/data&gt;&lt;data name=&quot;session_id&quot;&gt;&lt;type name=&quot;int16&quot; package=&quot;package0&quot;&gt;&lt;/type&gt;&lt;value&gt;58&lt;/value&gt;&lt;/data&gt;&lt;data name=&quot;error_code&quot;&gt;&lt;type name=&quot;uint32&quot; package=&quot;package0&quot;&gt;&lt;/type&gt;&lt;value&gt;5023&lt;/value&gt;&lt;/data&gt;&lt;data name=&quot;api_name&quot;&gt;&lt;type name=&quot;unicode_string&quot; package=&quot;package0&quot;&gt;&lt;/type&gt;&lt;value&gt;&lt;![CDATA[ImpersonateSecurityContext]]&gt;&lt;/value&gt;&lt;/data&gt;&lt;data name=&quot;calling_api_name&quot;&gt;&lt;type name=&quot;unicode_string&quot; package=&quot;package0&quot;&gt;&lt;/type&gt;&lt;value&gt;&lt;![CDATA[NLShimImpersonate]]&gt;&lt;/value&gt;&lt;/data&gt;&lt;data name=&quot;call_stack&quot;&gt;&lt;type name=&quot;callstack&quot; package=&quot;package0&quot;&gt;&lt;/type&gt;&lt;value&gt;&lt;![CDATA[]]&gt;&lt;/value&gt;&lt;/data&gt;&lt;/event&gt;&lt;event name=&quot;security_error_ring_buffer_recorded&quot; package=&quot;sqlserver&quot; timestamp=&quot;2019-08-26T16:58:36.563Z&quot;&gt;&lt;data name=&quot;id&quot;&gt;&lt;type name=&quot;uint32&quot; package=&quot;package0&quot;&gt;&lt;/type&gt;&lt;value&gt;0&lt;/value&gt;&lt;/data&gt;&lt;data name=&quot;timestamp&quot;&gt;&lt;type name=&quot;uint64&quot; package=&quot;package0&quot;&gt;&lt;/type&gt;&lt;value&gt;0&lt;/value&gt;&lt;/data&gt;&lt;data name=&quot;session_id&quot;&gt;&lt;type name=&quot;int16&quot; package=&quot;package0&quot;&gt;&lt;/type&gt;&lt;value&gt;58&lt;/value&gt;&lt;/data&gt;&lt;data name=&quot;error_code&quot;&gt;&lt;type name=&quot;uint32&quot; package=&quot;package0&quot;&gt;&lt;/type&gt;&lt;value&gt;5023&lt;/value&gt;&lt;/data&gt;&lt;data name=&quot;api_name&quot;&gt;&lt;type name=&quot;unicode_string&quot; package=&quot;package0&quot;&gt;&lt;/type&gt;&lt;value&gt;&lt;![CDATA[ImpersonateSecurityContext]]&gt;&lt;/value&gt;&lt;/data&gt;&lt;data name=&quot;calling_api_name&quot;&gt;&lt;type name=&quot;unicode_string&quot; package=&quot;package0&quot;&gt;&lt;/type&gt;&lt;value&gt;&lt;![CDATA[NLShimImpersonate]]&gt;&lt;/value&gt;&lt;/data&gt;&lt;data name=&quot;call_stack&quot;&gt;&lt;type name=&quot;callstack&quot; package=&quot;package0&quot;&gt;&lt;/type&gt;&lt;value&gt;&lt;![CDATA[]]&gt;&lt;/value&gt;&lt;/data&gt;&lt;/event&gt;&lt;event name=&quot;security_error_ring_buffer_recorded&quot; package=&quot;sqlserver&quot; timestamp=&quot;2019-08-26T16:58:37.099Z&quot;&gt;&lt;data name=&quot;id&quot;&gt;&lt;type name=&quot;uint32&quot; package=&quot;package0&quot;&gt;&lt;/type&gt;&lt;value&gt;0&lt;/value&gt;&lt;/data&gt;&lt;data name=&quot;timestamp&quot;&gt;&lt;type name=&quot;uint64&quot; package=&quot;package0&quot;&gt;&lt;/type&gt;&lt;value&gt;0&lt;/value&gt;&lt;/data&gt;&lt;data name=&quot;session_id&quot;&gt;&lt;type name=&quot;int16&quot; package=&quot;package0&quot;&gt;&lt;/type&gt;&lt;value&gt;75&lt;/value&gt;&lt;/data&gt;&lt;data name=&quot;error_code&quot;&gt;&lt;type name=&quot;uint32&quot; package=&quot;package0&quot;&gt;&lt;/type&gt;&lt;value&gt;5023&lt;/value&gt;&lt;/data&gt;&lt;data name=&quot;api_name&quot;&gt;&lt;type name=&quot;unicode_string&quot; package=&quot;package0&quot;&gt;&lt;/type&gt;&lt;value&gt;&lt;![CDATA[ImpersonateSecurityContext]]&gt;&lt;/value&gt;&lt;/data&gt;&lt;data name=&quot;calling_api_name&quot;&gt;&lt;type name=&quot;unicode_string&quot; package=&quot;package0&quot;&gt;&lt;/type&gt;&lt;value&gt;&lt;![CDATA[NLShimImpersonate]]&gt;&lt;/value&gt;&lt;/data&gt;&lt;data name=&quot;call_stack&quot;&gt;&lt;type name=&quot;callstack&quot; package=&quot;package0&quot;&gt;&lt;/type&gt;&lt;value&gt;&lt;![CDATA[]]&gt;&lt;/value&gt;&lt;/data&gt;&lt;/event&gt;&lt;event name=&quot;security_error_ring_buffer_recorded&quot; package=&quot;sqlserver&quot; timestamp=&quot;2019-08-26T16:58:37.197Z&quot;&gt;&lt;data name=&quot;id&quot;&gt;&lt;type name=&quot;uint32&quot; package=&quot;package0&quot;&gt;&lt;/type&gt;&lt;value&gt;0&lt;/value&gt;&lt;/data&gt;&lt;data name=&quot;timestamp&quot;&gt;&lt;type name=&quot;uint64&quot; package=&quot;package0&quot;&gt;&lt;/type&gt;&lt;value&gt;0&lt;/value&gt;&lt;/data&gt;&lt;data name=&quot;session_id&quot;&gt;&lt;type name=&quot;int16&quot; package=&quot;package0&quot;&gt;&lt;/type&gt;&lt;value&gt;77&lt;/value&gt;&lt;/data&gt;&lt;data name=&quot;error_code&quot;&gt;&lt;type name=&quot;uint32&quot; package=&quot;package0&quot;&gt;&lt;/type&gt;&lt;value&gt;5023&lt;/value&gt;&lt;/data&gt;&lt;data name=&quot;api_name&quot;&gt;&lt;type name=&quot;unicode_string&quot; package=&quot;package0&quot;&gt;&lt;/type&gt;&lt;value&gt;&lt;![CDATA[ImpersonateSecurityContext]]&gt;&lt;/value&gt;&lt;/data&gt;&lt;data name=&quot;calling_api_name&quot;&gt;&lt;type name=&quot;unicode_string&quot; package=&quot;package0&quot;&gt;&lt;/type&gt;&lt;value&gt;&lt;![CDATA[NLShimImpersonate]]&gt;&lt;/value&gt;&lt;/data&gt;&lt;data name=&quot;call_stack&quot;&gt;&lt;type name=&quot;callstack&quot; package=&quot;package0&quot;&gt;&lt;/type&gt;&lt;value&gt;&lt;![CDATA[]]&gt;&lt;/value&gt;&lt;/data&gt;&lt;/event&gt;&lt;event name=&quot;security_error_ring_buffer_recorded&quot; package=&quot;sqlserver&quot; timestamp=&quot;2019-08-26T16:58:37.306Z&quot;&gt;&lt;data name=&quot;id&quot;&gt;&lt;type name=&quot;uint32&quot; package=&quot;package0&quot;&gt;&lt;/type&gt;&lt;value&gt;0&lt;/value&gt;&lt;/data&gt;&lt;data name=&quot;timestamp&quot;&gt;&lt;type name=&quot;uint64&quot; package=&quot;package0&quot;&gt;&lt;/type&gt;&lt;value&gt;0&lt;/value&gt;&lt;/data&gt;&lt;data name=&quot;session_id&quot;&gt;&lt;type name=&quot;int16&quot; package=&quot;package0&quot;&gt;&lt;/type&gt;&lt;value&gt;77&lt;/value&gt;&lt;/data&gt;&lt;data name=&quot;error_code&quot;&gt;&lt;type name=&quot;uint32&quot; package=&quot;package0&quot;&gt;&lt;/type&gt;&lt;value&gt;5023&lt;/value&gt;&lt;/data&gt;&lt;data name=&quot;api_name&quot;&gt;&lt;type name=&quot;unicode_string&quot; package=&quot;package0&quot;&gt;&lt;/type&gt;&lt;value&gt;&lt;![CDATA[ImpersonateSecurityContext]]&gt;&lt;/value&gt;&lt;/data&gt;&lt;data name=&quot;calling_api_name&quot;&gt;&lt;type name=&quot;unicode_string&quot; package=&quot;package0&quot;&gt;&lt;/type&gt;&lt;value&gt;&lt;![CDATA[NLShimImpersonate]]&gt;&lt;/value&gt;&lt;/data&gt;&lt;data name=&quot;call_stack&quot;&gt;&lt;type name=&quot;callstack&quot; package=&quot;package0&quot;&gt;&lt;/type&gt;&lt;value&gt;&lt;![CDATA[]]&gt;&lt;/value&gt;&lt;/data&gt;&lt;/event&gt;&lt;event name=&quot;security_error_ring_buffer_recorded&quot; package=&quot;sqlserver&quot; timestamp=&quot;2019-08-26T16:58:38.454Z&quot;&gt;&lt;data name=&quot;id&quot;&gt;&lt;type name=&quot;uint32&quot; package=&quot;package0&quot;&gt;&lt;/type&gt;&lt;value&gt;0&lt;/value&gt;&lt;/data&gt;&lt;data name=&quot;timestamp&quot;&gt;&lt;type name=&quot;uint64&quot; package=&quot;package0&quot;&gt;&lt;/type&gt;&lt;value&gt;0&lt;/value&gt;&lt;/data&gt;&lt;data name=&quot;session_id&quot;&gt;&lt;type name=&quot;int16&quot; package=&quot;package0&quot;&gt;&lt;/type&gt;&lt;value&gt;77&lt;/value&gt;&lt;/data&gt;&lt;data name=&quot;error_code&quot;&gt;&lt;type name=&quot;uint32&quot; package=&quot;package0&quot;&gt;&lt;/type&gt;&lt;value&gt;5023&lt;/value&gt;&lt;/data&gt;&lt;data name=&quot;api_name&quot;&gt;&lt;type name=&quot;unicode_string&quot; package=&quot;package0&quot;&gt;&lt;/type&gt;&lt;value&gt;&lt;![CDATA[ImpersonateSecurityContext]]&gt;&lt;/value&gt;&lt;/data&gt;&lt;data name=&quot;calling_api_name&quot;&gt;&lt;type name=&quot;unicode_string&quot; package=&quot;package0&quot;&gt;&lt;/type&gt;&lt;value&gt;&lt;![CDATA[NLShimImpersonate]]&gt;&lt;/value&gt;&lt;/data&gt;&lt;data name=&quot;call_stack&quot;&gt;&lt;type name=&quot;callstack&quot; package=&quot;package0&quot;&gt;&lt;/type&gt;&lt;value&gt;&lt;![CDATA[]]&gt;&lt;/value&gt;&lt;/data&gt;&lt;/event&gt;&lt;event name=&quot;security_error_ring_buffer_recorded&quot; package=&quot;sqlserver&quot; timestamp=&quot;2019-08-26T16:58:38.471Z&quot;&gt;&lt;data name=&quot;id&quot;&gt;&lt;type name=&quot;uint32&quot; package=&quot;package0&quot;&gt;&lt;/type&gt;&lt;value&gt;0&lt;/value&gt;&lt;/data&gt;&lt;data name=&quot;timestamp&quot;&gt;&lt;type name=&quot;uint64&quot; package=&quot;package0&quot;&gt;&lt;/type&gt;&lt;value&gt;0&lt;/value&gt;&lt;/data&gt;&lt;data name=&quot;session_id&quot;&gt;&lt;type name=&quot;int16&quot; package=&quot;package0&quot;&gt;&lt;/type&gt;&lt;value&gt;77&lt;/value&gt;&lt;/data&gt;&lt;data name=&quot;error_code&quot;&gt;&lt;type name=&quot;uint32&quot; package=&quot;package0&quot;&gt;&lt;/type&gt;&lt;value&gt;5023&lt;/value&gt;&lt;/data&gt;&lt;data name=&quot;api_name&quot;&gt;&lt;type name=&quot;unicode_string&quot; package=&quot;package0&quot;&gt;&lt;/type&gt;&lt;value&gt;&lt;![CDATA[ImpersonateSecurityContext]]&gt;&lt;/value&gt;&lt;/data&gt;&lt;data name=&quot;calling_api_name&quot;&gt;&lt;type name=&quot;unicode_string&quot; package=&quot;package0&quot;&gt;&lt;/type&gt;&lt;value&gt;&lt;![CDATA[NLShimImpersonate]]&gt;&lt;/value&gt;&lt;/data&gt;&lt;data name=&quot;call_stack&quot;&gt;&lt;type name=&quot;callstack&quot; package=&quot;package0&quot;&gt;&lt;/type&gt;&lt;value&gt;&lt;![CDATA[]]&gt;&lt;/value&gt;&lt;/data&gt;&lt;/event&gt;&lt;event name=&quot;scheduler_monitor_system_health_ring_buffer_recorded&quot; package=&quot;sqlos&quot; timestamp=&quot;2019-08-26T16:58:41.322Z&quot;&gt;&lt;data name=&quot;id&quot;&gt;&lt;type name=&quot;uint32&quot; package=&quot;package0&quot;&gt;&lt;/type&gt;&lt;value&gt;0&lt;/value&gt;&lt;/data&gt;&lt;data name=&quot;timestamp&quot;&gt;&lt;type name=&quot;uint64&quot; package=&quot;package0&quot;&gt;&lt;/type&gt;&lt;value&gt;0&lt;/value&gt;&lt;/data&gt;&lt;data name=&quot;process_utilization&quot;&gt;&lt;type name=&quot;uint32&quot; package=&quot;package0&quot;&gt;&lt;/type&gt;&lt;value&gt;7&lt;/value&gt;&lt;/data&gt;&lt;data name=&quot;system_idle&quot;&gt;&lt;type name=&quot;uint32&quot; package=&quot;package0&quot;&gt;&lt;/type&gt;&lt;value&gt;89&lt;/value&gt;&lt;/data&gt;&lt;data name=&quot;user_mode_time&quot;&gt;&lt;type name=&quot;uint64&quot; package=&quot;package0&quot;&gt;&lt;/type&gt;&lt;value&gt;74687500&lt;/value&gt;&lt;/data&gt;&lt;data name=&quot;kernel_mode_time&quot;&gt;&lt;type name=&quot;uint64&quot; package=&quot;package0&quot;&gt;&lt;/type&gt;&lt;value&gt;12187500&lt;/value&gt;&lt;/data&gt;&lt;data name=&quot;page_faults&quot;&gt;&lt;type name=&quot;uint32&quot; package=&quot;package0&quot;&gt;&lt;/type&gt;&lt;value&gt;2073&lt;/value&gt;&lt;/data&gt;&lt;data name=&quot;working_set_delta&quot;&gt;&lt;type name=&quot;int64&quot; package=&quot;package0&quot;&gt;&lt;/type&gt;&lt;value&gt;6496256&lt;/value&gt;&lt;/data&gt;&lt;data name=&quot;memory_utilization&quot;&gt;&lt;type name=&quot;uint32&quot; package=&quot;package0&quot;&gt;&lt;/type&gt;&lt;value&gt;100&lt;/value&gt;&lt;/data&gt;&lt;data name=&quot;call_stack&quot;&gt;&lt;type name=&quot;callstack&quot; package=&quot;package0&quot;&gt;&lt;/type&gt;&lt;value&gt;&lt;![CDATA[]]&gt;&lt;/value&gt;&lt;/data&gt;&lt;/event&gt;&lt;event name=&quot;security_error_ring_buffer_recorded&quot; package=&quot;sqlserver&quot; timestamp=&quot;2019-08-26T16:59:03.838Z&quot;&gt;&lt;data name=&quot;id&quot;&gt;&lt;type name=&quot;uint32&quot; package=&quot;package0&quot;&gt;&lt;/type&gt;&lt;value&gt;0&lt;/value&gt;&lt;/data&gt;&lt;data name=&quot;timestamp&quot;&gt;&lt;type name=&quot;uint64&quot; package=&quot;package0&quot;&gt;&lt;/type&gt;&lt;value&gt;0&lt;/value&gt;&lt;/data&gt;&lt;data name=&quot;session_id&quot;&gt;&lt;type name=&quot;int16&quot; package=&quot;package0&quot;&gt;&lt;/type&gt;&lt;value&gt;73&lt;/value&gt;&lt;/data&gt;&lt;data name=&quot;error_code&quot;&gt;&lt;type name=&quot;uint32&quot; package=&quot;package0&quot;&gt;&lt;/type&gt;&lt;value&gt;5023&lt;/value&gt;&lt;/data&gt;&lt;data name=&quot;api_name&quot;&gt;&lt;type name=&quot;unicode_string&quot; package=&quot;package0&quot;&gt;&lt;/type&gt;&lt;value&gt;&lt;![CDATA[ImpersonateSecurityContext]]&gt;&lt;/value&gt;&lt;/data&gt;&lt;data name=&quot;calling_api_name&quot;&gt;&lt;type name=&quot;unicode_string&quot; package=&quot;package0&quot;&gt;&lt;/type&gt;&lt;value&gt;&lt;![CDATA[NLShimImpersonate]]&gt;&lt;/value&gt;&lt;/data&gt;&lt;data name=&quot;call_stack&quot;&gt;&lt;type name=&quot;callstack&quot; package=&quot;package0&quot;&gt;&lt;/type&gt;&lt;value&gt;&lt;![CDATA[]]&gt;&lt;/value&gt;&lt;/data&gt;&lt;/event&gt;&lt;event name=&quot;security_error_ring_buffer_recorded&quot; package=&quot;sqlserver&quot; timestamp=&quot;2019-08-26T16:59:04.095Z&quot;&gt;&lt;data name=&quot;id&quot;&gt;&lt;type name=&quot;uint32&quot; package=&quot;package0&quot;&gt;&lt;/type&gt;&lt;value&gt;0&lt;/value&gt;&lt;/data&gt;&lt;data name=&quot;timestamp&quot;&gt;&lt;type name=&quot;uint64&quot; package=&quot;package0&quot;&gt;&lt;/type&gt;&lt;value&gt;0&lt;/value&gt;&lt;/data&gt;&lt;data name=&quot;session_id&quot;&gt;&lt;type name=&quot;int16&quot; package=&quot;package0&quot;&gt;&lt;/type&gt;&lt;value&gt;73&lt;/value&gt;&lt;/data&gt;&lt;data name=&quot;error_code&quot;&gt;&lt;type name=&quot;uint32&quot; package=&quot;package0&quot;&gt;&lt;/type&gt;&lt;value&gt;5023&lt;/value&gt;&lt;/data&gt;&lt;data name=&quot;api_name&quot;&gt;&lt;type name=&quot;unicode_string&quot; package=&quot;package0&quot;&gt;&lt;/type&gt;&lt;value&gt;&lt;![CDATA[ImpersonateSecurityContext]]&gt;&lt;/value&gt;&lt;/data&gt;&lt;data name=&quot;calling_api_name&quot;&gt;&lt;type name=&quot;unicode_string&quot; package=&quot;package0&quot;&gt;&lt;/type&gt;&lt;value&gt;&lt;![CDATA[NLShimImpersonate]]&gt;&lt;/value&gt;&lt;/data&gt;&lt;data name=&quot;call_stack&quot;&gt;&lt;type name=&quot;callstack&quot; package=&quot;package0&quot;&gt;&lt;/type&gt;&lt;value&gt;&lt;![CDATA[]]&gt;&lt;/value&gt;&lt;/data&gt;&lt;/event&gt;&lt;event name=&quot;scheduler_monitor_system_health_ring_buffer_recorded&quot; package=&quot;sqlos&quot; timestamp=&quot;2019-08-26T16:59:41.331Z&quot;&gt;&lt;data name=&quot;id&quot;&gt;&lt;type name=&quot;uint32&quot; package=&quot;package0&quot;&gt;&lt;/type&gt;&lt;value&gt;0&lt;/value&gt;&lt;/data&gt;&lt;data name=&quot;timestamp&quot;&gt;&lt;type name=&quot;uint64&quot; package=&quot;package0&quot;&gt;&lt;/type&gt;&lt;value&gt;0&lt;/value&gt;&lt;/data&gt;&lt;data name=&quot;process_utilization&quot;&gt;&lt;type name=&quot;uint32&quot; package=&quot;package0&quot;&gt;&lt;/type&gt;&lt;value&gt;3&lt;/value&gt;&lt;/data&gt;&lt;data name=&quot;system_idle&quot;&gt;&lt;type name=&quot;uint32&quot; package=&quot;package0&quot;&gt;&lt;/type&gt;&lt;value&gt;94&lt;/value&gt;&lt;/data&gt;&lt;data name=&quot;user_mode_time&quot;&gt;&lt;type name=&quot;uint64&quot; package=&quot;package0&quot;&gt;&lt;/type&gt;&lt;value&gt;27656250&lt;/value&gt;&lt;/data&gt;&lt;data name=&quot;kernel_mode_time&quot;&gt;&lt;type name=&quot;uint64&quot; package=&quot;package0&quot;&gt;&lt;/type&gt;&lt;value&gt;10625000&lt;/value&gt;&lt;/data&gt;&lt;data name=&quot;page_faults&quot;&gt;&lt;type name=&quot;uint32&quot; package=&quot;package0&quot;&gt;&lt;/type&gt;&lt;value&gt;13&lt;/value&gt;&lt;/data&gt;&lt;data name=&quot;working_set_delta&quot;&gt;&lt;type name=&quot;int64&quot; package=&quot;package0&quot;&gt;&lt;/type&gt;&lt;value&gt;45056&lt;/value&gt;&lt;/data&gt;&lt;data name=&quot;memory_utilization&quot;&gt;&lt;type name=&quot;uint32&quot; package=&quot;package0&quot;&gt;&lt;/type&gt;&lt;value&gt;100&lt;/value&gt;&lt;/data&gt;&lt;data name=&quot;call_stack&quot;&gt;&lt;type name=&quot;callstack&quot; package=&quot;package0&quot;&gt;&lt;/type&gt;&lt;value&gt;&lt;![CDATA[]]&gt;&lt;/value&gt;&lt;/data&gt;&lt;/event&gt;&lt;event name=&quot;security_error_ring_buffer_recorded&quot; package=&quot;sqlserver&quot; timestamp=&quot;2019-08-26T17:00:05.936Z&quot;&gt;&lt;data name=&quot;id&quot;&gt;&lt;type name=&quot;uint32&quot; package=&quot;package0&quot;&gt;&lt;/type&gt;&lt;value&gt;0&lt;/value&gt;&lt;/data&gt;&lt;data name=&quot;timestamp&quot;&gt;&lt;type name=&quot;uint64&quot; package=&quot;package0&quot;&gt;&lt;/type&gt;&lt;value&gt;0&lt;/value&gt;&lt;/data&gt;&lt;data name=&quot;session_id&quot;&gt;&lt;type name=&quot;int16&quot; package=&quot;package0&quot;&gt;&lt;/type&gt;&lt;value&gt;75&lt;/value&gt;&lt;/data&gt;&lt;data name=&quot;error_code&quot;&gt;&lt;type name=&quot;uint32&quot; package=&quot;package0&quot;&gt;&lt;/type&gt;&lt;value&gt;5023&lt;/value&gt;&lt;/data&gt;&lt;data name=&quot;api_name&quot;&gt;&lt;type name=&quot;unicode_string&quot; package=&quot;package0&quot;&gt;&lt;/type&gt;&lt;value&gt;&lt;![CDATA[ImpersonateSecurityContext]]&gt;&lt;/value&gt;&lt;/data&gt;&lt;data name=&quot;calling_api_name&quot;&gt;&lt;type name=&quot;unicode_string&quot; package=&quot;package0&quot;&gt;&lt;/type&gt;&lt;value&gt;&lt;![CDATA[NLShimImpersonate]]&gt;&lt;/value&gt;&lt;/data&gt;&lt;data name=&quot;call_stack&quot;&gt;&lt;type name=&quot;callstack&quot; package=&quot;package0&quot;&gt;&lt;/type&gt;&lt;value&gt;&lt;![CDATA[]]&gt;&lt;/value&gt;&lt;/data&gt;&lt;/event&gt;&lt;event name=&quot;security_error_ring_buffer_recorded&quot; package=&quot;sqlserver&quot; timestamp=&quot;2019-08-26T17:00:05.948Z&quot;&gt;&lt;data name=&quot;id&quot;&gt;&lt;type name=&quot;uint32&quot; package=&quot;package0&quot;&gt;&lt;/type&gt;&lt;value&gt;0&lt;/value&gt;&lt;/data&gt;&lt;data name=&quot;timestamp&quot;&gt;&lt;type name=&quot;uint64&quot; package=&quot;package0&quot;&gt;&lt;/type&gt;&lt;value&gt;0&lt;/value&gt;&lt;/data&gt;&lt;data name=&quot;session_id&quot;&gt;&lt;type name=&quot;int16&quot; package=&quot;package0&quot;&gt;&lt;/type&gt;&lt;value&gt;75&lt;/value&gt;&lt;/data&gt;&lt;data name=&quot;error_code&quot;&gt;&lt;type name=&quot;uint32&quot; package=&quot;package0&quot;&gt;&lt;/type&gt;&lt;value&gt;5023&lt;/value&gt;&lt;/data&gt;&lt;data name=&quot;api_name&quot;&gt;&lt;type name=&quot;unicode_string&quot; package=&quot;package0&quot;&gt;&lt;/type&gt;&lt;value&gt;&lt;![CDATA[ImpersonateSecurityContext]]&gt;&lt;/value&gt;&lt;/data&gt;&lt;data name=&quot;calling_api_name&quot;&gt;&lt;type name=&quot;unicode_string&quot; package=&quot;package0&quot;&gt;&lt;/type&gt;&lt;value&gt;&lt;![CDATA[NLShimImpersonate]]&gt;&lt;/value&gt;&lt;/data&gt;&lt;data name=&quot;call_stack&quot;&gt;&lt;type name=&quot;callstack&quot; package=&quot;package0&quot;&gt;&lt;/type&gt;&lt;value&gt;&lt;![CDATA[]]&gt;&lt;/value&gt;&lt;/data&gt;&lt;/event&gt;&lt;event name=&quot;security_error_ring_buffer_recorded&quot; package=&quot;sqlserver&quot; timestamp=&quot;2019-08-26T17:00:06.157Z&quot;&gt;&lt;data name=&quot;id&quot;&gt;&lt;type name=&quot;uint32&quot; package=&quot;package0&quot;&gt;&lt;/type&gt;&lt;value&gt;0&lt;/value&gt;&lt;/data&gt;&lt;data name=&quot;timestamp&quot;&gt;&lt;type name=&quot;uint64&quot; package=&quot;package0&quot;&gt;&lt;/type&gt;&lt;value&gt;0&lt;/value&gt;&lt;/data&gt;&lt;data name=&quot;session_id&quot;&gt;&lt;type name=&quot;int16&quot; package=&quot;package0&quot;&gt;&lt;/type&gt;&lt;value&gt;75&lt;/value&gt;&lt;/data&gt;&lt;data name=&quot;error_code&quot;&gt;&lt;type name=&quot;uint32&quot; package=&quot;package0&quot;&gt;&lt;/type&gt;&lt;value&gt;5023&lt;/value&gt;&lt;/data&gt;&lt;data name=&quot;api_name&quot;&gt;&lt;type name=&quot;unicode_string&quot; package=&quot;package0&quot;&gt;&lt;/type&gt;&lt;value&gt;&lt;![CDATA[ImpersonateSecurityContext]]&gt;&lt;/value&gt;&lt;/data&gt;&lt;data name=&quot;calling_api_name&quot;&gt;&lt;type name=&quot;unicode_string&quot; package=&quot;package0&quot;&gt;&lt;/type&gt;&lt;value&gt;&lt;![CDATA[NLShimImpersonate]]&gt;&lt;/value&gt;&lt;/data&gt;&lt;data name=&quot;call_stack&quot;&gt;&lt;type name=&quot;callstack&quot; package=&quot;package0&quot;&gt;&lt;/type&gt;&lt;value&gt;&lt;![CDATA[]]&gt;&lt;/value&gt;&lt;/data&gt;&lt;/event&gt;&lt;event name=&quot;security_error_ring_buffer_recorded&quot; package=&quot;sqlserver&quot; timestamp=&quot;2019-08-26T17:00:18.335Z&quot;&gt;&lt;data name=&quot;id&quot;&gt;&lt;type name=&quot;uint32&quot; package=&quot;package0&quot;&gt;&lt;/type&gt;&lt;value&gt;0&lt;/value&gt;&lt;/data&gt;&lt;data name=&quot;timestamp&quot;&gt;&lt;type name=&quot;uint64&quot; package=&quot;package0&quot;&gt;&lt;/type&gt;&lt;value&gt;0&lt;/value&gt;&lt;/data&gt;&lt;data name=&quot;session_id&quot;&gt;&lt;type name=&quot;int16&quot; package=&quot;package0&quot;&gt;&lt;/type&gt;&lt;value&gt;77&lt;/value&gt;&lt;/data&gt;&lt;data name=&quot;error_code&quot;&gt;&lt;type name=&quot;uint32&quot; package=&quot;package0&quot;&gt;&lt;/type&gt;&lt;value&gt;5023&lt;/value&gt;&lt;/data&gt;&lt;data name=&quot;api_name&quot;&gt;&lt;type name=&quot;unicode_string&quot; package=&quot;package0&quot;&gt;&lt;/type&gt;&lt;value&gt;&lt;![CDATA[ImpersonateSecurityContext]]&gt;&lt;/value&gt;&lt;/data&gt;&lt;data name=&quot;calling_api_name&quot;&gt;&lt;type name=&quot;unicode_string&quot; package=&quot;package0&quot;&gt;&lt;/type&gt;&lt;value&gt;&lt;![CDATA[NLShimImpersonate]]&gt;&lt;/value&gt;&lt;/data&gt;&lt;data name=&quot;call_stack&quot;&gt;&lt;type name=&quot;callstack&quot; package=&quot;package0&quot;&gt;&lt;/type&gt;&lt;value&gt;&lt;![CDATA[]]&gt;&lt;/value&gt;&lt;/data&gt;&lt;/event&gt;&lt;/RingBufferTarget&gt;&lt;/session&gt;&lt;/events&gt;</td></tr></table>"
                    }
                },
                {
                    "output_type": "execute_result",
                    "metadata": {},
                    "execution_count": 5,
                    "data": {
                        "application/vnd.dataresource+json": {
                            "schema": {
                                "fields": [
                                    {
                                        "name": "listener_id"
                                    },
                                    {
                                        "name": "ip_address"
                                    },
                                    {
                                        "name": "ip_subnet_mask"
                                    },
                                    {
                                        "name": "is_dhcp"
                                    },
                                    {
                                        "name": "network_subnet_ip"
                                    },
                                    {
                                        "name": "network_subnet_prefix_length"
                                    },
                                    {
                                        "name": "network_subnet_ipv4_mask"
                                    },
                                    {
                                        "name": "state"
                                    },
                                    {
                                        "name": "state_desc"
                                    }
                                ]
                            },
                            "data": [
                                {
                                    "0": "85680de2-3bb0-41f7-85eb-2734a0529661",
                                    "1": "192.168.0.111",
                                    "2": "255.255.255.0",
                                    "3": "0",
                                    "4": "192.168.0.0",
                                    "5": "24",
                                    "6": "255.255.255.0",
                                    "7": "1",
                                    "8": "ONLINE"
                                }
                            ]
                        },
                        "text/html": "<table><tr><th>listener_id</th><th>ip_address</th><th>ip_subnet_mask</th><th>is_dhcp</th><th>network_subnet_ip</th><th>network_subnet_prefix_length</th><th>network_subnet_ipv4_mask</th><th>state</th><th>state_desc</th></tr><tr><td>85680de2-3bb0-41f7-85eb-2734a0529661</td><td>192.168.0.111</td><td>255.255.255.0</td><td>0</td><td>192.168.0.0</td><td>24</td><td>255.255.255.0</td><td>1</td><td>ONLINE</td></tr></table>"
                    }
                }
            ],
            "execution_count": 5
        }
    ]
}